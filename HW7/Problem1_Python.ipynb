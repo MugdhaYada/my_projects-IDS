{
  "nbformat": 4,
  "nbformat_minor": 0,
  "metadata": {
    "colab": {
      "name": "Problem1_Python.ipynb",
      "provenance": [],
      "collapsed_sections": [],
      "authorship_tag": "ABX9TyN7ttZOaok2b8i+JRR4eSaC",
      "include_colab_link": true
    },
    "kernelspec": {
      "name": "python3",
      "display_name": "Python 3"
    },
    "language_info": {
      "name": "python"
    }
  },
  "cells": [
    {
      "cell_type": "markdown",
      "metadata": {
        "id": "view-in-github",
        "colab_type": "text"
      },
      "source": [
        "<a href=\"https://colab.research.google.com/github/MugdhaYada/my_projects-IDS/blob/main/HW7/Problem1_Python.ipynb\" target=\"_parent\"><img src=\"https://colab.research.google.com/assets/colab-badge.svg\" alt=\"Open In Colab\"/></a>"
      ]
    },
    {
      "cell_type": "code",
      "execution_count": 1,
      "metadata": {
        "id": "J2soMkt-OOlC"
      },
      "outputs": [],
      "source": [
        "#Importing the necessary libraries\n",
        "import pandas as pd\n",
        "import numpy as np\n",
        "import matplotlib.pyplot as plt"
      ]
    },
    {
      "cell_type": "code",
      "source": [
        "#Reading the data file\n",
        "dermatology_data = pd.read_csv(\"https://raw.githubusercontent.com/MugdhaYada/my_projects-IDS/main/HW7/dermatology.csv\")\n",
        "dermatology_data"
      ],
      "metadata": {
        "colab": {
          "base_uri": "https://localhost:8080/",
          "height": 505
        },
        "id": "3jBXTnKuYD2f",
        "outputId": "5f4ae2fa-bc20-410d-b21d-44431edda5e5"
      },
      "execution_count": 2,
      "outputs": [
        {
          "output_type": "execute_result",
          "data": {
            "text/plain": [
              "     erythema  scaling  definite_borders  itching  koebner_phenomenon  \\\n",
              "0           2        2                 0        3                   0   \n",
              "1           3        3                 3        2                   1   \n",
              "2           2        1                 2        3                   1   \n",
              "3           2        2                 2        0                   0   \n",
              "4           2        3                 2        2                   2   \n",
              "..        ...      ...               ...      ...                 ...   \n",
              "361         2        1                 1        0                   1   \n",
              "362         3        2                 1        0                   1   \n",
              "363         3        2                 2        2                   3   \n",
              "364         2        1                 3        1                   2   \n",
              "365         3        2                 2        0                   0   \n",
              "\n",
              "     polygonal_papules  follicular_papules  oral_mucosal_involvement  \\\n",
              "0                    0                   0                         0   \n",
              "1                    0                   0                         0   \n",
              "2                    3                   0                         3   \n",
              "3                    0                   0                         0   \n",
              "4                    2                   0                         2   \n",
              "..                 ...                 ...                       ...   \n",
              "361                  0                   0                         0   \n",
              "362                  0                   0                         0   \n",
              "363                  2                   0                         2   \n",
              "364                  3                   0                         2   \n",
              "365                  0                   0                         0   \n",
              "\n",
              "     knee_and_elbow_involvement  scalp_involvement  ...  \\\n",
              "0                             1                  0  ...   \n",
              "1                             1                  1  ...   \n",
              "2                             0                  0  ...   \n",
              "3                             3                  2  ...   \n",
              "4                             0                  0  ...   \n",
              "..                          ...                ...  ...   \n",
              "361                           0                  0  ...   \n",
              "362                           0                  0  ...   \n",
              "363                           0                  0  ...   \n",
              "364                           0                  0  ...   \n",
              "365                           3                  3  ...   \n",
              "\n",
              "     disappearance_of_the_granular_layer  \\\n",
              "0                                      0   \n",
              "1                                      0   \n",
              "2                                      0   \n",
              "3                                      3   \n",
              "4                                      2   \n",
              "..                                   ...   \n",
              "361                                    0   \n",
              "362                                    1   \n",
              "363                                    0   \n",
              "364                                    0   \n",
              "365                                    2   \n",
              "\n",
              "     vacuolisation_and_damage_of_basal_layer  spongiosis  \\\n",
              "0                                          0           3   \n",
              "1                                          0           0   \n",
              "2                                          2           3   \n",
              "3                                          0           0   \n",
              "4                                          3           2   \n",
              "..                                       ...         ...   \n",
              "361                                        0           1   \n",
              "362                                        0           1   \n",
              "363                                        3           0   \n",
              "364                                        2           0   \n",
              "365                                        0           0   \n",
              "\n",
              "     saw-tooth_appearance_of_retes  follicular_horn_plug  \\\n",
              "0                                0                     0   \n",
              "1                                0                     0   \n",
              "2                                2                     0   \n",
              "3                                0                     0   \n",
              "4                                3                     0   \n",
              "..                             ...                   ...   \n",
              "361                              0                     0   \n",
              "362                              0                     0   \n",
              "363                              3                     0   \n",
              "364                              1                     0   \n",
              "365                              0                     0   \n",
              "\n",
              "     perifollicular_parakeratosis  inflammatory_monoluclear_inflitrate  \\\n",
              "0                               0                                    1   \n",
              "1                               0                                    1   \n",
              "2                               0                                    2   \n",
              "3                               0                                    3   \n",
              "4                               0                                    2   \n",
              "..                            ...                                  ...   \n",
              "361                             0                                    2   \n",
              "362                             0                                    2   \n",
              "363                             0                                    2   \n",
              "364                             0                                    2   \n",
              "365                             0                                    3   \n",
              "\n",
              "     band-like_infiltrate   age  class  \n",
              "0                       0  55.0      2  \n",
              "1                       0   8.0      1  \n",
              "2                       3  26.0      3  \n",
              "3                       0  40.0      1  \n",
              "4                       3  45.0      3  \n",
              "..                    ...   ...    ...  \n",
              "361                     0  25.0      4  \n",
              "362                     0  36.0      4  \n",
              "363                     3  28.0      3  \n",
              "364                     3  50.0      3  \n",
              "365                     0  35.0      1  \n",
              "\n",
              "[366 rows x 35 columns]"
            ],
            "text/html": [
              "\n",
              "  <div id=\"df-075bd5b3-a947-4b8b-96ae-28f4c1dfdd71\">\n",
              "    <div class=\"colab-df-container\">\n",
              "      <div>\n",
              "<style scoped>\n",
              "    .dataframe tbody tr th:only-of-type {\n",
              "        vertical-align: middle;\n",
              "    }\n",
              "\n",
              "    .dataframe tbody tr th {\n",
              "        vertical-align: top;\n",
              "    }\n",
              "\n",
              "    .dataframe thead th {\n",
              "        text-align: right;\n",
              "    }\n",
              "</style>\n",
              "<table border=\"1\" class=\"dataframe\">\n",
              "  <thead>\n",
              "    <tr style=\"text-align: right;\">\n",
              "      <th></th>\n",
              "      <th>erythema</th>\n",
              "      <th>scaling</th>\n",
              "      <th>definite_borders</th>\n",
              "      <th>itching</th>\n",
              "      <th>koebner_phenomenon</th>\n",
              "      <th>polygonal_papules</th>\n",
              "      <th>follicular_papules</th>\n",
              "      <th>oral_mucosal_involvement</th>\n",
              "      <th>knee_and_elbow_involvement</th>\n",
              "      <th>scalp_involvement</th>\n",
              "      <th>...</th>\n",
              "      <th>disappearance_of_the_granular_layer</th>\n",
              "      <th>vacuolisation_and_damage_of_basal_layer</th>\n",
              "      <th>spongiosis</th>\n",
              "      <th>saw-tooth_appearance_of_retes</th>\n",
              "      <th>follicular_horn_plug</th>\n",
              "      <th>perifollicular_parakeratosis</th>\n",
              "      <th>inflammatory_monoluclear_inflitrate</th>\n",
              "      <th>band-like_infiltrate</th>\n",
              "      <th>age</th>\n",
              "      <th>class</th>\n",
              "    </tr>\n",
              "  </thead>\n",
              "  <tbody>\n",
              "    <tr>\n",
              "      <th>0</th>\n",
              "      <td>2</td>\n",
              "      <td>2</td>\n",
              "      <td>0</td>\n",
              "      <td>3</td>\n",
              "      <td>0</td>\n",
              "      <td>0</td>\n",
              "      <td>0</td>\n",
              "      <td>0</td>\n",
              "      <td>1</td>\n",
              "      <td>0</td>\n",
              "      <td>...</td>\n",
              "      <td>0</td>\n",
              "      <td>0</td>\n",
              "      <td>3</td>\n",
              "      <td>0</td>\n",
              "      <td>0</td>\n",
              "      <td>0</td>\n",
              "      <td>1</td>\n",
              "      <td>0</td>\n",
              "      <td>55.0</td>\n",
              "      <td>2</td>\n",
              "    </tr>\n",
              "    <tr>\n",
              "      <th>1</th>\n",
              "      <td>3</td>\n",
              "      <td>3</td>\n",
              "      <td>3</td>\n",
              "      <td>2</td>\n",
              "      <td>1</td>\n",
              "      <td>0</td>\n",
              "      <td>0</td>\n",
              "      <td>0</td>\n",
              "      <td>1</td>\n",
              "      <td>1</td>\n",
              "      <td>...</td>\n",
              "      <td>0</td>\n",
              "      <td>0</td>\n",
              "      <td>0</td>\n",
              "      <td>0</td>\n",
              "      <td>0</td>\n",
              "      <td>0</td>\n",
              "      <td>1</td>\n",
              "      <td>0</td>\n",
              "      <td>8.0</td>\n",
              "      <td>1</td>\n",
              "    </tr>\n",
              "    <tr>\n",
              "      <th>2</th>\n",
              "      <td>2</td>\n",
              "      <td>1</td>\n",
              "      <td>2</td>\n",
              "      <td>3</td>\n",
              "      <td>1</td>\n",
              "      <td>3</td>\n",
              "      <td>0</td>\n",
              "      <td>3</td>\n",
              "      <td>0</td>\n",
              "      <td>0</td>\n",
              "      <td>...</td>\n",
              "      <td>0</td>\n",
              "      <td>2</td>\n",
              "      <td>3</td>\n",
              "      <td>2</td>\n",
              "      <td>0</td>\n",
              "      <td>0</td>\n",
              "      <td>2</td>\n",
              "      <td>3</td>\n",
              "      <td>26.0</td>\n",
              "      <td>3</td>\n",
              "    </tr>\n",
              "    <tr>\n",
              "      <th>3</th>\n",
              "      <td>2</td>\n",
              "      <td>2</td>\n",
              "      <td>2</td>\n",
              "      <td>0</td>\n",
              "      <td>0</td>\n",
              "      <td>0</td>\n",
              "      <td>0</td>\n",
              "      <td>0</td>\n",
              "      <td>3</td>\n",
              "      <td>2</td>\n",
              "      <td>...</td>\n",
              "      <td>3</td>\n",
              "      <td>0</td>\n",
              "      <td>0</td>\n",
              "      <td>0</td>\n",
              "      <td>0</td>\n",
              "      <td>0</td>\n",
              "      <td>3</td>\n",
              "      <td>0</td>\n",
              "      <td>40.0</td>\n",
              "      <td>1</td>\n",
              "    </tr>\n",
              "    <tr>\n",
              "      <th>4</th>\n",
              "      <td>2</td>\n",
              "      <td>3</td>\n",
              "      <td>2</td>\n",
              "      <td>2</td>\n",
              "      <td>2</td>\n",
              "      <td>2</td>\n",
              "      <td>0</td>\n",
              "      <td>2</td>\n",
              "      <td>0</td>\n",
              "      <td>0</td>\n",
              "      <td>...</td>\n",
              "      <td>2</td>\n",
              "      <td>3</td>\n",
              "      <td>2</td>\n",
              "      <td>3</td>\n",
              "      <td>0</td>\n",
              "      <td>0</td>\n",
              "      <td>2</td>\n",
              "      <td>3</td>\n",
              "      <td>45.0</td>\n",
              "      <td>3</td>\n",
              "    </tr>\n",
              "    <tr>\n",
              "      <th>...</th>\n",
              "      <td>...</td>\n",
              "      <td>...</td>\n",
              "      <td>...</td>\n",
              "      <td>...</td>\n",
              "      <td>...</td>\n",
              "      <td>...</td>\n",
              "      <td>...</td>\n",
              "      <td>...</td>\n",
              "      <td>...</td>\n",
              "      <td>...</td>\n",
              "      <td>...</td>\n",
              "      <td>...</td>\n",
              "      <td>...</td>\n",
              "      <td>...</td>\n",
              "      <td>...</td>\n",
              "      <td>...</td>\n",
              "      <td>...</td>\n",
              "      <td>...</td>\n",
              "      <td>...</td>\n",
              "      <td>...</td>\n",
              "      <td>...</td>\n",
              "    </tr>\n",
              "    <tr>\n",
              "      <th>361</th>\n",
              "      <td>2</td>\n",
              "      <td>1</td>\n",
              "      <td>1</td>\n",
              "      <td>0</td>\n",
              "      <td>1</td>\n",
              "      <td>0</td>\n",
              "      <td>0</td>\n",
              "      <td>0</td>\n",
              "      <td>0</td>\n",
              "      <td>0</td>\n",
              "      <td>...</td>\n",
              "      <td>0</td>\n",
              "      <td>0</td>\n",
              "      <td>1</td>\n",
              "      <td>0</td>\n",
              "      <td>0</td>\n",
              "      <td>0</td>\n",
              "      <td>2</td>\n",
              "      <td>0</td>\n",
              "      <td>25.0</td>\n",
              "      <td>4</td>\n",
              "    </tr>\n",
              "    <tr>\n",
              "      <th>362</th>\n",
              "      <td>3</td>\n",
              "      <td>2</td>\n",
              "      <td>1</td>\n",
              "      <td>0</td>\n",
              "      <td>1</td>\n",
              "      <td>0</td>\n",
              "      <td>0</td>\n",
              "      <td>0</td>\n",
              "      <td>0</td>\n",
              "      <td>0</td>\n",
              "      <td>...</td>\n",
              "      <td>1</td>\n",
              "      <td>0</td>\n",
              "      <td>1</td>\n",
              "      <td>0</td>\n",
              "      <td>0</td>\n",
              "      <td>0</td>\n",
              "      <td>2</td>\n",
              "      <td>0</td>\n",
              "      <td>36.0</td>\n",
              "      <td>4</td>\n",
              "    </tr>\n",
              "    <tr>\n",
              "      <th>363</th>\n",
              "      <td>3</td>\n",
              "      <td>2</td>\n",
              "      <td>2</td>\n",
              "      <td>2</td>\n",
              "      <td>3</td>\n",
              "      <td>2</td>\n",
              "      <td>0</td>\n",
              "      <td>2</td>\n",
              "      <td>0</td>\n",
              "      <td>0</td>\n",
              "      <td>...</td>\n",
              "      <td>0</td>\n",
              "      <td>3</td>\n",
              "      <td>0</td>\n",
              "      <td>3</td>\n",
              "      <td>0</td>\n",
              "      <td>0</td>\n",
              "      <td>2</td>\n",
              "      <td>3</td>\n",
              "      <td>28.0</td>\n",
              "      <td>3</td>\n",
              "    </tr>\n",
              "    <tr>\n",
              "      <th>364</th>\n",
              "      <td>2</td>\n",
              "      <td>1</td>\n",
              "      <td>3</td>\n",
              "      <td>1</td>\n",
              "      <td>2</td>\n",
              "      <td>3</td>\n",
              "      <td>0</td>\n",
              "      <td>2</td>\n",
              "      <td>0</td>\n",
              "      <td>0</td>\n",
              "      <td>...</td>\n",
              "      <td>0</td>\n",
              "      <td>2</td>\n",
              "      <td>0</td>\n",
              "      <td>1</td>\n",
              "      <td>0</td>\n",
              "      <td>0</td>\n",
              "      <td>2</td>\n",
              "      <td>3</td>\n",
              "      <td>50.0</td>\n",
              "      <td>3</td>\n",
              "    </tr>\n",
              "    <tr>\n",
              "      <th>365</th>\n",
              "      <td>3</td>\n",
              "      <td>2</td>\n",
              "      <td>2</td>\n",
              "      <td>0</td>\n",
              "      <td>0</td>\n",
              "      <td>0</td>\n",
              "      <td>0</td>\n",
              "      <td>0</td>\n",
              "      <td>3</td>\n",
              "      <td>3</td>\n",
              "      <td>...</td>\n",
              "      <td>2</td>\n",
              "      <td>0</td>\n",
              "      <td>0</td>\n",
              "      <td>0</td>\n",
              "      <td>0</td>\n",
              "      <td>0</td>\n",
              "      <td>3</td>\n",
              "      <td>0</td>\n",
              "      <td>35.0</td>\n",
              "      <td>1</td>\n",
              "    </tr>\n",
              "  </tbody>\n",
              "</table>\n",
              "<p>366 rows × 35 columns</p>\n",
              "</div>\n",
              "      <button class=\"colab-df-convert\" onclick=\"convertToInteractive('df-075bd5b3-a947-4b8b-96ae-28f4c1dfdd71')\"\n",
              "              title=\"Convert this dataframe to an interactive table.\"\n",
              "              style=\"display:none;\">\n",
              "        \n",
              "  <svg xmlns=\"http://www.w3.org/2000/svg\" height=\"24px\"viewBox=\"0 0 24 24\"\n",
              "       width=\"24px\">\n",
              "    <path d=\"M0 0h24v24H0V0z\" fill=\"none\"/>\n",
              "    <path d=\"M18.56 5.44l.94 2.06.94-2.06 2.06-.94-2.06-.94-.94-2.06-.94 2.06-2.06.94zm-11 1L8.5 8.5l.94-2.06 2.06-.94-2.06-.94L8.5 2.5l-.94 2.06-2.06.94zm10 10l.94 2.06.94-2.06 2.06-.94-2.06-.94-.94-2.06-.94 2.06-2.06.94z\"/><path d=\"M17.41 7.96l-1.37-1.37c-.4-.4-.92-.59-1.43-.59-.52 0-1.04.2-1.43.59L10.3 9.45l-7.72 7.72c-.78.78-.78 2.05 0 2.83L4 21.41c.39.39.9.59 1.41.59.51 0 1.02-.2 1.41-.59l7.78-7.78 2.81-2.81c.8-.78.8-2.07 0-2.86zM5.41 20L4 18.59l7.72-7.72 1.47 1.35L5.41 20z\"/>\n",
              "  </svg>\n",
              "      </button>\n",
              "      \n",
              "  <style>\n",
              "    .colab-df-container {\n",
              "      display:flex;\n",
              "      flex-wrap:wrap;\n",
              "      gap: 12px;\n",
              "    }\n",
              "\n",
              "    .colab-df-convert {\n",
              "      background-color: #E8F0FE;\n",
              "      border: none;\n",
              "      border-radius: 50%;\n",
              "      cursor: pointer;\n",
              "      display: none;\n",
              "      fill: #1967D2;\n",
              "      height: 32px;\n",
              "      padding: 0 0 0 0;\n",
              "      width: 32px;\n",
              "    }\n",
              "\n",
              "    .colab-df-convert:hover {\n",
              "      background-color: #E2EBFA;\n",
              "      box-shadow: 0px 1px 2px rgba(60, 64, 67, 0.3), 0px 1px 3px 1px rgba(60, 64, 67, 0.15);\n",
              "      fill: #174EA6;\n",
              "    }\n",
              "\n",
              "    [theme=dark] .colab-df-convert {\n",
              "      background-color: #3B4455;\n",
              "      fill: #D2E3FC;\n",
              "    }\n",
              "\n",
              "    [theme=dark] .colab-df-convert:hover {\n",
              "      background-color: #434B5C;\n",
              "      box-shadow: 0px 1px 3px 1px rgba(0, 0, 0, 0.15);\n",
              "      filter: drop-shadow(0px 1px 2px rgba(0, 0, 0, 0.3));\n",
              "      fill: #FFFFFF;\n",
              "    }\n",
              "  </style>\n",
              "\n",
              "      <script>\n",
              "        const buttonEl =\n",
              "          document.querySelector('#df-075bd5b3-a947-4b8b-96ae-28f4c1dfdd71 button.colab-df-convert');\n",
              "        buttonEl.style.display =\n",
              "          google.colab.kernel.accessAllowed ? 'block' : 'none';\n",
              "\n",
              "        async function convertToInteractive(key) {\n",
              "          const element = document.querySelector('#df-075bd5b3-a947-4b8b-96ae-28f4c1dfdd71');\n",
              "          const dataTable =\n",
              "            await google.colab.kernel.invokeFunction('convertToInteractive',\n",
              "                                                     [key], {});\n",
              "          if (!dataTable) return;\n",
              "\n",
              "          const docLinkHtml = 'Like what you see? Visit the ' +\n",
              "            '<a target=\"_blank\" href=https://colab.research.google.com/notebooks/data_table.ipynb>data table notebook</a>'\n",
              "            + ' to learn more about interactive tables.';\n",
              "          element.innerHTML = '';\n",
              "          dataTable['output_type'] = 'display_data';\n",
              "          await google.colab.output.renderOutput(dataTable, element);\n",
              "          const docLink = document.createElement('div');\n",
              "          docLink.innerHTML = docLinkHtml;\n",
              "          element.appendChild(docLink);\n",
              "        }\n",
              "      </script>\n",
              "    </div>\n",
              "  </div>\n",
              "  "
            ]
          },
          "metadata": {},
          "execution_count": 2
        }
      ]
    },
    {
      "cell_type": "code",
      "source": [
        "#describing the dermatology data\n",
        "dermatology_data.describe()"
      ],
      "metadata": {
        "colab": {
          "base_uri": "https://localhost:8080/",
          "height": 411
        },
        "id": "GDiADH6QYk-B",
        "outputId": "29bbe628-9d39-44c2-b425-c74d216f87da"
      },
      "execution_count": 3,
      "outputs": [
        {
          "output_type": "execute_result",
          "data": {
            "text/plain": [
              "         erythema     scaling  definite_borders     itching  \\\n",
              "count  366.000000  366.000000        366.000000  366.000000   \n",
              "mean     2.068306    1.795082          1.549180    1.366120   \n",
              "std      0.664753    0.701527          0.907525    1.138299   \n",
              "min      0.000000    0.000000          0.000000    0.000000   \n",
              "25%      2.000000    1.000000          1.000000    0.000000   \n",
              "50%      2.000000    2.000000          2.000000    1.000000   \n",
              "75%      2.000000    2.000000          2.000000    2.000000   \n",
              "max      3.000000    3.000000          3.000000    3.000000   \n",
              "\n",
              "       koebner_phenomenon  polygonal_papules  follicular_papules  \\\n",
              "count          366.000000         366.000000          366.000000   \n",
              "mean             0.633880           0.448087            0.166667   \n",
              "std              0.908016           0.957327            0.570588   \n",
              "min              0.000000           0.000000            0.000000   \n",
              "25%              0.000000           0.000000            0.000000   \n",
              "50%              0.000000           0.000000            0.000000   \n",
              "75%              1.000000           0.000000            0.000000   \n",
              "max              3.000000           3.000000            3.000000   \n",
              "\n",
              "       oral_mucosal_involvement  knee_and_elbow_involvement  \\\n",
              "count                366.000000                  366.000000   \n",
              "mean                   0.377049                    0.614754   \n",
              "std                    0.834147                    0.982979   \n",
              "min                    0.000000                    0.000000   \n",
              "25%                    0.000000                    0.000000   \n",
              "50%                    0.000000                    0.000000   \n",
              "75%                    0.000000                    1.000000   \n",
              "max                    3.000000                    3.000000   \n",
              "\n",
              "       scalp_involvement  ...  disappearance_of_the_granular_layer  \\\n",
              "count         366.000000  ...                           366.000000   \n",
              "mean            0.519126  ...                             0.464481   \n",
              "std             0.905639  ...                             0.864899   \n",
              "min             0.000000  ...                             0.000000   \n",
              "25%             0.000000  ...                             0.000000   \n",
              "50%             0.000000  ...                             0.000000   \n",
              "75%             1.000000  ...                             1.000000   \n",
              "max             3.000000  ...                             3.000000   \n",
              "\n",
              "       vacuolisation_and_damage_of_basal_layer  spongiosis  \\\n",
              "count                               366.000000  366.000000   \n",
              "mean                                  0.456284    0.953552   \n",
              "std                                   0.954873    1.130172   \n",
              "min                                   0.000000    0.000000   \n",
              "25%                                   0.000000    0.000000   \n",
              "50%                                   0.000000    0.000000   \n",
              "75%                                   0.000000    2.000000   \n",
              "max                                   3.000000    3.000000   \n",
              "\n",
              "       saw-tooth_appearance_of_retes  follicular_horn_plug  \\\n",
              "count                     366.000000            366.000000   \n",
              "mean                        0.453552              0.103825   \n",
              "std                         0.954744              0.450433   \n",
              "min                         0.000000              0.000000   \n",
              "25%                         0.000000              0.000000   \n",
              "50%                         0.000000              0.000000   \n",
              "75%                         0.000000              0.000000   \n",
              "max                         3.000000              3.000000   \n",
              "\n",
              "       perifollicular_parakeratosis  inflammatory_monoluclear_inflitrate  \\\n",
              "count                    366.000000                           366.000000   \n",
              "mean                       0.114754                             1.866120   \n",
              "std                        0.488723                             0.726108   \n",
              "min                        0.000000                             0.000000   \n",
              "25%                        0.000000                             1.000000   \n",
              "50%                        0.000000                             2.000000   \n",
              "75%                        0.000000                             2.000000   \n",
              "max                        3.000000                             3.000000   \n",
              "\n",
              "       band-like_infiltrate         age       class  \n",
              "count            366.000000  358.000000  366.000000  \n",
              "mean               0.554645   36.296089    2.803279  \n",
              "std                1.105908   15.324557    1.597803  \n",
              "min                0.000000    0.000000    1.000000  \n",
              "25%                0.000000   25.000000    1.000000  \n",
              "50%                0.000000   35.000000    3.000000  \n",
              "75%                0.000000   49.750000    4.000000  \n",
              "max                3.000000   75.000000    6.000000  \n",
              "\n",
              "[8 rows x 35 columns]"
            ],
            "text/html": [
              "\n",
              "  <div id=\"df-30f17be6-cc73-454c-a5de-93a09ce60fb0\">\n",
              "    <div class=\"colab-df-container\">\n",
              "      <div>\n",
              "<style scoped>\n",
              "    .dataframe tbody tr th:only-of-type {\n",
              "        vertical-align: middle;\n",
              "    }\n",
              "\n",
              "    .dataframe tbody tr th {\n",
              "        vertical-align: top;\n",
              "    }\n",
              "\n",
              "    .dataframe thead th {\n",
              "        text-align: right;\n",
              "    }\n",
              "</style>\n",
              "<table border=\"1\" class=\"dataframe\">\n",
              "  <thead>\n",
              "    <tr style=\"text-align: right;\">\n",
              "      <th></th>\n",
              "      <th>erythema</th>\n",
              "      <th>scaling</th>\n",
              "      <th>definite_borders</th>\n",
              "      <th>itching</th>\n",
              "      <th>koebner_phenomenon</th>\n",
              "      <th>polygonal_papules</th>\n",
              "      <th>follicular_papules</th>\n",
              "      <th>oral_mucosal_involvement</th>\n",
              "      <th>knee_and_elbow_involvement</th>\n",
              "      <th>scalp_involvement</th>\n",
              "      <th>...</th>\n",
              "      <th>disappearance_of_the_granular_layer</th>\n",
              "      <th>vacuolisation_and_damage_of_basal_layer</th>\n",
              "      <th>spongiosis</th>\n",
              "      <th>saw-tooth_appearance_of_retes</th>\n",
              "      <th>follicular_horn_plug</th>\n",
              "      <th>perifollicular_parakeratosis</th>\n",
              "      <th>inflammatory_monoluclear_inflitrate</th>\n",
              "      <th>band-like_infiltrate</th>\n",
              "      <th>age</th>\n",
              "      <th>class</th>\n",
              "    </tr>\n",
              "  </thead>\n",
              "  <tbody>\n",
              "    <tr>\n",
              "      <th>count</th>\n",
              "      <td>366.000000</td>\n",
              "      <td>366.000000</td>\n",
              "      <td>366.000000</td>\n",
              "      <td>366.000000</td>\n",
              "      <td>366.000000</td>\n",
              "      <td>366.000000</td>\n",
              "      <td>366.000000</td>\n",
              "      <td>366.000000</td>\n",
              "      <td>366.000000</td>\n",
              "      <td>366.000000</td>\n",
              "      <td>...</td>\n",
              "      <td>366.000000</td>\n",
              "      <td>366.000000</td>\n",
              "      <td>366.000000</td>\n",
              "      <td>366.000000</td>\n",
              "      <td>366.000000</td>\n",
              "      <td>366.000000</td>\n",
              "      <td>366.000000</td>\n",
              "      <td>366.000000</td>\n",
              "      <td>358.000000</td>\n",
              "      <td>366.000000</td>\n",
              "    </tr>\n",
              "    <tr>\n",
              "      <th>mean</th>\n",
              "      <td>2.068306</td>\n",
              "      <td>1.795082</td>\n",
              "      <td>1.549180</td>\n",
              "      <td>1.366120</td>\n",
              "      <td>0.633880</td>\n",
              "      <td>0.448087</td>\n",
              "      <td>0.166667</td>\n",
              "      <td>0.377049</td>\n",
              "      <td>0.614754</td>\n",
              "      <td>0.519126</td>\n",
              "      <td>...</td>\n",
              "      <td>0.464481</td>\n",
              "      <td>0.456284</td>\n",
              "      <td>0.953552</td>\n",
              "      <td>0.453552</td>\n",
              "      <td>0.103825</td>\n",
              "      <td>0.114754</td>\n",
              "      <td>1.866120</td>\n",
              "      <td>0.554645</td>\n",
              "      <td>36.296089</td>\n",
              "      <td>2.803279</td>\n",
              "    </tr>\n",
              "    <tr>\n",
              "      <th>std</th>\n",
              "      <td>0.664753</td>\n",
              "      <td>0.701527</td>\n",
              "      <td>0.907525</td>\n",
              "      <td>1.138299</td>\n",
              "      <td>0.908016</td>\n",
              "      <td>0.957327</td>\n",
              "      <td>0.570588</td>\n",
              "      <td>0.834147</td>\n",
              "      <td>0.982979</td>\n",
              "      <td>0.905639</td>\n",
              "      <td>...</td>\n",
              "      <td>0.864899</td>\n",
              "      <td>0.954873</td>\n",
              "      <td>1.130172</td>\n",
              "      <td>0.954744</td>\n",
              "      <td>0.450433</td>\n",
              "      <td>0.488723</td>\n",
              "      <td>0.726108</td>\n",
              "      <td>1.105908</td>\n",
              "      <td>15.324557</td>\n",
              "      <td>1.597803</td>\n",
              "    </tr>\n",
              "    <tr>\n",
              "      <th>min</th>\n",
              "      <td>0.000000</td>\n",
              "      <td>0.000000</td>\n",
              "      <td>0.000000</td>\n",
              "      <td>0.000000</td>\n",
              "      <td>0.000000</td>\n",
              "      <td>0.000000</td>\n",
              "      <td>0.000000</td>\n",
              "      <td>0.000000</td>\n",
              "      <td>0.000000</td>\n",
              "      <td>0.000000</td>\n",
              "      <td>...</td>\n",
              "      <td>0.000000</td>\n",
              "      <td>0.000000</td>\n",
              "      <td>0.000000</td>\n",
              "      <td>0.000000</td>\n",
              "      <td>0.000000</td>\n",
              "      <td>0.000000</td>\n",
              "      <td>0.000000</td>\n",
              "      <td>0.000000</td>\n",
              "      <td>0.000000</td>\n",
              "      <td>1.000000</td>\n",
              "    </tr>\n",
              "    <tr>\n",
              "      <th>25%</th>\n",
              "      <td>2.000000</td>\n",
              "      <td>1.000000</td>\n",
              "      <td>1.000000</td>\n",
              "      <td>0.000000</td>\n",
              "      <td>0.000000</td>\n",
              "      <td>0.000000</td>\n",
              "      <td>0.000000</td>\n",
              "      <td>0.000000</td>\n",
              "      <td>0.000000</td>\n",
              "      <td>0.000000</td>\n",
              "      <td>...</td>\n",
              "      <td>0.000000</td>\n",
              "      <td>0.000000</td>\n",
              "      <td>0.000000</td>\n",
              "      <td>0.000000</td>\n",
              "      <td>0.000000</td>\n",
              "      <td>0.000000</td>\n",
              "      <td>1.000000</td>\n",
              "      <td>0.000000</td>\n",
              "      <td>25.000000</td>\n",
              "      <td>1.000000</td>\n",
              "    </tr>\n",
              "    <tr>\n",
              "      <th>50%</th>\n",
              "      <td>2.000000</td>\n",
              "      <td>2.000000</td>\n",
              "      <td>2.000000</td>\n",
              "      <td>1.000000</td>\n",
              "      <td>0.000000</td>\n",
              "      <td>0.000000</td>\n",
              "      <td>0.000000</td>\n",
              "      <td>0.000000</td>\n",
              "      <td>0.000000</td>\n",
              "      <td>0.000000</td>\n",
              "      <td>...</td>\n",
              "      <td>0.000000</td>\n",
              "      <td>0.000000</td>\n",
              "      <td>0.000000</td>\n",
              "      <td>0.000000</td>\n",
              "      <td>0.000000</td>\n",
              "      <td>0.000000</td>\n",
              "      <td>2.000000</td>\n",
              "      <td>0.000000</td>\n",
              "      <td>35.000000</td>\n",
              "      <td>3.000000</td>\n",
              "    </tr>\n",
              "    <tr>\n",
              "      <th>75%</th>\n",
              "      <td>2.000000</td>\n",
              "      <td>2.000000</td>\n",
              "      <td>2.000000</td>\n",
              "      <td>2.000000</td>\n",
              "      <td>1.000000</td>\n",
              "      <td>0.000000</td>\n",
              "      <td>0.000000</td>\n",
              "      <td>0.000000</td>\n",
              "      <td>1.000000</td>\n",
              "      <td>1.000000</td>\n",
              "      <td>...</td>\n",
              "      <td>1.000000</td>\n",
              "      <td>0.000000</td>\n",
              "      <td>2.000000</td>\n",
              "      <td>0.000000</td>\n",
              "      <td>0.000000</td>\n",
              "      <td>0.000000</td>\n",
              "      <td>2.000000</td>\n",
              "      <td>0.000000</td>\n",
              "      <td>49.750000</td>\n",
              "      <td>4.000000</td>\n",
              "    </tr>\n",
              "    <tr>\n",
              "      <th>max</th>\n",
              "      <td>3.000000</td>\n",
              "      <td>3.000000</td>\n",
              "      <td>3.000000</td>\n",
              "      <td>3.000000</td>\n",
              "      <td>3.000000</td>\n",
              "      <td>3.000000</td>\n",
              "      <td>3.000000</td>\n",
              "      <td>3.000000</td>\n",
              "      <td>3.000000</td>\n",
              "      <td>3.000000</td>\n",
              "      <td>...</td>\n",
              "      <td>3.000000</td>\n",
              "      <td>3.000000</td>\n",
              "      <td>3.000000</td>\n",
              "      <td>3.000000</td>\n",
              "      <td>3.000000</td>\n",
              "      <td>3.000000</td>\n",
              "      <td>3.000000</td>\n",
              "      <td>3.000000</td>\n",
              "      <td>75.000000</td>\n",
              "      <td>6.000000</td>\n",
              "    </tr>\n",
              "  </tbody>\n",
              "</table>\n",
              "<p>8 rows × 35 columns</p>\n",
              "</div>\n",
              "      <button class=\"colab-df-convert\" onclick=\"convertToInteractive('df-30f17be6-cc73-454c-a5de-93a09ce60fb0')\"\n",
              "              title=\"Convert this dataframe to an interactive table.\"\n",
              "              style=\"display:none;\">\n",
              "        \n",
              "  <svg xmlns=\"http://www.w3.org/2000/svg\" height=\"24px\"viewBox=\"0 0 24 24\"\n",
              "       width=\"24px\">\n",
              "    <path d=\"M0 0h24v24H0V0z\" fill=\"none\"/>\n",
              "    <path d=\"M18.56 5.44l.94 2.06.94-2.06 2.06-.94-2.06-.94-.94-2.06-.94 2.06-2.06.94zm-11 1L8.5 8.5l.94-2.06 2.06-.94-2.06-.94L8.5 2.5l-.94 2.06-2.06.94zm10 10l.94 2.06.94-2.06 2.06-.94-2.06-.94-.94-2.06-.94 2.06-2.06.94z\"/><path d=\"M17.41 7.96l-1.37-1.37c-.4-.4-.92-.59-1.43-.59-.52 0-1.04.2-1.43.59L10.3 9.45l-7.72 7.72c-.78.78-.78 2.05 0 2.83L4 21.41c.39.39.9.59 1.41.59.51 0 1.02-.2 1.41-.59l7.78-7.78 2.81-2.81c.8-.78.8-2.07 0-2.86zM5.41 20L4 18.59l7.72-7.72 1.47 1.35L5.41 20z\"/>\n",
              "  </svg>\n",
              "      </button>\n",
              "      \n",
              "  <style>\n",
              "    .colab-df-container {\n",
              "      display:flex;\n",
              "      flex-wrap:wrap;\n",
              "      gap: 12px;\n",
              "    }\n",
              "\n",
              "    .colab-df-convert {\n",
              "      background-color: #E8F0FE;\n",
              "      border: none;\n",
              "      border-radius: 50%;\n",
              "      cursor: pointer;\n",
              "      display: none;\n",
              "      fill: #1967D2;\n",
              "      height: 32px;\n",
              "      padding: 0 0 0 0;\n",
              "      width: 32px;\n",
              "    }\n",
              "\n",
              "    .colab-df-convert:hover {\n",
              "      background-color: #E2EBFA;\n",
              "      box-shadow: 0px 1px 2px rgba(60, 64, 67, 0.3), 0px 1px 3px 1px rgba(60, 64, 67, 0.15);\n",
              "      fill: #174EA6;\n",
              "    }\n",
              "\n",
              "    [theme=dark] .colab-df-convert {\n",
              "      background-color: #3B4455;\n",
              "      fill: #D2E3FC;\n",
              "    }\n",
              "\n",
              "    [theme=dark] .colab-df-convert:hover {\n",
              "      background-color: #434B5C;\n",
              "      box-shadow: 0px 1px 3px 1px rgba(0, 0, 0, 0.15);\n",
              "      filter: drop-shadow(0px 1px 2px rgba(0, 0, 0, 0.3));\n",
              "      fill: #FFFFFF;\n",
              "    }\n",
              "  </style>\n",
              "\n",
              "      <script>\n",
              "        const buttonEl =\n",
              "          document.querySelector('#df-30f17be6-cc73-454c-a5de-93a09ce60fb0 button.colab-df-convert');\n",
              "        buttonEl.style.display =\n",
              "          google.colab.kernel.accessAllowed ? 'block' : 'none';\n",
              "\n",
              "        async function convertToInteractive(key) {\n",
              "          const element = document.querySelector('#df-30f17be6-cc73-454c-a5de-93a09ce60fb0');\n",
              "          const dataTable =\n",
              "            await google.colab.kernel.invokeFunction('convertToInteractive',\n",
              "                                                     [key], {});\n",
              "          if (!dataTable) return;\n",
              "\n",
              "          const docLinkHtml = 'Like what you see? Visit the ' +\n",
              "            '<a target=\"_blank\" href=https://colab.research.google.com/notebooks/data_table.ipynb>data table notebook</a>'\n",
              "            + ' to learn more about interactive tables.';\n",
              "          element.innerHTML = '';\n",
              "          dataTable['output_type'] = 'display_data';\n",
              "          await google.colab.output.renderOutput(dataTable, element);\n",
              "          const docLink = document.createElement('div');\n",
              "          docLink.innerHTML = docLinkHtml;\n",
              "          element.appendChild(docLink);\n",
              "        }\n",
              "      </script>\n",
              "    </div>\n",
              "  </div>\n",
              "  "
            ]
          },
          "metadata": {},
          "execution_count": 3
        }
      ]
    },
    {
      "cell_type": "code",
      "source": [
        "#checking if there are any null values in the data\n",
        "dermatology_data.isnull().values.any()"
      ],
      "metadata": {
        "colab": {
          "base_uri": "https://localhost:8080/"
        },
        "id": "wotXo57rY6ET",
        "outputId": "77c2b3a6-df16-466a-e39c-0a8dabac56f3"
      },
      "execution_count": 4,
      "outputs": [
        {
          "output_type": "execute_result",
          "data": {
            "text/plain": [
              "True"
            ]
          },
          "metadata": {},
          "execution_count": 4
        }
      ]
    },
    {
      "cell_type": "code",
      "source": [
        "#checking in which column the null values are present\n",
        "print(dermatology_data.isnull().sum())"
      ],
      "metadata": {
        "colab": {
          "base_uri": "https://localhost:8080/"
        },
        "id": "MmyEL3oMdRW2",
        "outputId": "d838ea43-273f-43b2-bc36-36088f6c3c41"
      },
      "execution_count": 5,
      "outputs": [
        {
          "output_type": "stream",
          "name": "stdout",
          "text": [
            "erythema                                    0\n",
            "scaling                                     0\n",
            "definite_borders                            0\n",
            "itching                                     0\n",
            "koebner_phenomenon                          0\n",
            "polygonal_papules                           0\n",
            "follicular_papules                          0\n",
            "oral_mucosal_involvement                    0\n",
            "knee_and_elbow_involvement                  0\n",
            "scalp_involvement                           0\n",
            "family_history                              0\n",
            "melanin_incontinence                        0\n",
            "eosinophils_in_the_infiltrate               0\n",
            "pnl_infiltrate                              0\n",
            "fibrosis_of_the_papillary_dermis            0\n",
            "exocytosis                                  0\n",
            "acanthosis                                  0\n",
            "hyperkeratosis                              0\n",
            "parakeratosis                               0\n",
            "clubbing_of_the_rete_ridges                 0\n",
            "elongation_of_the_rete_ridges               0\n",
            "thinning_of_the_suprapapillary_epidermis    0\n",
            "spongiform_pustule                          0\n",
            "munro_microabcess                           0\n",
            "focal_hypergranulosis                       0\n",
            "disappearance_of_the_granular_layer         0\n",
            "vacuolisation_and_damage_of_basal_layer     0\n",
            "spongiosis                                  0\n",
            "saw-tooth_appearance_of_retes               0\n",
            "follicular_horn_plug                        0\n",
            "perifollicular_parakeratosis                0\n",
            "inflammatory_monoluclear_inflitrate         0\n",
            "band-like_infiltrate                        0\n",
            "age                                         8\n",
            "class                                       0\n",
            "dtype: int64\n"
          ]
        }
      ]
    },
    {
      "cell_type": "markdown",
      "source": [
        "* From the above we can observe that there are 8 null values in the 'age' attribute."
      ],
      "metadata": {
        "id": "G-pRWXmwZTpn"
      }
    },
    {
      "cell_type": "code",
      "source": [
        "#imputing the miising values by replacing them with median\n",
        "from sklearn.impute import SimpleImputer\n",
        "\n",
        "imputer = SimpleImputer(missing_values=np.nan, strategy='median')\n",
        "\n",
        "dermatology_data.age = imputer.fit_transform(dermatology_data['age'].values.reshape(-1,1))[:,0]\n",
        "\n",
        "print(dermatology_data.age)"
      ],
      "metadata": {
        "colab": {
          "base_uri": "https://localhost:8080/"
        },
        "id": "ap684lA-dkfk",
        "outputId": "b32c0c00-29b1-45a3-a076-26d709817643"
      },
      "execution_count": 6,
      "outputs": [
        {
          "output_type": "stream",
          "name": "stdout",
          "text": [
            "0      55.0\n",
            "1       8.0\n",
            "2      26.0\n",
            "3      40.0\n",
            "4      45.0\n",
            "       ... \n",
            "361    25.0\n",
            "362    36.0\n",
            "363    28.0\n",
            "364    50.0\n",
            "365    35.0\n",
            "Name: age, Length: 366, dtype: float64\n"
          ]
        }
      ]
    },
    {
      "cell_type": "markdown",
      "source": [
        "*Replaced the missing values of the 'age' attribute by the median of the values."
      ],
      "metadata": {
        "id": "jAZvUwcuZrrH"
      }
    },
    {
      "cell_type": "code",
      "source": [
        "#Verifying if the missing values are imputed or not\n",
        "dermatology_data.age.isnull().sum()"
      ],
      "metadata": {
        "colab": {
          "base_uri": "https://localhost:8080/"
        },
        "id": "9-4YfLD4kdOL",
        "outputId": "15788b9b-d891-493b-8557-4300b0b539fd"
      },
      "execution_count": 7,
      "outputs": [
        {
          "output_type": "execute_result",
          "data": {
            "text/plain": [
              "0"
            ]
          },
          "metadata": {},
          "execution_count": 7
        }
      ]
    },
    {
      "cell_type": "code",
      "source": [
        "dermatology_data.boxplot(column = ['age'],by=['class'])"
      ],
      "metadata": {
        "colab": {
          "base_uri": "https://localhost:8080/",
          "height": 373
        },
        "id": "iK943tRSLPdR",
        "outputId": "4e5cc07e-13a4-4287-b181-e8ad7beda595"
      },
      "execution_count": 8,
      "outputs": [
        {
          "output_type": "stream",
          "name": "stderr",
          "text": [
            "/usr/local/lib/python3.7/dist-packages/matplotlib/cbook/__init__.py:1376: VisibleDeprecationWarning: Creating an ndarray from ragged nested sequences (which is a list-or-tuple of lists-or-tuples-or ndarrays with different lengths or shapes) is deprecated. If you meant to do this, you must specify 'dtype=object' when creating the ndarray.\n",
            "  X = np.atleast_1d(X.T if isinstance(X, np.ndarray) else np.asarray(X))\n"
          ]
        },
        {
          "output_type": "execute_result",
          "data": {
            "text/plain": [
              "<matplotlib.axes._subplots.AxesSubplot at 0x7ff7ad282090>"
            ]
          },
          "metadata": {},
          "execution_count": 8
        },
        {
          "output_type": "display_data",
          "data": {
            "text/plain": [
              "<Figure size 432x288 with 1 Axes>"
            ],
            "image/png": "[encoded data removed]"
          },
          "metadata": {
            "needs_background": "light"
          }
        }
      ]
    },
    {
      "cell_type": "code",
      "source": [
        "#Creating the boxplot of the age with disease \n",
        "import seaborn as sns\n",
        "sns.boxplot(data = dermatology_data, x = 'class' , y = 'age')"
      ],
      "metadata": {
        "colab": {
          "base_uri": "https://localhost:8080/",
          "height": 297
        },
        "id": "5MKFejN_LpUj",
        "outputId": "dbcf8ff9-6bf4-40f2-f721-1e0df2cfd1e2"
      },
      "execution_count": 9,
      "outputs": [
        {
          "output_type": "execute_result",
          "data": {
            "text/plain": [
              "<matplotlib.axes._subplots.AxesSubplot at 0x7ff79db2ac10>"
            ]
          },
          "metadata": {},
          "execution_count": 9
        },
        {
          "output_type": "display_data",
          "data": {
            "text/plain": [
              "<Figure size 432x288 with 1 Axes>"
            ],
            "image/png": "[encoded data removed]"
          },
          "metadata": {
            "needs_background": "light"
          }
        }
      ]
    },
    {
      "cell_type": "markdown",
      "source": [
        "By observing the boxplot, I dont feel that the age is the good indicator of the disease because the ranges of the disease are spread mostly among all the age groups.\n",
        "* 1: psoriasis is observed in children and the adults between the age 0-75\n",
        "* 2: seboreic dermatitis is observed in children and the adults between the age 10-70.\n",
        "* 3: lichen planus is observed in teenagers and the adults between the age 16-65.\n",
        "* 4: pityriasis rosea is observed in children and the adults between the age 12-70.\n",
        "* 5: cronic dermatitis is observed in children and the adults between the age 8-70.\n",
        "* 6: pityriasis rubra pilaris is observed in children and the adults  between the age 8-22."
      ],
      "metadata": {
        "id": "J3tXP1SccsLq"
      }
    },
    {
      "cell_type": "markdown",
      "source": [
        "**All the cells below from [62-94] are the contingency tables and the plots of the contingency tables of all the ordinal attributes with the class(contains disease names) attribute**"
      ],
      "metadata": {
        "id": "HGLyhgJEixFX"
      }
    },
    {
      "cell_type": "code",
      "source": [
        "a_crosstab = pd.crosstab( dermatology_data['erythema'],dermatology_data['class'] )\n",
        "print(a_crosstab)\n",
        "\n",
        "# Creating barplot\n",
        "# x label rotation\n",
        "barplot = a_crosstab.plot.bar(rot=0)"
      ],
      "metadata": {
        "id": "DaSaxNBjOx6U",
        "colab": {
          "base_uri": "https://localhost:8080/",
          "height": 383
        },
        "outputId": "e7dd0424-daa1-4975-eabb-f1fba0eb9436"
      },
      "execution_count": 10,
      "outputs": [
        {
          "output_type": "stream",
          "name": "stdout",
          "text": [
            "class      1   2   3   4   5   6\n",
            "erythema                        \n",
            "0          1   0   1   0   2   0\n",
            "1          7   5   7  11  25   2\n",
            "2         63  34  49  32  22  15\n",
            "3         41  22  15   6   3   3\n"
          ]
        },
        {
          "output_type": "display_data",
          "data": {
            "text/plain": [
              "<Figure size 432x288 with 1 Axes>"
            ],
            "image/png": "[encoded data removed]"
          },
          "metadata": {
            "needs_background": "light"
          }
        }
      ]
    },
    {
      "cell_type": "code",
      "source": [
        "b_crosstab = pd.crosstab( dermatology_data['scaling'],dermatology_data['class'] )\n",
        "print(b_crosstab)\n",
        "\n",
        "# Creating barplot\n",
        "# x label rotation\n",
        "barplot = b_crosstab.plot.bar(rot=0)"
      ],
      "metadata": {
        "colab": {
          "base_uri": "https://localhost:8080/",
          "height": 383
        },
        "id": "dm1w_0RreghI",
        "outputId": "99585227-3d94-433d-b5d0-b2a31eb4c3c7"
      },
      "execution_count": 11,
      "outputs": [
        {
          "output_type": "stream",
          "name": "stdout",
          "text": [
            "class     1   2   3   4   5   6\n",
            "scaling                        \n",
            "0         0   0   2   0   6   0\n",
            "1        13   7  28  24  34   5\n",
            "2        64  43  37  25  11  15\n",
            "3        35  11   5   0   1   0\n"
          ]
        },
        {
          "output_type": "display_data",
          "data": {
            "text/plain": [
              "<Figure size 432x288 with 1 Axes>"
            ],
            "image/png": "[encoded data removed]"
          },
          "metadata": {
            "needs_background": "light"
          }
        }
      ]
    },
    {
      "cell_type": "code",
      "source": [
        "c_crosstab = pd.crosstab( dermatology_data['definite_borders'],dermatology_data['class'] )\n",
        "print(c_crosstab)\n",
        "\n",
        "# Creating barplot\n",
        "# x label rotation\n",
        "barplot = b_crosstab.plot.bar(rot=0)"
      ],
      "metadata": {
        "colab": {
          "base_uri": "https://localhost:8080/",
          "height": 383
        },
        "id": "0q_E7SuAgfzL",
        "outputId": "05b87fb0-1fc9-4519-a747-b30c212bd143"
      },
      "execution_count": 12,
      "outputs": [
        {
          "output_type": "stream",
          "name": "stdout",
          "text": [
            "class              1   2   3   4   5  6\n",
            "definite_borders                       \n",
            "0                  0  21   1   9  23  5\n",
            "1                 14  22  10  22  16  9\n",
            "2                 73  18  42  18  11  6\n",
            "3                 25   0  19   0   2  0\n"
          ]
        },
        {
          "output_type": "display_data",
          "data": {
            "text/plain": [
              "<Figure size 432x288 with 1 Axes>"
            ],
            "image/png": "[encoded data removed]"
          },
          "metadata": {
            "needs_background": "light"
          }
        }
      ]
    },
    {
      "cell_type": "code",
      "source": [
        "d_crosstab = pd.crosstab( dermatology_data['itching'],dermatology_data['class'] )\n",
        "print(d_crosstab)\n",
        "\n",
        "# Creating barplot\n",
        "# x label rotation\n",
        "barplot = d_crosstab.plot.bar(rot=0)"
      ],
      "metadata": {
        "colab": {
          "base_uri": "https://localhost:8080/",
          "height": 383
        },
        "id": "0bRTf0bOhOCw",
        "outputId": "8d003614-45c8-4956-ba4e-6dd0ebc13480"
      },
      "execution_count": 13,
      "outputs": [
        {
          "output_type": "stream",
          "name": "stdout",
          "text": [
            "class     1   2   3   4   5   6\n",
            "itching                        \n",
            "0        55   9   2  33   8  11\n",
            "1        22  16   9  10   7   8\n",
            "2        21  25  28   5  20   1\n",
            "3        14  11  33   1  17   0\n"
          ]
        },
        {
          "output_type": "display_data",
          "data": {
            "text/plain": [
              "<Figure size 432x288 with 1 Axes>"
            ],
            "image/png": "[encoded data removed]"
          },
          "metadata": {
            "needs_background": "light"
          }
        }
      ]
    },
    {
      "cell_type": "code",
      "source": [
        "e_crosstab = pd.crosstab( dermatology_data['koebner_phenomenon'],dermatology_data['class'] )\n",
        "print(e_crosstab)\n",
        "\n",
        "# Creating barplot\n",
        "# x label rotation\n",
        "barplot = e_crosstab.plot.bar(rot=0)"
      ],
      "metadata": {
        "colab": {
          "base_uri": "https://localhost:8080/",
          "height": 384
        },
        "id": "KXxWhVAFixVy",
        "outputId": "b9aac7b0-4d4e-45c4-e66e-67ce94d987b0"
      },
      "execution_count": 14,
      "outputs": [
        {
          "output_type": "stream",
          "name": "stdout",
          "text": [
            "class                1   2   3   4   5   6\n",
            "koebner_phenomenon                        \n",
            "0                   63  60  20   9  52  20\n",
            "1                   27   0  18  25   0   0\n",
            "2                   18   1  23  12   0   0\n",
            "3                    4   0  11   3   0   0\n"
          ]
        },
        {
          "output_type": "display_data",
          "data": {
            "text/plain": [
              "<Figure size 432x288 with 1 Axes>"
            ],
            "image/png": "[encoded data removed]"
          },
          "metadata": {
            "needs_background": "light"
          }
        }
      ]
    },
    {
      "cell_type": "code",
      "source": [
        "f_crosstab = pd.crosstab( dermatology_data['polygonal_papules'],dermatology_data['class'] )\n",
        "print(f_crosstab)\n",
        "\n",
        "# Creating barplot\n",
        "# x label rotation\n",
        "barplot = f_crosstab.plot.bar(rot=0)"
      ],
      "metadata": {
        "colab": {
          "base_uri": "https://localhost:8080/",
          "height": 384
        },
        "id": "lUmwDhXWjB6u",
        "outputId": "f9f1b228-795a-4e47-9741-0f4c8160bce4"
      },
      "execution_count": 15,
      "outputs": [
        {
          "output_type": "stream",
          "name": "stdout",
          "text": [
            "class                1   2   3   4   5   6\n",
            "polygonal_papules                         \n",
            "0                  112  61   3  49  52  20\n",
            "1                    0   0   1   0   0   0\n",
            "2                    0   0  41   0   0   0\n",
            "3                    0   0  27   0   0   0\n"
          ]
        },
        {
          "output_type": "display_data",
          "data": {
            "text/plain": [
              "<Figure size 432x288 with 1 Axes>"
            ],
            "image/png": "[encoded data removed]"
          },
          "metadata": {
            "needs_background": "light"
          }
        }
      ]
    },
    {
      "cell_type": "code",
      "source": [
        "g_crosstab = pd.crosstab( dermatology_data['follicular_papules'],dermatology_data['class'] )\n",
        "print(g_crosstab)\n",
        "\n",
        "# Creating barplot\n",
        "# x label rotation\n",
        "barplot = g_crosstab.plot.bar(rot=0)"
      ],
      "metadata": {
        "colab": {
          "base_uri": "https://localhost:8080/",
          "height": 384
        },
        "id": "5Ft0iY5sltfx",
        "outputId": "cefdb949-e715-4d43-f522-7d56b8075e92"
      },
      "execution_count": 16,
      "outputs": [
        {
          "output_type": "stream",
          "name": "stdout",
          "text": [
            "class                 1   2   3   4   5   6\n",
            "follicular_papules                         \n",
            "0                   109  60  72  49  43   0\n",
            "1                     2   1   0   0   6   2\n",
            "2                     1   0   0   0   3  12\n",
            "3                     0   0   0   0   0   6\n"
          ]
        },
        {
          "output_type": "display_data",
          "data": {
            "text/plain": [
              "<Figure size 432x288 with 1 Axes>"
            ],
            "image/png": "[encoded data removed]"
          },
          "metadata": {
            "needs_background": "light"
          }
        }
      ]
    },
    {
      "cell_type": "code",
      "source": [
        "h_crosstab = pd.crosstab( dermatology_data['oral_mucosal_involvement'],dermatology_data['class'] )\n",
        "print(h_crosstab)\n",
        "\n",
        "# Creating barplot\n",
        "# x label rotation\n",
        "barplot = h_crosstab.plot.bar(rot=0)"
      ],
      "metadata": {
        "colab": {
          "base_uri": "https://localhost:8080/",
          "height": 384
        },
        "id": "nfwt7endnade",
        "outputId": "b019269b-9c86-4b08-ae73-ce2c1378e507"
      },
      "execution_count": 17,
      "outputs": [
        {
          "output_type": "stream",
          "name": "stdout",
          "text": [
            "class                       1   2   3   4   5   6\n",
            "oral_mucosal_involvement                         \n",
            "0                         112  61   5  49  52  20\n",
            "1                           0   0   9   0   0   0\n",
            "2                           0   0  45   0   0   0\n",
            "3                           0   0  13   0   0   0\n"
          ]
        },
        {
          "output_type": "display_data",
          "data": {
            "text/plain": [
              "<Figure size 432x288 with 1 Axes>"
            ],
            "image/png": "[encoded data removed]"
          },
          "metadata": {
            "needs_background": "light"
          }
        }
      ]
    },
    {
      "cell_type": "code",
      "source": [
        "i_crosstab = pd.crosstab( dermatology_data['knee_and_elbow_involvement'],dermatology_data['class'] )\n",
        "print(i_crosstab)\n",
        "\n",
        "# Creating barplot\n",
        "# x label rotation\n",
        "barplot = i_crosstab.plot.bar(rot=0)"
      ],
      "metadata": {
        "colab": {
          "base_uri": "https://localhost:8080/",
          "height": 384
        },
        "id": "po0fbXYUnlIz",
        "outputId": "c7b13090-d7fc-4047-baf1-d9ffb6838ea5"
      },
      "execution_count": 18,
      "outputs": [
        {
          "output_type": "stream",
          "name": "stdout",
          "text": [
            "class                        1   2   3   4   5  6\n",
            "knee_and_elbow_involvement                       \n",
            "0                           23  57  71  49  50  1\n",
            "1                           15   4   0   0   2  7\n",
            "2                           54   0   1   0   0  9\n",
            "3                           20   0   0   0   0  3\n"
          ]
        },
        {
          "output_type": "display_data",
          "data": {
            "text/plain": [
              "<Figure size 432x288 with 1 Axes>"
            ],
            "image/png": "[encoded data removed]"
          },
          "metadata": {
            "needs_background": "light"
          }
        }
      ]
    },
    {
      "cell_type": "code",
      "source": [
        "j_crosstab = pd.crosstab( dermatology_data['scalp_involvement'],dermatology_data['class'] )\n",
        "print(j_crosstab)\n",
        "\n",
        "# Creating barplot\n",
        "# x label rotation\n",
        "barplot = j_crosstab.plot.bar(rot=0)"
      ],
      "metadata": {
        "colab": {
          "base_uri": "https://localhost:8080/",
          "height": 384
        },
        "id": "C4dkzUxjoRDP",
        "outputId": "1059094d-b6c4-43f3-e3a7-b60ea63de050"
      },
      "execution_count": 19,
      "outputs": [
        {
          "output_type": "stream",
          "name": "stdout",
          "text": [
            "class               1   2   3   4   5   6\n",
            "scalp_involvement                        \n",
            "0                  23  56  70  49  52  14\n",
            "1                  23   3   2   0   0   2\n",
            "2                  50   2   0   0   0   4\n",
            "3                  16   0   0   0   0   0\n"
          ]
        },
        {
          "output_type": "display_data",
          "data": {
            "text/plain": [
              "<Figure size 432x288 with 1 Axes>"
            ],
            "image/png": "[encoded data removed]"
          },
          "metadata": {
            "needs_background": "light"
          }
        }
      ]
    },
    {
      "cell_type": "code",
      "source": [
        "k_crosstab = pd.crosstab( dermatology_data['family_history'],dermatology_data['class'] )\n",
        "print(k_crosstab)\n",
        "\n",
        "# Creating barplot\n",
        "# x label rotation\n",
        "barplot = k_crosstab.plot.bar(rot=0)"
      ],
      "metadata": {
        "colab": {
          "base_uri": "https://localhost:8080/",
          "height": 349
        },
        "id": "KEEnNS85oe-p",
        "outputId": "4972e5b3-494b-4bf3-99e0-cfbcceb755d8"
      },
      "execution_count": 20,
      "outputs": [
        {
          "output_type": "stream",
          "name": "stdout",
          "text": [
            "class            1   2   3   4   5   6\n",
            "family_history                        \n",
            "0               80  58  71  49  52  10\n",
            "1               32   3   1   0   0  10\n"
          ]
        },
        {
          "output_type": "display_data",
          "data": {
            "text/plain": [
              "<Figure size 432x288 with 1 Axes>"
            ],
            "image/png": "[encoded data removed]"
          },
          "metadata": {
            "needs_background": "light"
          }
        }
      ]
    },
    {
      "cell_type": "code",
      "source": [
        "l_crosstab = pd.crosstab( dermatology_data['melanin_incontinence'],dermatology_data['class'] )\n",
        "print(l_crosstab)\n",
        "\n",
        "# Creating barplot\n",
        "# x label rotation\n",
        "barplot = l_crosstab.plot.bar(rot=0)"
      ],
      "metadata": {
        "colab": {
          "base_uri": "https://localhost:8080/",
          "height": 384
        },
        "id": "cyBug7zJo3bQ",
        "outputId": "c4709c9c-42b6-4e44-aea3-49ecc4825453"
      },
      "execution_count": 21,
      "outputs": [
        {
          "output_type": "stream",
          "name": "stdout",
          "text": [
            "class                   1   2   3   4   5   6\n",
            "melanin_incontinence                         \n",
            "0                     112  61   2  49  52  20\n",
            "1                       0   0   8   0   0   0\n",
            "2                       0   0  46   0   0   0\n",
            "3                       0   0  16   0   0   0\n"
          ]
        },
        {
          "output_type": "display_data",
          "data": {
            "text/plain": [
              "<Figure size 432x288 with 1 Axes>"
            ],
            "image/png": "[encoded data removed]"
          },
          "metadata": {
            "needs_background": "light"
          }
        }
      ]
    },
    {
      "cell_type": "code",
      "source": [
        "m_crosstab = pd.crosstab( dermatology_data['eosinophils_in_the_infiltrate'],dermatology_data['class'] )\n",
        "print(m_crosstab)\n",
        "\n",
        "# Creating barplot\n",
        "# x label rotation\n",
        "barplot = m_crosstab.plot.bar(rot=0)"
      ],
      "metadata": {
        "colab": {
          "base_uri": "https://localhost:8080/",
          "height": 367
        },
        "id": "wLPUjgQspIXo",
        "outputId": "9c12d358-ea30-44e4-a36d-2e09e5267dd9"
      },
      "execution_count": 22,
      "outputs": [
        {
          "output_type": "stream",
          "name": "stdout",
          "text": [
            "class                            1   2   3   4   5   6\n",
            "eosinophils_in_the_infiltrate                         \n",
            "0                              109  39  62  46  48  20\n",
            "1                                2  16   8   3   4   0\n",
            "2                                1   6   2   0   0   0\n"
          ]
        },
        {
          "output_type": "display_data",
          "data": {
            "text/plain": [
              "<Figure size 432x288 with 1 Axes>"
            ],
            "image/png": "[encoded data removed]"
          },
          "metadata": {
            "needs_background": "light"
          }
        }
      ]
    },
    {
      "cell_type": "code",
      "source": [
        "n_crosstab = pd.crosstab( dermatology_data['pnl_infiltrate'],dermatology_data['class'] )\n",
        "print(n_crosstab)\n",
        "\n",
        "# Creating barplot\n",
        "# x label rotation\n",
        "barplot = n_crosstab.plot.bar(rot=0)"
      ],
      "metadata": {
        "colab": {
          "base_uri": "https://localhost:8080/",
          "height": 384
        },
        "id": "yucDnZkgpaLr",
        "outputId": "99f55a75-b1e1-4bab-81f9-6dc3850d243e"
      },
      "execution_count": 23,
      "outputs": [
        {
          "output_type": "stream",
          "name": "stdout",
          "text": [
            "class            1   2   3   4   5   6\n",
            "pnl_infiltrate                        \n",
            "0               34  17  72  43  52  17\n",
            "1               37  23   0   6   0   3\n",
            "2               35  20   0   0   0   0\n",
            "3                6   1   0   0   0   0\n"
          ]
        },
        {
          "output_type": "display_data",
          "data": {
            "text/plain": [
              "<Figure size 432x288 with 1 Axes>"
            ],
            "image/png": "[encoded data removed]"
          },
          "metadata": {
            "needs_background": "light"
          }
        }
      ]
    },
    {
      "cell_type": "code",
      "source": [
        "o_crosstab = pd.crosstab( dermatology_data['fibrosis_of_the_papillary_dermis'],dermatology_data['class'] )\n",
        "print(o_crosstab)\n",
        "\n",
        "# Creating barplot\n",
        "# x label rotation\n",
        "barplot = o_crosstab.plot.bar(rot=0)"
      ],
      "metadata": {
        "colab": {
          "base_uri": "https://localhost:8080/",
          "height": 384
        },
        "id": "9Uv_-IThpiEq",
        "outputId": "087f27ef-39f6-42ec-9f80-0890711fe14f"
      },
      "execution_count": 24,
      "outputs": [
        {
          "output_type": "stream",
          "name": "stdout",
          "text": [
            "class                               1   2   3   4   5   6\n",
            "fibrosis_of_the_papillary_dermis                         \n",
            "0                                 112  61  70  49   0  20\n",
            "1                                   0   0   0   0   8   0\n",
            "2                                   0   0   2   0  21   0\n",
            "3                                   0   0   0   0  23   0\n"
          ]
        },
        {
          "output_type": "display_data",
          "data": {
            "text/plain": [
              "<Figure size 432x288 with 1 Axes>"
            ],
            "image/png": "[encoded data removed]"
          },
          "metadata": {
            "needs_background": "light"
          }
        }
      ]
    },
    {
      "cell_type": "code",
      "source": [
        "p_crosstab = pd.crosstab( dermatology_data['exocytosis'],dermatology_data['class'] )\n",
        "print(p_crosstab)\n",
        "\n",
        "# Creating barplot\n",
        "# x label rotation\n",
        "barplot = p_crosstab.plot.bar(rot=0)"
      ],
      "metadata": {
        "colab": {
          "base_uri": "https://localhost:8080/",
          "height": 383
        },
        "id": "oMOS7oDuqDTP",
        "outputId": "f30aa6be-6ec5-47b0-9ffc-507890f8ab56"
      },
      "execution_count": 25,
      "outputs": [
        {
          "output_type": "stream",
          "name": "stdout",
          "text": [
            "class        1   2   3   4   5  6\n",
            "exocytosis                       \n",
            "0           93   1   1   1  20  2\n",
            "1            8   7   6   8  20  8\n",
            "2           11  32  38  28  12  8\n",
            "3            0  21  27  12   0  2\n"
          ]
        },
        {
          "output_type": "display_data",
          "data": {
            "text/plain": [
              "<Figure size 432x288 with 1 Axes>"
            ],
            "image/png": "[encoded data removed]"
          },
          "metadata": {
            "needs_background": "light"
          }
        }
      ]
    },
    {
      "cell_type": "code",
      "source": [
        "q_crosstab = pd.crosstab( dermatology_data['acanthosis'],dermatology_data['class'] )\n",
        "print(q_crosstab)\n",
        "\n",
        "# Creating barplot\n",
        "# x label rotation\n",
        "barplot = q_crosstab.plot.bar(rot=0)"
      ],
      "metadata": {
        "colab": {
          "base_uri": "https://localhost:8080/",
          "height": 383
        },
        "id": "MOX1HiNxql3v",
        "outputId": "eb9842b0-66d7-4986-e7c5-4e633a40260a"
      },
      "execution_count": 26,
      "outputs": [
        {
          "output_type": "stream",
          "name": "stdout",
          "text": [
            "class        1   2   3   4   5   6\n",
            "acanthosis                        \n",
            "0            1   4   1   4   0   0\n",
            "1           14  14   9  19   7   8\n",
            "2           70  35  43  26  25  11\n",
            "3           27   8  19   0  20   1\n"
          ]
        },
        {
          "output_type": "display_data",
          "data": {
            "text/plain": [
              "<Figure size 432x288 with 1 Axes>"
            ],
            "image/png": "[encoded data removed]"
          },
          "metadata": {
            "needs_background": "light"
          }
        }
      ]
    },
    {
      "cell_type": "code",
      "source": [
        "r_crosstab = pd.crosstab( dermatology_data['hyperkeratosis'],dermatology_data['class'] )\n",
        "print(r_crosstab)\n",
        "\n",
        "# Creating barplot\n",
        "# x label rotation\n",
        "barplot = r_crosstab.plot.bar(rot=0)"
      ],
      "metadata": {
        "colab": {
          "base_uri": "https://localhost:8080/",
          "height": 383
        },
        "id": "p4WQ9NIHqu0Z",
        "outputId": "62ede23c-99f8-430c-d211-2e111ed7422a"
      },
      "execution_count": 27,
      "outputs": [
        {
          "output_type": "stream",
          "name": "stdout",
          "text": [
            "class            1   2   3   4   5   6\n",
            "hyperkeratosis                        \n",
            "0               53  50  54  37  27   6\n",
            "1               30  10  15   9  14  12\n",
            "2               25   0   3   3  11   2\n",
            "3                4   1   0   0   0   0\n"
          ]
        },
        {
          "output_type": "display_data",
          "data": {
            "text/plain": [
              "<Figure size 432x288 with 1 Axes>"
            ],
            "image/png": "[encoded data removed]"
          },
          "metadata": {
            "needs_background": "light"
          }
        }
      ]
    },
    {
      "cell_type": "code",
      "source": [
        "s_crosstab = pd.crosstab( dermatology_data['parakeratosis'],dermatology_data['class'] )\n",
        "print(s_crosstab)\n",
        "\n",
        "# Creating barplot\n",
        "# x label rotation\n",
        "barplot = s_crosstab.plot.bar(rot=0)"
      ],
      "metadata": {
        "colab": {
          "base_uri": "https://localhost:8080/",
          "height": 383
        },
        "id": "-l-Wdy-3q5Hh",
        "outputId": "7e0e8da5-ed0c-4fbc-8bc2-e01dacdbad42"
      },
      "execution_count": 28,
      "outputs": [
        {
          "output_type": "stream",
          "name": "stdout",
          "text": [
            "class           1   2   3   4   5   6\n",
            "parakeratosis                        \n",
            "0               1  24  15  17  27   2\n",
            "1              20  17  32  27  11  11\n",
            "2              69  17  20   5  14   7\n",
            "3              22   3   5   0   0   0\n"
          ]
        },
        {
          "output_type": "display_data",
          "data": {
            "text/plain": [
              "<Figure size 432x288 with 1 Axes>"
            ],
            "image/png": "[encoded data removed]"
          },
          "metadata": {
            "needs_background": "light"
          }
        }
      ]
    },
    {
      "cell_type": "code",
      "source": [
        "t_crosstab = pd.crosstab( dermatology_data['clubbing_of_the_rete_ridges'],dermatology_data['class'] )\n",
        "print(t_crosstab)\n",
        "\n",
        "# Creating barplot\n",
        "# x label rotation\n",
        "barplot = t_crosstab.plot.bar(rot=0)"
      ],
      "metadata": {
        "colab": {
          "base_uri": "https://localhost:8080/",
          "height": 384
        },
        "id": "PP_uf48IrG6X",
        "outputId": "79f1dd55-4821-4eba-cbb1-5ee2cf6206f9"
      },
      "execution_count": 29,
      "outputs": [
        {
          "output_type": "stream",
          "name": "stdout",
          "text": [
            "class                         1   2   3   4   5   6\n",
            "clubbing_of_the_rete_ridges                        \n",
            "0                             3  61  72  49  49  18\n",
            "1                            15   0   0   0   2   2\n",
            "2                            60   0   0   0   1   0\n",
            "3                            34   0   0   0   0   0\n"
          ]
        },
        {
          "output_type": "display_data",
          "data": {
            "text/plain": [
              "<Figure size 432x288 with 1 Axes>"
            ],
            "image/png": "[encoded data removed]"
          },
          "metadata": {
            "needs_background": "light"
          }
        }
      ]
    },
    {
      "cell_type": "code",
      "source": [
        "u_crosstab = pd.crosstab( dermatology_data['elongation_of_the_rete_ridges'],dermatology_data['class'] )\n",
        "print(u_crosstab)\n",
        "\n",
        "# Creating barplot\n",
        "# x label rotation\n",
        "barplot = u_crosstab.plot.bar(rot=0)"
      ],
      "metadata": {
        "colab": {
          "base_uri": "https://localhost:8080/",
          "height": 384
        },
        "id": "4Ktt3NaErPG5",
        "outputId": "7d2335c9-27f8-4b92-dab3-4583fd9e29ee"
      },
      "execution_count": 30,
      "outputs": [
        {
          "output_type": "stream",
          "name": "stdout",
          "text": [
            "class                           1   2   3   4   5   6\n",
            "elongation_of_the_rete_ridges                        \n",
            "0                               0  54  72  49   5  18\n",
            "1                              11   4   0   0   6   2\n",
            "2                              61   3   0   0  31   0\n",
            "3                              40   0   0   0  10   0\n"
          ]
        },
        {
          "output_type": "display_data",
          "data": {
            "text/plain": [
              "<Figure size 432x288 with 1 Axes>"
            ],
            "image/png": "[encoded data removed]"
          },
          "metadata": {
            "needs_background": "light"
          }
        }
      ]
    },
    {
      "cell_type": "code",
      "source": [
        "v_crosstab = pd.crosstab( dermatology_data['thinning_of_the_suprapapillary_epidermis'],dermatology_data['class'] )\n",
        "print(v_crosstab)\n",
        "\n",
        "# Creating barplot\n",
        "# x label rotation\n",
        "barplot = v_crosstab.plot.bar(rot=0)"
      ],
      "metadata": {
        "colab": {
          "base_uri": "https://localhost:8080/",
          "height": 384
        },
        "id": "4_uG1h6Xrj4g",
        "outputId": "37042352-0ffc-403a-b790-56afc3ae516e"
      },
      "execution_count": 31,
      "outputs": [
        {
          "output_type": "stream",
          "name": "stdout",
          "text": [
            "class                                      1   2   3   4   5   6\n",
            "thinning_of_the_suprapapillary_epidermis                        \n",
            "0                                          4  60  72  49  51  20\n",
            "1                                         17   1   0   0   1   0\n",
            "2                                         60   0   0   0   0   0\n",
            "3                                         31   0   0   0   0   0\n"
          ]
        },
        {
          "output_type": "display_data",
          "data": {
            "text/plain": [
              "<Figure size 432x288 with 1 Axes>"
            ],
            "image/png": "[encoded data removed]"
          },
          "metadata": {
            "needs_background": "light"
          }
        }
      ]
    },
    {
      "cell_type": "code",
      "source": [
        "w_crosstab = pd.crosstab( dermatology_data['spongiform_pustule'],dermatology_data['class'] )\n",
        "print(w_crosstab)\n",
        "\n",
        "# Creating barplot\n",
        "# x label rotation\n",
        "barplot = w_crosstab.plot.bar(rot=0)"
      ],
      "metadata": {
        "colab": {
          "base_uri": "https://localhost:8080/",
          "height": 384
        },
        "id": "Zvul1wHVrzKm",
        "outputId": "1bb1cc29-1cce-4771-f0a2-767237d703c5"
      },
      "execution_count": 32,
      "outputs": [
        {
          "output_type": "stream",
          "name": "stdout",
          "text": [
            "class                1   2   3   4   5   6\n",
            "spongiform_pustule                        \n",
            "0                   52  53  72  49  51  19\n",
            "1                   30   6   0   0   1   1\n",
            "2                   24   2   0   0   0   0\n",
            "3                    6   0   0   0   0   0\n"
          ]
        },
        {
          "output_type": "display_data",
          "data": {
            "text/plain": [
              "<Figure size 432x288 with 1 Axes>"
            ],
            "image/png": "[encoded data removed]"
          },
          "metadata": {
            "needs_background": "light"
          }
        }
      ]
    },
    {
      "cell_type": "code",
      "source": [
        "x_crosstab = pd.crosstab( dermatology_data['munro_microabcess'],dermatology_data['class'] )\n",
        "print(x_crosstab)\n",
        "\n",
        "# Creating barplot\n",
        "# x label rotation\n",
        "barplot = x_crosstab.plot.bar(rot=0)"
      ],
      "metadata": {
        "colab": {
          "base_uri": "https://localhost:8080/",
          "height": 384
        },
        "id": "rtuqPof6r-Cw",
        "outputId": "8241aacb-5117-4bb0-ad1b-4094dc97324b"
      },
      "execution_count": 33,
      "outputs": [
        {
          "output_type": "stream",
          "name": "stdout",
          "text": [
            "class               1   2   3   4   5   6\n",
            "munro_microabcess                        \n",
            "0                  34  61  71  48  52  20\n",
            "1                  36   0   0   1   0   0\n",
            "2                  33   0   0   0   0   0\n",
            "3                   9   0   1   0   0   0\n"
          ]
        },
        {
          "output_type": "display_data",
          "data": {
            "text/plain": [
              "<Figure size 432x288 with 1 Axes>"
            ],
            "image/png": "[encoded data removed]"
          },
          "metadata": {
            "needs_background": "light"
          }
        }
      ]
    },
    {
      "cell_type": "code",
      "source": [
        "y_crosstab = pd.crosstab( dermatology_data['focal_hypergranulosis'],dermatology_data['class'] )\n",
        "print(y_crosstab)\n",
        "\n",
        "# Creating barplot\n",
        "# x label rotation\n",
        "barplot = y_crosstab.plot.bar(rot=0)"
      ],
      "metadata": {
        "colab": {
          "base_uri": "https://localhost:8080/",
          "height": 384
        },
        "id": "Y5NF9Zp7sp5h",
        "outputId": "57be4634-ca63-4386-e620-1d24c465669a"
      },
      "execution_count": 34,
      "outputs": [
        {
          "output_type": "stream",
          "name": "stdout",
          "text": [
            "class                    1   2   3   4   5   6\n",
            "focal_hypergranulosis                         \n",
            "0                      112  61   2  49  52  19\n",
            "1                        0   0  12   0   0   1\n",
            "2                        0   0  43   0   0   0\n",
            "3                        0   0  15   0   0   0\n"
          ]
        },
        {
          "output_type": "display_data",
          "data": {
            "text/plain": [
              "<Figure size 432x288 with 1 Axes>"
            ],
            "image/png": "[encoded data removed]"
          },
          "metadata": {
            "needs_background": "light"
          }
        }
      ]
    },
    {
      "cell_type": "code",
      "source": [
        "z_crosstab = pd.crosstab( dermatology_data['disappearance_of_the_granular_layer'],dermatology_data['class'] )\n",
        "print(z_crosstab)\n",
        "\n",
        "# Creating barplot\n",
        "# x label rotation\n",
        "barplot = z_crosstab.plot.bar(rot=0)"
      ],
      "metadata": {
        "colab": {
          "base_uri": "https://localhost:8080/",
          "height": 384
        },
        "id": "iOOwoQaztNbw",
        "outputId": "28914e61-080c-42ef-c160-6c40c0e6ba3b"
      },
      "execution_count": 35,
      "outputs": [
        {
          "output_type": "stream",
          "name": "stdout",
          "text": [
            "class                                 1   2   3   4   5   6\n",
            "disappearance_of_the_granular_layer                        \n",
            "0                                    46  61  63  31  52  20\n",
            "1                                    12   0   1  17   0   0\n",
            "2                                    40   0   8   1   0   0\n",
            "3                                    14   0   0   0   0   0\n"
          ]
        },
        {
          "output_type": "display_data",
          "data": {
            "text/plain": [
              "<Figure size 432x288 with 1 Axes>"
            ],
            "image/png": "[encoded data removed]"
          },
          "metadata": {
            "needs_background": "light"
          }
        }
      ]
    },
    {
      "cell_type": "code",
      "source": [
        "aa_crosstab = pd.crosstab( dermatology_data['vacuolisation_and_damage_of_basal_layer'],dermatology_data['class'] )\n",
        "print(aa_crosstab)\n",
        "\n",
        "# Creating barplot\n",
        "# x label rotation\n",
        "barplot = aa_crosstab.plot.bar(rot=0)"
      ],
      "metadata": {
        "colab": {
          "base_uri": "https://localhost:8080/",
          "height": 384
        },
        "id": "3_eXFVvotYn5",
        "outputId": "520b5444-2ab3-4dd1-bbae-3f969d3502e6"
      },
      "execution_count": 36,
      "outputs": [
        {
          "output_type": "stream",
          "name": "stdout",
          "text": [
            "class                                      1   2   3   4   5   6\n",
            "vacuolisation_and_damage_of_basal_layer                         \n",
            "0                                        111  61   1  49  52  20\n",
            "1                                          1   0   2   0   0   0\n",
            "2                                          0   0  43   0   0   0\n",
            "3                                          0   0  26   0   0   0\n"
          ]
        },
        {
          "output_type": "display_data",
          "data": {
            "text/plain": [
              "<Figure size 432x288 with 1 Axes>"
            ],
            "image/png": "[encoded data removed]"
          },
          "metadata": {
            "needs_background": "light"
          }
        }
      ]
    },
    {
      "cell_type": "code",
      "source": [
        "ab_crosstab = pd.crosstab( dermatology_data['spongiosis'],dermatology_data['class'] )\n",
        "print(ab_crosstab)\n",
        "\n",
        "# Creating barplot\n",
        "# x label rotation\n",
        "barplot = ab_crosstab.plot.bar(rot=0)"
      ],
      "metadata": {
        "colab": {
          "base_uri": "https://localhost:8080/",
          "height": 383
        },
        "id": "DZ2DA-6YuHlE",
        "outputId": "fd32f161-11dc-4057-e1d8-93a2752a7520"
      },
      "execution_count": 37,
      "outputs": [
        {
          "output_type": "stream",
          "name": "stdout",
          "text": [
            "class         1   2   3   4   5  6\n",
            "spongiosis                        \n",
            "0           112   4  35   2  40  6\n",
            "1             0   2   6   7   7  6\n",
            "2             0  35  20  31   4  6\n",
            "3             0  20  11   9   1  2\n"
          ]
        },
        {
          "output_type": "display_data",
          "data": {
            "text/plain": [
              "<Figure size 432x288 with 1 Axes>"
            ],
            "image/png": "[encoded data removed]"
          },
          "metadata": {
            "needs_background": "light"
          }
        }
      ]
    },
    {
      "cell_type": "code",
      "source": [
        "ac_crosstab = pd.crosstab( dermatology_data['saw-tooth_appearance_of_retes'],dermatology_data['class'] )\n",
        "print(ac_crosstab)\n",
        "\n",
        "# Creating barplot\n",
        "# x label rotation\n",
        "barplot = ac_crosstab.plot.bar(rot=0)"
      ],
      "metadata": {
        "colab": {
          "base_uri": "https://localhost:8080/",
          "height": 384
        },
        "id": "qLUMRUYzufkB",
        "outputId": "375a1666-137e-4786-d47a-56982d262112"
      },
      "execution_count": 38,
      "outputs": [
        {
          "output_type": "stream",
          "name": "stdout",
          "text": [
            "class                            1   2   3   4   5   6\n",
            "saw-tooth_appearance_of_retes                         \n",
            "0                              112  61   1  48  52  20\n",
            "1                                0   0   4   1   0   0\n",
            "2                                0   0  40   0   0   0\n",
            "3                                0   0  27   0   0   0\n"
          ]
        },
        {
          "output_type": "display_data",
          "data": {
            "text/plain": [
              "<Figure size 432x288 with 1 Axes>"
            ],
            "image/png": "[encoded data removed]"
          },
          "metadata": {
            "needs_background": "light"
          }
        }
      ]
    },
    {
      "cell_type": "code",
      "source": [
        "ad_crosstab = pd.crosstab( dermatology_data['follicular_horn_plug'],dermatology_data['class'] )\n",
        "print(ad_crosstab)\n",
        "\n",
        "# Creating barplot\n",
        "# x label rotation\n",
        "barplot = ad_crosstab.plot.bar(rot=0)"
      ],
      "metadata": {
        "colab": {
          "base_uri": "https://localhost:8080/",
          "height": 384
        },
        "id": "U1TynxKAuuUj",
        "outputId": "2830ff29-987e-48d7-c5e5-7514ba401ece"
      },
      "execution_count": 39,
      "outputs": [
        {
          "output_type": "stream",
          "name": "stdout",
          "text": [
            "class                   1   2   3   4   5  6\n",
            "follicular_horn_plug                        \n",
            "0                     112  60  71  49  51  1\n",
            "1                       0   1   1   0   1  7\n",
            "2                       0   0   0   0   0  8\n",
            "3                       0   0   0   0   0  4\n"
          ]
        },
        {
          "output_type": "display_data",
          "data": {
            "text/plain": [
              "<Figure size 432x288 with 1 Axes>"
            ],
            "image/png": "[encoded data removed]"
          },
          "metadata": {
            "needs_background": "light"
          }
        }
      ]
    },
    {
      "cell_type": "code",
      "source": [
        "ae_crosstab = pd.crosstab( dermatology_data['perifollicular_parakeratosis'],dermatology_data['class'] )\n",
        "print(ae_crosstab)\n",
        "\n",
        "# Creating barplot\n",
        "# x label rotation\n",
        "barplot = ae_crosstab.plot.bar(rot=0)"
      ],
      "metadata": {
        "colab": {
          "base_uri": "https://localhost:8080/",
          "height": 384
        },
        "id": "iCBBi-PEu96e",
        "outputId": "254b6b22-bf79-4836-dcb6-219bdfd486cc"
      },
      "execution_count": 40,
      "outputs": [
        {
          "output_type": "stream",
          "name": "stdout",
          "text": [
            "class                           1   2   3   4   5   6\n",
            "perifollicular_parakeratosis                         \n",
            "0                             112  60  72  49  52   0\n",
            "1                               0   1   0   0   0   3\n",
            "2                               0   0   0   0   0  13\n",
            "3                               0   0   0   0   0   4\n"
          ]
        },
        {
          "output_type": "display_data",
          "data": {
            "text/plain": [
              "<Figure size 432x288 with 1 Axes>"
            ],
            "image/png": "[encoded data removed]"
          },
          "metadata": {
            "needs_background": "light"
          }
        }
      ]
    },
    {
      "cell_type": "code",
      "source": [
        "af_crosstab = pd.crosstab( dermatology_data['inflammatory_monoluclear_inflitrate'],dermatology_data['class'] )\n",
        "print(af_crosstab)\n",
        "\n",
        "# Creating barplot\n",
        "# x label rotation\n",
        "barplot = af_crosstab.plot.bar(rot=0)"
      ],
      "metadata": {
        "colab": {
          "base_uri": "https://localhost:8080/",
          "height": 384
        },
        "id": "pTKapsXfvK22",
        "outputId": "2c28e2ed-bb71-4d8a-a3aa-886c27b20cd8"
      },
      "execution_count": 41,
      "outputs": [
        {
          "output_type": "stream",
          "name": "stdout",
          "text": [
            "class                                 1   2   3   4   5   6\n",
            "inflammatory_monoluclear_inflitrate                        \n",
            "0                                     5   4   1   1   1   1\n",
            "1                                    22  23   3  13  17   7\n",
            "2                                    68  27  45  31  24  11\n",
            "3                                    17   7  23   4  10   1\n"
          ]
        },
        {
          "output_type": "display_data",
          "data": {
            "text/plain": [
              "<Figure size 432x288 with 1 Axes>"
            ],
            "image/png": "[encoded data removed]"
          },
          "metadata": {
            "needs_background": "light"
          }
        }
      ]
    },
    {
      "cell_type": "code",
      "source": [
        "ag_crosstab = pd.crosstab( dermatology_data['band-like_infiltrate'],dermatology_data['class'] )\n",
        "print(ag_crosstab)\n",
        "\n",
        "# Creating barplot\n",
        "# x label rotation\n",
        "barplot = ag_crosstab.plot.bar(rot=0)"
      ],
      "metadata": {
        "colab": {
          "base_uri": "https://localhost:8080/",
          "height": 384
        },
        "id": "hB-2jnqzvX3r",
        "outputId": "4c01bff3-24d8-413e-d89e-bb6404ec65f7"
      },
      "execution_count": 42,
      "outputs": [
        {
          "output_type": "stream",
          "name": "stdout",
          "text": [
            "class                   1   2   3   4   5   6\n",
            "band-like_infiltrate                         \n",
            "0                     110  60   0  49  51  19\n",
            "1                       1   0   0   0   1   1\n",
            "2                       1   1  20   0   0   0\n",
            "3                       0   0  52   0   0   0\n"
          ]
        },
        {
          "output_type": "display_data",
          "data": {
            "text/plain": [
              "<Figure size 432x288 with 1 Axes>"
            ],
            "image/png": "[encoded data removed]"
          },
          "metadata": {
            "needs_background": "light"
          }
        }
      ]
    },
    {
      "cell_type": "markdown",
      "source": [
        "**Creating a new column 'disease_1' by extracting only those records where the Disease=1 (psoriasis) and assigning “1” for those rows in the newly created  column, and marking “0” for the rest.** "
      ],
      "metadata": {
        "id": "erkLKDdjjfN-"
      }
    },
    {
      "cell_type": "code",
      "source": [
        "# create a new column based on condition \n",
        "dermatology_data['disease_1'] = [1 if a <= 1 else 0 for a in dermatology_data['class']]\n",
        "# display the dataframe\n",
        "print(dermatology_data)"
      ],
      "metadata": {
        "colab": {
          "base_uri": "https://localhost:8080/"
        },
        "id": "It-HaOkqES-0",
        "outputId": "96739fdd-23ab-4b56-e1f8-cf67424f524a"
      },
      "execution_count": 43,
      "outputs": [
        {
          "output_type": "stream",
          "name": "stdout",
          "text": [
            "     erythema  scaling  definite_borders  itching  koebner_phenomenon  \\\n",
            "0           2        2                 0        3                   0   \n",
            "1           3        3                 3        2                   1   \n",
            "2           2        1                 2        3                   1   \n",
            "3           2        2                 2        0                   0   \n",
            "4           2        3                 2        2                   2   \n",
            "..        ...      ...               ...      ...                 ...   \n",
            "361         2        1                 1        0                   1   \n",
            "362         3        2                 1        0                   1   \n",
            "363         3        2                 2        2                   3   \n",
            "364         2        1                 3        1                   2   \n",
            "365         3        2                 2        0                   0   \n",
            "\n",
            "     polygonal_papules  follicular_papules  oral_mucosal_involvement  \\\n",
            "0                    0                   0                         0   \n",
            "1                    0                   0                         0   \n",
            "2                    3                   0                         3   \n",
            "3                    0                   0                         0   \n",
            "4                    2                   0                         2   \n",
            "..                 ...                 ...                       ...   \n",
            "361                  0                   0                         0   \n",
            "362                  0                   0                         0   \n",
            "363                  2                   0                         2   \n",
            "364                  3                   0                         2   \n",
            "365                  0                   0                         0   \n",
            "\n",
            "     knee_and_elbow_involvement  scalp_involvement  ...  \\\n",
            "0                             1                  0  ...   \n",
            "1                             1                  1  ...   \n",
            "2                             0                  0  ...   \n",
            "3                             3                  2  ...   \n",
            "4                             0                  0  ...   \n",
            "..                          ...                ...  ...   \n",
            "361                           0                  0  ...   \n",
            "362                           0                  0  ...   \n",
            "363                           0                  0  ...   \n",
            "364                           0                  0  ...   \n",
            "365                           3                  3  ...   \n",
            "\n",
            "     vacuolisation_and_damage_of_basal_layer  spongiosis  \\\n",
            "0                                          0           3   \n",
            "1                                          0           0   \n",
            "2                                          2           3   \n",
            "3                                          0           0   \n",
            "4                                          3           2   \n",
            "..                                       ...         ...   \n",
            "361                                        0           1   \n",
            "362                                        0           1   \n",
            "363                                        3           0   \n",
            "364                                        2           0   \n",
            "365                                        0           0   \n",
            "\n",
            "     saw-tooth_appearance_of_retes  follicular_horn_plug  \\\n",
            "0                                0                     0   \n",
            "1                                0                     0   \n",
            "2                                2                     0   \n",
            "3                                0                     0   \n",
            "4                                3                     0   \n",
            "..                             ...                   ...   \n",
            "361                              0                     0   \n",
            "362                              0                     0   \n",
            "363                              3                     0   \n",
            "364                              1                     0   \n",
            "365                              0                     0   \n",
            "\n",
            "     perifollicular_parakeratosis  inflammatory_monoluclear_inflitrate  \\\n",
            "0                               0                                    1   \n",
            "1                               0                                    1   \n",
            "2                               0                                    2   \n",
            "3                               0                                    3   \n",
            "4                               0                                    2   \n",
            "..                            ...                                  ...   \n",
            "361                             0                                    2   \n",
            "362                             0                                    2   \n",
            "363                             0                                    2   \n",
            "364                             0                                    2   \n",
            "365                             0                                    3   \n",
            "\n",
            "     band-like_infiltrate   age  class  disease_1  \n",
            "0                       0  55.0      2          0  \n",
            "1                       0   8.0      1          1  \n",
            "2                       3  26.0      3          0  \n",
            "3                       0  40.0      1          1  \n",
            "4                       3  45.0      3          0  \n",
            "..                    ...   ...    ...        ...  \n",
            "361                     0  25.0      4          0  \n",
            "362                     0  36.0      4          0  \n",
            "363                     3  28.0      3          0  \n",
            "364                     3  50.0      3          0  \n",
            "365                     0  35.0      1          1  \n",
            "\n",
            "[366 rows x 36 columns]\n"
          ]
        }
      ]
    },
    {
      "cell_type": "code",
      "source": [
        "#displaying the first 10 rows of the data after adding the new column 'disease_1'\n",
        "dermatology_data.head(10)"
      ],
      "metadata": {
        "colab": {
          "base_uri": "https://localhost:8080/",
          "height": 473
        },
        "id": "tqHrEZi6FMa2",
        "outputId": "ffba11c7-a436-4030-fb88-a1fcd79c7bca"
      },
      "execution_count": 44,
      "outputs": [
        {
          "output_type": "execute_result",
          "data": {
            "text/plain": [
              "   erythema  scaling  definite_borders  itching  koebner_phenomenon  \\\n",
              "0         2        2                 0        3                   0   \n",
              "1         3        3                 3        2                   1   \n",
              "2         2        1                 2        3                   1   \n",
              "3         2        2                 2        0                   0   \n",
              "4         2        3                 2        2                   2   \n",
              "5         2        3                 2        0                   0   \n",
              "6         2        1                 0        2                   0   \n",
              "7         2        2                 3        3                   3   \n",
              "8         2        2                 1        0                   2   \n",
              "9         2        2                 1        0                   1   \n",
              "\n",
              "   polygonal_papules  follicular_papules  oral_mucosal_involvement  \\\n",
              "0                  0                   0                         0   \n",
              "1                  0                   0                         0   \n",
              "2                  3                   0                         3   \n",
              "3                  0                   0                         0   \n",
              "4                  2                   0                         2   \n",
              "5                  0                   0                         0   \n",
              "6                  0                   0                         0   \n",
              "7                  3                   0                         2   \n",
              "8                  0                   0                         0   \n",
              "9                  0                   0                         0   \n",
              "\n",
              "   knee_and_elbow_involvement  scalp_involvement  ...  \\\n",
              "0                           1                  0  ...   \n",
              "1                           1                  1  ...   \n",
              "2                           0                  0  ...   \n",
              "3                           3                  2  ...   \n",
              "4                           0                  0  ...   \n",
              "5                           0                  0  ...   \n",
              "6                           0                  0  ...   \n",
              "7                           0                  0  ...   \n",
              "8                           0                  0  ...   \n",
              "9                           0                  0  ...   \n",
              "\n",
              "   vacuolisation_and_damage_of_basal_layer  spongiosis  \\\n",
              "0                                        0           3   \n",
              "1                                        0           0   \n",
              "2                                        2           3   \n",
              "3                                        0           0   \n",
              "4                                        3           2   \n",
              "5                                        0           2   \n",
              "6                                        0           0   \n",
              "7                                        2           3   \n",
              "8                                        0           2   \n",
              "9                                        0           2   \n",
              "\n",
              "   saw-tooth_appearance_of_retes  follicular_horn_plug  \\\n",
              "0                              0                     0   \n",
              "1                              0                     0   \n",
              "2                              2                     0   \n",
              "3                              0                     0   \n",
              "4                              3                     0   \n",
              "5                              0                     0   \n",
              "6                              0                     0   \n",
              "7                              2                     0   \n",
              "8                              0                     0   \n",
              "9                              0                     0   \n",
              "\n",
              "   perifollicular_parakeratosis  inflammatory_monoluclear_inflitrate  \\\n",
              "0                             0                                    1   \n",
              "1                             0                                    1   \n",
              "2                             0                                    2   \n",
              "3                             0                                    3   \n",
              "4                             0                                    2   \n",
              "5                             0                                    1   \n",
              "6                             0                                    2   \n",
              "7                             0                                    3   \n",
              "8                             0                                    2   \n",
              "9                             0                                    2   \n",
              "\n",
              "   band-like_infiltrate   age  class  disease_1  \n",
              "0                     0  55.0      2          0  \n",
              "1                     0   8.0      1          1  \n",
              "2                     3  26.0      3          0  \n",
              "3                     0  40.0      1          1  \n",
              "4                     3  45.0      3          0  \n",
              "5                     0  41.0      2          0  \n",
              "6                     0  18.0      5          0  \n",
              "7                     3  57.0      3          0  \n",
              "8                     0  22.0      4          0  \n",
              "9                     0  30.0      4          0  \n",
              "\n",
              "[10 rows x 36 columns]"
            ],
            "text/html": [
              "\n",
              "  <div id=\"df-b4c7406f-8fd4-4a0d-a8d5-de39c7f129fc\">\n",
              "    <div class=\"colab-df-container\">\n",
              "      <div>\n",
              "<style scoped>\n",
              "    .dataframe tbody tr th:only-of-type {\n",
              "        vertical-align: middle;\n",
              "    }\n",
              "\n",
              "    .dataframe tbody tr th {\n",
              "        vertical-align: top;\n",
              "    }\n",
              "\n",
              "    .dataframe thead th {\n",
              "        text-align: right;\n",
              "    }\n",
              "</style>\n",
              "<table border=\"1\" class=\"dataframe\">\n",
              "  <thead>\n",
              "    <tr style=\"text-align: right;\">\n",
              "      <th></th>\n",
              "      <th>erythema</th>\n",
              "      <th>scaling</th>\n",
              "      <th>definite_borders</th>\n",
              "      <th>itching</th>\n",
              "      <th>koebner_phenomenon</th>\n",
              "      <th>polygonal_papules</th>\n",
              "      <th>follicular_papules</th>\n",
              "      <th>oral_mucosal_involvement</th>\n",
              "      <th>knee_and_elbow_involvement</th>\n",
              "      <th>scalp_involvement</th>\n",
              "      <th>...</th>\n",
              "      <th>vacuolisation_and_damage_of_basal_layer</th>\n",
              "      <th>spongiosis</th>\n",
              "      <th>saw-tooth_appearance_of_retes</th>\n",
              "      <th>follicular_horn_plug</th>\n",
              "      <th>perifollicular_parakeratosis</th>\n",
              "      <th>inflammatory_monoluclear_inflitrate</th>\n",
              "      <th>band-like_infiltrate</th>\n",
              "      <th>age</th>\n",
              "      <th>class</th>\n",
              "      <th>disease_1</th>\n",
              "    </tr>\n",
              "  </thead>\n",
              "  <tbody>\n",
              "    <tr>\n",
              "      <th>0</th>\n",
              "      <td>2</td>\n",
              "      <td>2</td>\n",
              "      <td>0</td>\n",
              "      <td>3</td>\n",
              "      <td>0</td>\n",
              "      <td>0</td>\n",
              "      <td>0</td>\n",
              "      <td>0</td>\n",
              "      <td>1</td>\n",
              "      <td>0</td>\n",
              "      <td>...</td>\n",
              "      <td>0</td>\n",
              "      <td>3</td>\n",
              "      <td>0</td>\n",
              "      <td>0</td>\n",
              "      <td>0</td>\n",
              "      <td>1</td>\n",
              "      <td>0</td>\n",
              "      <td>55.0</td>\n",
              "      <td>2</td>\n",
              "      <td>0</td>\n",
              "    </tr>\n",
              "    <tr>\n",
              "      <th>1</th>\n",
              "      <td>3</td>\n",
              "      <td>3</td>\n",
              "      <td>3</td>\n",
              "      <td>2</td>\n",
              "      <td>1</td>\n",
              "      <td>0</td>\n",
              "      <td>0</td>\n",
              "      <td>0</td>\n",
              "      <td>1</td>\n",
              "      <td>1</td>\n",
              "      <td>...</td>\n",
              "      <td>0</td>\n",
              "      <td>0</td>\n",
              "      <td>0</td>\n",
              "      <td>0</td>\n",
              "      <td>0</td>\n",
              "      <td>1</td>\n",
              "      <td>0</td>\n",
              "      <td>8.0</td>\n",
              "      <td>1</td>\n",
              "      <td>1</td>\n",
              "    </tr>\n",
              "    <tr>\n",
              "      <th>2</th>\n",
              "      <td>2</td>\n",
              "      <td>1</td>\n",
              "      <td>2</td>\n",
              "      <td>3</td>\n",
              "      <td>1</td>\n",
              "      <td>3</td>\n",
              "      <td>0</td>\n",
              "      <td>3</td>\n",
              "      <td>0</td>\n",
              "      <td>0</td>\n",
              "      <td>...</td>\n",
              "      <td>2</td>\n",
              "      <td>3</td>\n",
              "      <td>2</td>\n",
              "      <td>0</td>\n",
              "      <td>0</td>\n",
              "      <td>2</td>\n",
              "      <td>3</td>\n",
              "      <td>26.0</td>\n",
              "      <td>3</td>\n",
              "      <td>0</td>\n",
              "    </tr>\n",
              "    <tr>\n",
              "      <th>3</th>\n",
              "      <td>2</td>\n",
              "      <td>2</td>\n",
              "      <td>2</td>\n",
              "      <td>0</td>\n",
              "      <td>0</td>\n",
              "      <td>0</td>\n",
              "      <td>0</td>\n",
              "      <td>0</td>\n",
              "      <td>3</td>\n",
              "      <td>2</td>\n",
              "      <td>...</td>\n",
              "      <td>0</td>\n",
              "      <td>0</td>\n",
              "      <td>0</td>\n",
              "      <td>0</td>\n",
              "      <td>0</td>\n",
              "      <td>3</td>\n",
              "      <td>0</td>\n",
              "      <td>40.0</td>\n",
              "      <td>1</td>\n",
              "      <td>1</td>\n",
              "    </tr>\n",
              "    <tr>\n",
              "      <th>4</th>\n",
              "      <td>2</td>\n",
              "      <td>3</td>\n",
              "      <td>2</td>\n",
              "      <td>2</td>\n",
              "      <td>2</td>\n",
              "      <td>2</td>\n",
              "      <td>0</td>\n",
              "      <td>2</td>\n",
              "      <td>0</td>\n",
              "      <td>0</td>\n",
              "      <td>...</td>\n",
              "      <td>3</td>\n",
              "      <td>2</td>\n",
              "      <td>3</td>\n",
              "      <td>0</td>\n",
              "      <td>0</td>\n",
              "      <td>2</td>\n",
              "      <td>3</td>\n",
              "      <td>45.0</td>\n",
              "      <td>3</td>\n",
              "      <td>0</td>\n",
              "    </tr>\n",
              "    <tr>\n",
              "      <th>5</th>\n",
              "      <td>2</td>\n",
              "      <td>3</td>\n",
              "      <td>2</td>\n",
              "      <td>0</td>\n",
              "      <td>0</td>\n",
              "      <td>0</td>\n",
              "      <td>0</td>\n",
              "      <td>0</td>\n",
              "      <td>0</td>\n",
              "      <td>0</td>\n",
              "      <td>...</td>\n",
              "      <td>0</td>\n",
              "      <td>2</td>\n",
              "      <td>0</td>\n",
              "      <td>0</td>\n",
              "      <td>0</td>\n",
              "      <td>1</td>\n",
              "      <td>0</td>\n",
              "      <td>41.0</td>\n",
              "      <td>2</td>\n",
              "      <td>0</td>\n",
              "    </tr>\n",
              "    <tr>\n",
              "      <th>6</th>\n",
              "      <td>2</td>\n",
              "      <td>1</td>\n",
              "      <td>0</td>\n",
              "      <td>2</td>\n",
              "      <td>0</td>\n",
              "      <td>0</td>\n",
              "      <td>0</td>\n",
              "      <td>0</td>\n",
              "      <td>0</td>\n",
              "      <td>0</td>\n",
              "      <td>...</td>\n",
              "      <td>0</td>\n",
              "      <td>0</td>\n",
              "      <td>0</td>\n",
              "      <td>0</td>\n",
              "      <td>0</td>\n",
              "      <td>2</td>\n",
              "      <td>0</td>\n",
              "      <td>18.0</td>\n",
              "      <td>5</td>\n",
              "      <td>0</td>\n",
              "    </tr>\n",
              "    <tr>\n",
              "      <th>7</th>\n",
              "      <td>2</td>\n",
              "      <td>2</td>\n",
              "      <td>3</td>\n",
              "      <td>3</td>\n",
              "      <td>3</td>\n",
              "      <td>3</td>\n",
              "      <td>0</td>\n",
              "      <td>2</td>\n",
              "      <td>0</td>\n",
              "      <td>0</td>\n",
              "      <td>...</td>\n",
              "      <td>2</td>\n",
              "      <td>3</td>\n",
              "      <td>2</td>\n",
              "      <td>0</td>\n",
              "      <td>0</td>\n",
              "      <td>3</td>\n",
              "      <td>3</td>\n",
              "      <td>57.0</td>\n",
              "      <td>3</td>\n",
              "      <td>0</td>\n",
              "    </tr>\n",
              "    <tr>\n",
              "      <th>8</th>\n",
              "      <td>2</td>\n",
              "      <td>2</td>\n",
              "      <td>1</td>\n",
              "      <td>0</td>\n",
              "      <td>2</td>\n",
              "      <td>0</td>\n",
              "      <td>0</td>\n",
              "      <td>0</td>\n",
              "      <td>0</td>\n",
              "      <td>0</td>\n",
              "      <td>...</td>\n",
              "      <td>0</td>\n",
              "      <td>2</td>\n",
              "      <td>0</td>\n",
              "      <td>0</td>\n",
              "      <td>0</td>\n",
              "      <td>2</td>\n",
              "      <td>0</td>\n",
              "      <td>22.0</td>\n",
              "      <td>4</td>\n",
              "      <td>0</td>\n",
              "    </tr>\n",
              "    <tr>\n",
              "      <th>9</th>\n",
              "      <td>2</td>\n",
              "      <td>2</td>\n",
              "      <td>1</td>\n",
              "      <td>0</td>\n",
              "      <td>1</td>\n",
              "      <td>0</td>\n",
              "      <td>0</td>\n",
              "      <td>0</td>\n",
              "      <td>0</td>\n",
              "      <td>0</td>\n",
              "      <td>...</td>\n",
              "      <td>0</td>\n",
              "      <td>2</td>\n",
              "      <td>0</td>\n",
              "      <td>0</td>\n",
              "      <td>0</td>\n",
              "      <td>2</td>\n",
              "      <td>0</td>\n",
              "      <td>30.0</td>\n",
              "      <td>4</td>\n",
              "      <td>0</td>\n",
              "    </tr>\n",
              "  </tbody>\n",
              "</table>\n",
              "<p>10 rows × 36 columns</p>\n",
              "</div>\n",
              "      <button class=\"colab-df-convert\" onclick=\"convertToInteractive('df-b4c7406f-8fd4-4a0d-a8d5-de39c7f129fc')\"\n",
              "              title=\"Convert this dataframe to an interactive table.\"\n",
              "              style=\"display:none;\">\n",
              "        \n",
              "  <svg xmlns=\"http://www.w3.org/2000/svg\" height=\"24px\"viewBox=\"0 0 24 24\"\n",
              "       width=\"24px\">\n",
              "    <path d=\"M0 0h24v24H0V0z\" fill=\"none\"/>\n",
              "    <path d=\"M18.56 5.44l.94 2.06.94-2.06 2.06-.94-2.06-.94-.94-2.06-.94 2.06-2.06.94zm-11 1L8.5 8.5l.94-2.06 2.06-.94-2.06-.94L8.5 2.5l-.94 2.06-2.06.94zm10 10l.94 2.06.94-2.06 2.06-.94-2.06-.94-.94-2.06-.94 2.06-2.06.94z\"/><path d=\"M17.41 7.96l-1.37-1.37c-.4-.4-.92-.59-1.43-.59-.52 0-1.04.2-1.43.59L10.3 9.45l-7.72 7.72c-.78.78-.78 2.05 0 2.83L4 21.41c.39.39.9.59 1.41.59.51 0 1.02-.2 1.41-.59l7.78-7.78 2.81-2.81c.8-.78.8-2.07 0-2.86zM5.41 20L4 18.59l7.72-7.72 1.47 1.35L5.41 20z\"/>\n",
              "  </svg>\n",
              "      </button>\n",
              "      \n",
              "  <style>\n",
              "    .colab-df-container {\n",
              "      display:flex;\n",
              "      flex-wrap:wrap;\n",
              "      gap: 12px;\n",
              "    }\n",
              "\n",
              "    .colab-df-convert {\n",
              "      background-color: #E8F0FE;\n",
              "      border: none;\n",
              "      border-radius: 50%;\n",
              "      cursor: pointer;\n",
              "      display: none;\n",
              "      fill: #1967D2;\n",
              "      height: 32px;\n",
              "      padding: 0 0 0 0;\n",
              "      width: 32px;\n",
              "    }\n",
              "\n",
              "    .colab-df-convert:hover {\n",
              "      background-color: #E2EBFA;\n",
              "      box-shadow: 0px 1px 2px rgba(60, 64, 67, 0.3), 0px 1px 3px 1px rgba(60, 64, 67, 0.15);\n",
              "      fill: #174EA6;\n",
              "    }\n",
              "\n",
              "    [theme=dark] .colab-df-convert {\n",
              "      background-color: #3B4455;\n",
              "      fill: #D2E3FC;\n",
              "    }\n",
              "\n",
              "    [theme=dark] .colab-df-convert:hover {\n",
              "      background-color: #434B5C;\n",
              "      box-shadow: 0px 1px 3px 1px rgba(0, 0, 0, 0.15);\n",
              "      filter: drop-shadow(0px 1px 2px rgba(0, 0, 0, 0.3));\n",
              "      fill: #FFFFFF;\n",
              "    }\n",
              "  </style>\n",
              "\n",
              "      <script>\n",
              "        const buttonEl =\n",
              "          document.querySelector('#df-b4c7406f-8fd4-4a0d-a8d5-de39c7f129fc button.colab-df-convert');\n",
              "        buttonEl.style.display =\n",
              "          google.colab.kernel.accessAllowed ? 'block' : 'none';\n",
              "\n",
              "        async function convertToInteractive(key) {\n",
              "          const element = document.querySelector('#df-b4c7406f-8fd4-4a0d-a8d5-de39c7f129fc');\n",
              "          const dataTable =\n",
              "            await google.colab.kernel.invokeFunction('convertToInteractive',\n",
              "                                                     [key], {});\n",
              "          if (!dataTable) return;\n",
              "\n",
              "          const docLinkHtml = 'Like what you see? Visit the ' +\n",
              "            '<a target=\"_blank\" href=https://colab.research.google.com/notebooks/data_table.ipynb>data table notebook</a>'\n",
              "            + ' to learn more about interactive tables.';\n",
              "          element.innerHTML = '';\n",
              "          dataTable['output_type'] = 'display_data';\n",
              "          await google.colab.output.renderOutput(dataTable, element);\n",
              "          const docLink = document.createElement('div');\n",
              "          docLink.innerHTML = docLinkHtml;\n",
              "          element.appendChild(docLink);\n",
              "        }\n",
              "      </script>\n",
              "    </div>\n",
              "  </div>\n",
              "  "
            ]
          },
          "metadata": {},
          "execution_count": 44
        }
      ]
    },
    {
      "cell_type": "markdown",
      "source": [
        "## Linear Regression model for 'disease_1' Vs 'age' and plotting the regression line "
      ],
      "metadata": {
        "id": "eNTd9_gqmf9K"
      }
    },
    {
      "cell_type": "code",
      "source": [
        "# Perform regression to find the best line to goes through these points\n",
        "\n",
        "import matplotlib.pyplot as plt\n",
        "from sklearn.linear_model import LinearRegression\n",
        "X = dermatology_data.loc[:, 'disease_1'].values.reshape(-1,1)\n",
        "Y = dermatology_data.loc[:, 'age'].values.reshape(-1,1)\n",
        "# Create the model\n",
        "LRmodel = LinearRegression()  \n",
        "# Perform linear regression\n",
        "LRmodel.fit(X, Y)   \n",
        "# Make predictions\n",
        "Y_pred = LRmodel.predict(X)  \n",
        "# Visualize the dataset and the regression line:\n",
        "plt.scatter(X, Y)\n",
        "plt.plot(X, Y_pred, color='red')\n",
        "plt.show()\n"
      ],
      "metadata": {
        "colab": {
          "base_uri": "https://localhost:8080/",
          "height": 265
        },
        "id": "a6mJKctAVl0y",
        "outputId": "40b16a13-a822-4f3d-c5c0-a667e80c4059"
      },
      "execution_count": 45,
      "outputs": [
        {
          "output_type": "display_data",
          "data": {
            "text/plain": [
              "<Figure size 432x288 with 1 Axes>"
            ],
            "image/png": "[encoded data removed]"
          },
          "metadata": {
            "needs_background": "light"
          }
        }
      ]
    },
    {
      "cell_type": "markdown",
      "source": [
        "##Computing the Mean Squared Erroe and r-squared values for the model created above."
      ],
      "metadata": {
        "id": "PAiUR_ofnWbn"
      }
    },
    {
      "cell_type": "code",
      "source": [
        "# Error analysis\n",
        "from sklearn.metrics import mean_squared_error, r2_score\n",
        "\n",
        "print(\"MSE: \", mean_squared_error(Y, Y_pred))\n",
        "print(\"R2: \", r2_score(Y, Y_pred))"
      ],
      "metadata": {
        "colab": {
          "base_uri": "https://localhost:8080/"
        },
        "id": "fwsSPbRAV_bh",
        "outputId": "86ff886e-1fc0-4f12-cb06-6daf9415a938"
      },
      "execution_count": 46,
      "outputs": [
        {
          "output_type": "stream",
          "name": "stdout",
          "text": [
            "MSE:  224.9431738553172\n",
            "R2:  0.01815773383567898\n"
          ]
        }
      ]
    },
    {
      "cell_type": "markdown",
      "source": [
        "##Evaluating Linear Model using 3-fold cross-validation"
      ],
      "metadata": {
        "id": "2fiSm4fyrWNH"
      }
    },
    {
      "cell_type": "code",
      "source": [
        "from sklearn.model_selection import cross_val_score\n",
        "from sklearn.model_selection import KFold\n",
        "linear_model_3CV = cross_val_score(LRmodel, X, Y, cv=3)\n",
        "linear_model_3CV.mean()"
      ],
      "metadata": {
        "colab": {
          "base_uri": "https://localhost:8080/"
        },
        "id": "OAHcn52rpm1B",
        "outputId": "97fbdafb-2d6b-47d7-ea96-6919ff90c0b3"
      },
      "execution_count": 52,
      "outputs": [
        {
          "output_type": "execute_result",
          "data": {
            "text/plain": [
              "-0.01448682052491057"
            ]
          },
          "metadata": {},
          "execution_count": 52
        }
      ]
    },
    {
      "cell_type": "markdown",
      "source": [
        "##NB classifier model"
      ],
      "metadata": {
        "id": "PXrQgCRth-66"
      }
    },
    {
      "cell_type": "code",
      "source": [
        ""
      ],
      "metadata": {
        "id": "0YACOZDVtYcS"
      },
      "execution_count": null,
      "outputs": []
    },
    {
      "cell_type": "markdown",
      "source": [
        "##Confusion Matrix for NB classifier model"
      ],
      "metadata": {
        "id": "qUJmHXaWtmbH"
      }
    },
    {
      "cell_type": "code",
      "source": [
        ""
      ],
      "metadata": {
        "id": "0b6hXPl6tsxB"
      },
      "execution_count": null,
      "outputs": []
    },
    {
      "cell_type": "markdown",
      "source": [
        "##Evaluating NB model using 3-fold Cross Validation"
      ],
      "metadata": {
        "id": "DJB-9DRfuJdu"
      }
    },
    {
      "cell_type": "code",
      "source": [
        ""
      ],
      "metadata": {
        "id": "slJw1Fn2uSvS"
      },
      "execution_count": null,
      "outputs": []
    },
    {
      "cell_type": "markdown",
      "source": [
        "##Decision tree model (Gini or Entropy) "
      ],
      "metadata": {
        "id": "U7MX4saKtuWn"
      }
    },
    {
      "cell_type": "code",
      "source": [
        ""
      ],
      "metadata": {
        "id": "B_pOTzu1t8Fg"
      },
      "execution_count": null,
      "outputs": []
    },
    {
      "cell_type": "markdown",
      "source": [
        "##Confusion Matrix for Decision Tree model"
      ],
      "metadata": {
        "id": "CnGaNl3-t8ub"
      }
    },
    {
      "cell_type": "code",
      "source": [
        ""
      ],
      "metadata": {
        "id": "aLR8L1c7uFtM"
      },
      "execution_count": null,
      "outputs": []
    },
    {
      "cell_type": "markdown",
      "source": [
        "##Evaluating Decision Tree model using 3-fold Cross Validation"
      ],
      "metadata": {
        "id": "Uw9dAX-XuGtO"
      }
    },
    {
      "cell_type": "code",
      "source": [
        ""
      ],
      "metadata": {
        "id": "aA-3GCojuF2k"
      },
      "execution_count": null,
      "outputs": []
    },
    {
      "cell_type": "markdown",
      "source": [
        "##Random Forest Model"
      ],
      "metadata": {
        "id": "uvV2qwPmucJG"
      }
    },
    {
      "cell_type": "code",
      "source": [
        ""
      ],
      "metadata": {
        "id": "gwMIWAgtujbQ"
      },
      "execution_count": null,
      "outputs": []
    },
    {
      "cell_type": "markdown",
      "source": [
        "##Confusion Matrix for Random Forest Model  "
      ],
      "metadata": {
        "id": "8W8PivOEumu9"
      }
    },
    {
      "cell_type": "code",
      "source": [
        ""
      ],
      "metadata": {
        "id": "7RhZdoY3vELE"
      },
      "execution_count": null,
      "outputs": []
    },
    {
      "cell_type": "markdown",
      "source": [
        "##Evaluating Random Forest Model using 3-fold Cross Validation"
      ],
      "metadata": {
        "id": "EkSqOlEhvEyE"
      }
    },
    {
      "cell_type": "code",
      "source": [
        ""
      ],
      "metadata": {
        "id": "kxp7oF4hvMIN"
      },
      "execution_count": null,
      "outputs": []
    }
  ]
}