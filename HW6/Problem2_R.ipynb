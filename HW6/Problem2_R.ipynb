{
  "nbformat": 4,
  "nbformat_minor": 0,
  "metadata": {
    "colab": {
      "name": "Problem2_R.ipynb",
      "provenance": [],
      "collapsed_sections": [],
      "authorship_tag": "ABX9TyOpWVoBfZdj0EvzISMZGuFK",
      "include_colab_link": true
    },
    "kernelspec": {
      "name": "ir",
      "display_name": "R"
    },
    "language_info": {
      "name": "R"
    }
  },
  "cells": [
    {
      "cell_type": "markdown",
      "metadata": {
        "id": "view-in-github",
        "colab_type": "text"
      },
      "source": [
        "<a href=\"https://colab.research.google.com/github/MugdhaYada/my_projects-IDS/blob/main/HW6/Problem2_R.ipynb\" target=\"_parent\"><img src=\"https://colab.research.google.com/assets/colab-badge.svg\" alt=\"Open In Colab\"/></a>"
      ]
    },
    {
      "cell_type": "code",
      "execution_count": 4,
      "metadata": {
        "colab": {
          "base_uri": "https://localhost:8080/"
        },
        "id": "VQillnKTaTLt",
        "outputId": "f158dd3e-e2a3-4b4c-f8a7-baa653830108"
      },
      "outputs": [
        {
          "output_type": "stream",
          "name": "stderr",
          "text": [
            "\u001b[1mRows: \u001b[22m\u001b[34m150302\u001b[39m \u001b[1mColumns: \u001b[22m\u001b[34m5\u001b[39m\n",
            "\u001b[36m──\u001b[39m \u001b[1mColumn specification\u001b[22m \u001b[36m────────────────────────────────────────────────────────\u001b[39m\n",
            "\u001b[1mDelimiter:\u001b[22m \",\"\n",
            "\u001b[32mdbl\u001b[39m (4): Debt-to-Income-Ratio, FICO_Score, Request_Amount, Interest\n",
            "\u001b[33mlgl\u001b[39m (1): Approval\n",
            "\n",
            "\u001b[36mℹ\u001b[39m Use `spec()` to retrieve the full column specification for this data.\n",
            "\u001b[36mℹ\u001b[39m Specify the column types or set `show_col_types = FALSE` to quiet this message.\n",
            "\u001b[1mRows: \u001b[22m\u001b[34m49698\u001b[39m \u001b[1mColumns: \u001b[22m\u001b[34m5\u001b[39m\n",
            "\u001b[36m──\u001b[39m \u001b[1mColumn specification\u001b[22m \u001b[36m────────────────────────────────────────────────────────\u001b[39m\n",
            "\u001b[1mDelimiter:\u001b[22m \",\"\n",
            "\u001b[32mdbl\u001b[39m (4): Debt-to-Income-Ratio, FICO_Score, Request_Amount, Interest\n",
            "\u001b[33mlgl\u001b[39m (1): Approval\n",
            "\n",
            "\u001b[36mℹ\u001b[39m Use `spec()` to retrieve the full column specification for this data.\n",
            "\u001b[36mℹ\u001b[39m Specify the column types or set `show_col_types = FALSE` to quiet this message.\n"
          ]
        }
      ],
      "source": [
        "#importing the Train and Test data of Loans data set\n",
        "library(readr)\n",
        "Loans_TrainingDF <- read_csv(\"https://raw.githubusercontent.com/MugdhaYada/my_projects-IDS/main/HW6/Loans_Training.csv\")\n",
        "Loans_TestDF <- read_csv(\"https://raw.githubusercontent.com/MugdhaYada/my_projects-IDS/main/HW6/Loans_Test.csv\")"
      ]
    },
    {
      "cell_type": "code",
      "source": [
        "#Printing the 10 records of Training set of Loans Dataset\n",
        "head(Loans_TrainingDF,10)"
      ],
      "metadata": {
        "colab": {
          "base_uri": "https://localhost:8080/",
          "height": 411
        },
        "id": "WpucyAQqaeb2",
        "outputId": "be0c7e69-17aa-4cd8-be99-a982f64d7a67"
      },
      "execution_count": 5,
      "outputs": [
        {
          "output_type": "display_data",
          "data": {
            "text/html": [
              "<table class=\"dataframe\">\n",
              "<caption>A tibble: 10 × 5</caption>\n",
              "<thead>\n",
              "\t<tr><th scope=col>Approval</th><th scope=col>Debt-to-Income-Ratio</th><th scope=col>FICO_Score</th><th scope=col>Request_Amount</th><th scope=col>Interest</th></tr>\n",
              "\t<tr><th scope=col>&lt;lgl&gt;</th><th scope=col>&lt;dbl&gt;</th><th scope=col>&lt;dbl&gt;</th><th scope=col>&lt;dbl&gt;</th><th scope=col>&lt;dbl&gt;</th></tr>\n",
              "</thead>\n",
              "<tbody>\n",
              "\t<tr><td>FALSE</td><td>0</td><td>397</td><td> 1000</td><td> 450</td></tr>\n",
              "\t<tr><td>FALSE</td><td>0</td><td>403</td><td>  500</td><td> 225</td></tr>\n",
              "\t<tr><td>FALSE</td><td>0</td><td>408</td><td> 1000</td><td> 450</td></tr>\n",
              "\t<tr><td>FALSE</td><td>0</td><td>408</td><td> 2000</td><td> 900</td></tr>\n",
              "\t<tr><td>FALSE</td><td>0</td><td>411</td><td> 5000</td><td>2250</td></tr>\n",
              "\t<tr><td>FALSE</td><td>0</td><td>413</td><td> 5000</td><td>2250</td></tr>\n",
              "\t<tr><td>FALSE</td><td>0</td><td>416</td><td> 6000</td><td>2700</td></tr>\n",
              "\t<tr><td>FALSE</td><td>0</td><td>421</td><td> 2000</td><td> 900</td></tr>\n",
              "\t<tr><td>FALSE</td><td>0</td><td>422</td><td>12000</td><td>5400</td></tr>\n",
              "\t<tr><td>FALSE</td><td>0</td><td>432</td><td>10000</td><td>4500</td></tr>\n",
              "</tbody>\n",
              "</table>\n"
            ],
            "text/markdown": "\nA tibble: 10 × 5\n\n| Approval &lt;lgl&gt; | Debt-to-Income-Ratio &lt;dbl&gt; | FICO_Score &lt;dbl&gt; | Request_Amount &lt;dbl&gt; | Interest &lt;dbl&gt; |\n|---|---|---|---|---|\n| FALSE | 0 | 397 |  1000 |  450 |\n| FALSE | 0 | 403 |   500 |  225 |\n| FALSE | 0 | 408 |  1000 |  450 |\n| FALSE | 0 | 408 |  2000 |  900 |\n| FALSE | 0 | 411 |  5000 | 2250 |\n| FALSE | 0 | 413 |  5000 | 2250 |\n| FALSE | 0 | 416 |  6000 | 2700 |\n| FALSE | 0 | 421 |  2000 |  900 |\n| FALSE | 0 | 422 | 12000 | 5400 |\n| FALSE | 0 | 432 | 10000 | 4500 |\n\n",
            "text/latex": "A tibble: 10 × 5\n\\begin{tabular}{lllll}\n Approval & Debt-to-Income-Ratio & FICO\\_Score & Request\\_Amount & Interest\\\\\n <lgl> & <dbl> & <dbl> & <dbl> & <dbl>\\\\\n\\hline\n\t FALSE & 0 & 397 &  1000 &  450\\\\\n\t FALSE & 0 & 403 &   500 &  225\\\\\n\t FALSE & 0 & 408 &  1000 &  450\\\\\n\t FALSE & 0 & 408 &  2000 &  900\\\\\n\t FALSE & 0 & 411 &  5000 & 2250\\\\\n\t FALSE & 0 & 413 &  5000 & 2250\\\\\n\t FALSE & 0 & 416 &  6000 & 2700\\\\\n\t FALSE & 0 & 421 &  2000 &  900\\\\\n\t FALSE & 0 & 422 & 12000 & 5400\\\\\n\t FALSE & 0 & 432 & 10000 & 4500\\\\\n\\end{tabular}\n",
            "text/plain": [
              "   Approval Debt-to-Income-Ratio FICO_Score Request_Amount Interest\n",
              "1  FALSE    0                    397         1000           450    \n",
              "2  FALSE    0                    403          500           225    \n",
              "3  FALSE    0                    408         1000           450    \n",
              "4  FALSE    0                    408         2000           900    \n",
              "5  FALSE    0                    411         5000          2250    \n",
              "6  FALSE    0                    413         5000          2250    \n",
              "7  FALSE    0                    416         6000          2700    \n",
              "8  FALSE    0                    421         2000           900    \n",
              "9  FALSE    0                    422        12000          5400    \n",
              "10 FALSE    0                    432        10000          4500    "
            ]
          },
          "metadata": {}
        }
      ]
    },
    {
      "cell_type": "code",
      "source": [
        "#Printing the 10 records of Test set of Loans Dataset\n",
        "head(Loans_TestDF,10)"
      ],
      "metadata": {
        "colab": {
          "base_uri": "https://localhost:8080/",
          "height": 411
        },
        "id": "82njA2a3ar7q",
        "outputId": "02d81016-1da7-45d7-f80e-ed0b67cebafd"
      },
      "execution_count": 6,
      "outputs": [
        {
          "output_type": "display_data",
          "data": {
            "text/html": [
              "<table class=\"dataframe\">\n",
              "<caption>A tibble: 10 × 5</caption>\n",
              "<thead>\n",
              "\t<tr><th scope=col>Approval</th><th scope=col>Debt-to-Income-Ratio</th><th scope=col>FICO_Score</th><th scope=col>Request_Amount</th><th scope=col>Interest</th></tr>\n",
              "\t<tr><th scope=col>&lt;lgl&gt;</th><th scope=col>&lt;dbl&gt;</th><th scope=col>&lt;dbl&gt;</th><th scope=col>&lt;dbl&gt;</th><th scope=col>&lt;dbl&gt;</th></tr>\n",
              "</thead>\n",
              "<tbody>\n",
              "\t<tr><td>FALSE</td><td>0</td><td>413</td><td> 2000</td><td> 900</td></tr>\n",
              "\t<tr><td>FALSE</td><td>0</td><td>449</td><td> 1000</td><td> 450</td></tr>\n",
              "\t<tr><td>FALSE</td><td>0</td><td>454</td><td> 6000</td><td>2700</td></tr>\n",
              "\t<tr><td>FALSE</td><td>0</td><td>456</td><td> 1000</td><td> 450</td></tr>\n",
              "\t<tr><td>FALSE</td><td>0</td><td>457</td><td> 1000</td><td> 450</td></tr>\n",
              "\t<tr><td>FALSE</td><td>0</td><td>457</td><td> 8000</td><td>3600</td></tr>\n",
              "\t<tr><td>FALSE</td><td>0</td><td>459</td><td> 8000</td><td>3600</td></tr>\n",
              "\t<tr><td>FALSE</td><td>0</td><td>461</td><td>  500</td><td> 225</td></tr>\n",
              "\t<tr><td>FALSE</td><td>0</td><td>461</td><td> 6000</td><td>2700</td></tr>\n",
              "\t<tr><td>FALSE</td><td>0</td><td>462</td><td>19000</td><td>8550</td></tr>\n",
              "</tbody>\n",
              "</table>\n"
            ],
            "text/markdown": "\nA tibble: 10 × 5\n\n| Approval &lt;lgl&gt; | Debt-to-Income-Ratio &lt;dbl&gt; | FICO_Score &lt;dbl&gt; | Request_Amount &lt;dbl&gt; | Interest &lt;dbl&gt; |\n|---|---|---|---|---|\n| FALSE | 0 | 413 |  2000 |  900 |\n| FALSE | 0 | 449 |  1000 |  450 |\n| FALSE | 0 | 454 |  6000 | 2700 |\n| FALSE | 0 | 456 |  1000 |  450 |\n| FALSE | 0 | 457 |  1000 |  450 |\n| FALSE | 0 | 457 |  8000 | 3600 |\n| FALSE | 0 | 459 |  8000 | 3600 |\n| FALSE | 0 | 461 |   500 |  225 |\n| FALSE | 0 | 461 |  6000 | 2700 |\n| FALSE | 0 | 462 | 19000 | 8550 |\n\n",
            "text/latex": "A tibble: 10 × 5\n\\begin{tabular}{lllll}\n Approval & Debt-to-Income-Ratio & FICO\\_Score & Request\\_Amount & Interest\\\\\n <lgl> & <dbl> & <dbl> & <dbl> & <dbl>\\\\\n\\hline\n\t FALSE & 0 & 413 &  2000 &  900\\\\\n\t FALSE & 0 & 449 &  1000 &  450\\\\\n\t FALSE & 0 & 454 &  6000 & 2700\\\\\n\t FALSE & 0 & 456 &  1000 &  450\\\\\n\t FALSE & 0 & 457 &  1000 &  450\\\\\n\t FALSE & 0 & 457 &  8000 & 3600\\\\\n\t FALSE & 0 & 459 &  8000 & 3600\\\\\n\t FALSE & 0 & 461 &   500 &  225\\\\\n\t FALSE & 0 & 461 &  6000 & 2700\\\\\n\t FALSE & 0 & 462 & 19000 & 8550\\\\\n\\end{tabular}\n",
            "text/plain": [
              "   Approval Debt-to-Income-Ratio FICO_Score Request_Amount Interest\n",
              "1  FALSE    0                    413         2000           900    \n",
              "2  FALSE    0                    449         1000           450    \n",
              "3  FALSE    0                    454         6000          2700    \n",
              "4  FALSE    0                    456         1000           450    \n",
              "5  FALSE    0                    457         1000           450    \n",
              "6  FALSE    0                    457         8000          3600    \n",
              "7  FALSE    0                    459         8000          3600    \n",
              "8  FALSE    0                    461          500           225    \n",
              "9  FALSE    0                    461         6000          2700    \n",
              "10 FALSE    0                    462        19000          8550    "
            ]
          },
          "metadata": {}
        }
      ]
    },
    {
      "cell_type": "code",
      "source": [
        "#Checking the internal structure of Training Dataset of Loans\n",
        "str(Loans_TrainingDF)"
      ],
      "metadata": {
        "colab": {
          "base_uri": "https://localhost:8080/"
        },
        "id": "nsbIyzL7a8SF",
        "outputId": "009bd46c-1329-4a4d-ac12-357b56d3026e"
      },
      "execution_count": 7,
      "outputs": [
        {
          "output_type": "stream",
          "name": "stdout",
          "text": [
            "spec_tbl_df [150,302 × 5] (S3: spec_tbl_df/tbl_df/tbl/data.frame)\n",
            " $ Approval            : logi [1:150302] FALSE FALSE FALSE FALSE FALSE FALSE ...\n",
            " $ Debt-to-Income-Ratio: num [1:150302] 0 0 0 0 0 0 0 0 0 0 ...\n",
            " $ FICO_Score          : num [1:150302] 397 403 408 408 411 413 416 421 422 432 ...\n",
            " $ Request_Amount      : num [1:150302] 1000 500 1000 2000 5000 5000 6000 2000 12000 10000 ...\n",
            " $ Interest            : num [1:150302] 450 225 450 900 2250 2250 2700 900 5400 4500 ...\n",
            " - attr(*, \"spec\")=\n",
            "  .. cols(\n",
            "  ..   Approval = \u001b[33mcol_logical()\u001b[39m,\n",
            "  ..   `Debt-to-Income-Ratio` = \u001b[32mcol_double()\u001b[39m,\n",
            "  ..   FICO_Score = \u001b[32mcol_double()\u001b[39m,\n",
            "  ..   Request_Amount = \u001b[32mcol_double()\u001b[39m,\n",
            "  ..   Interest = \u001b[32mcol_double()\u001b[39m\n",
            "  .. )\n",
            " - attr(*, \"problems\")=<externalptr> \n"
          ]
        }
      ]
    },
    {
      "cell_type": "code",
      "source": [
        "#Checking the internal structure of Test Dataset of Loans\n",
        "str(Loans_TestDF)"
      ],
      "metadata": {
        "colab": {
          "base_uri": "https://localhost:8080/"
        },
        "id": "O91HuzilbRgw",
        "outputId": "5e79d5e2-8736-461e-c52f-2b950cbd5d1a"
      },
      "execution_count": 8,
      "outputs": [
        {
          "output_type": "stream",
          "name": "stdout",
          "text": [
            "spec_tbl_df [49,698 × 5] (S3: spec_tbl_df/tbl_df/tbl/data.frame)\n",
            " $ Approval            : logi [1:49698] FALSE FALSE FALSE FALSE FALSE FALSE ...\n",
            " $ Debt-to-Income-Ratio: num [1:49698] 0 0 0 0 0 0 0 0 0 0 ...\n",
            " $ FICO_Score          : num [1:49698] 413 449 454 456 457 457 459 461 461 462 ...\n",
            " $ Request_Amount      : num [1:49698] 2000 1000 6000 1000 1000 8000 8000 500 6000 19000 ...\n",
            " $ Interest            : num [1:49698] 900 450 2700 450 450 3600 3600 225 2700 8550 ...\n",
            " - attr(*, \"spec\")=\n",
            "  .. cols(\n",
            "  ..   Approval = \u001b[33mcol_logical()\u001b[39m,\n",
            "  ..   `Debt-to-Income-Ratio` = \u001b[32mcol_double()\u001b[39m,\n",
            "  ..   FICO_Score = \u001b[32mcol_double()\u001b[39m,\n",
            "  ..   Request_Amount = \u001b[32mcol_double()\u001b[39m,\n",
            "  ..   Interest = \u001b[32mcol_double()\u001b[39m\n",
            "  .. )\n",
            " - attr(*, \"problems\")=<externalptr> \n"
          ]
        }
      ]
    },
    {
      "cell_type": "markdown",
      "source": [
        "## **Checking for missing values in Train & Test Data sets**"
      ],
      "metadata": {
        "id": "5R9N4oHnbblG"
      }
    },
    {
      "cell_type": "code",
      "source": [
        "sum(is.na(Loans_TrainingDF))"
      ],
      "metadata": {
        "colab": {
          "base_uri": "https://localhost:8080/",
          "height": 35
        },
        "id": "-i0OEv9vbUs-",
        "outputId": "8d989c2c-002e-4604-f493-c6b3b68c90df"
      },
      "execution_count": 9,
      "outputs": [
        {
          "output_type": "display_data",
          "data": {
            "text/html": [
              "0"
            ],
            "text/markdown": "0",
            "text/latex": "0",
            "text/plain": [
              "[1] 0"
            ]
          },
          "metadata": {}
        }
      ]
    },
    {
      "cell_type": "code",
      "source": [
        "sum(is.na(Loans_TestDF))"
      ],
      "metadata": {
        "colab": {
          "base_uri": "https://localhost:8080/",
          "height": 35
        },
        "id": "RJppaquYbdNt",
        "outputId": "9930a0dc-f797-448f-93d5-153363a79458"
      },
      "execution_count": 10,
      "outputs": [
        {
          "output_type": "display_data",
          "data": {
            "text/html": [
              "0"
            ],
            "text/markdown": "0",
            "text/latex": "0",
            "text/plain": [
              "[1] 0"
            ]
          },
          "metadata": {}
        }
      ]
    },
    {
      "cell_type": "code",
      "source": [
        "prop.table(table(Loans_TrainingDF$Approval))"
      ],
      "metadata": {
        "colab": {
          "base_uri": "https://localhost:8080/",
          "height": 69
        },
        "id": "Jot1k0A5b-J-",
        "outputId": "7be1b205-ce05-4e44-a22f-1c10a021092d"
      },
      "execution_count": 11,
      "outputs": [
        {
          "output_type": "display_data",
          "data": {
            "text/plain": [
              "\n",
              "    FALSE      TRUE \n",
              "0.4994345 0.5005655 "
            ]
          },
          "metadata": {}
        }
      ]
    },
    {
      "cell_type": "code",
      "source": [
        "prop.table(table(Loans_TestDF$Approval))"
      ],
      "metadata": {
        "colab": {
          "base_uri": "https://localhost:8080/",
          "height": 69
        },
        "id": "03e9QpJvcZJV",
        "outputId": "06bec9a6-8928-4174-a01f-024ac6975151"
      },
      "execution_count": 12,
      "outputs": [
        {
          "output_type": "display_data",
          "data": {
            "text/plain": [
              "\n",
              "    FALSE      TRUE \n",
              "0.5017103 0.4982897 "
            ]
          },
          "metadata": {}
        }
      ]
    },
    {
      "cell_type": "markdown",
      "source": [
        "**From the above two cells, the prop.table() function shows each individual value as a proportion of the whole.**"
      ],
      "metadata": {
        "id": "jP3CNvhCrMdP"
      }
    },
    {
      "cell_type": "code",
      "source": [
        "#importing the necessary packages\n",
        "install.packages('rpart.plot')\n",
        "install.packages('party')\n",
        "install.packages(\"caret\")"
      ],
      "metadata": {
        "colab": {
          "base_uri": "https://localhost:8080/"
        },
        "id": "KWGkd29SbhY7",
        "outputId": "c143f7e3-d886-4854-d9e4-3aa0f9921b7e"
      },
      "execution_count": 13,
      "outputs": [
        {
          "output_type": "stream",
          "name": "stderr",
          "text": [
            "Installing package into ‘/usr/local/lib/R/site-library’\n",
            "(as ‘lib’ is unspecified)\n",
            "\n",
            "Installing package into ‘/usr/local/lib/R/site-library’\n",
            "(as ‘lib’ is unspecified)\n",
            "\n",
            "also installing the dependencies ‘TH.data’, ‘matrixStats’, ‘multcomp’, ‘modeltools’, ‘strucchange’, ‘coin’, ‘zoo’, ‘sandwich’\n",
            "\n",
            "\n",
            "Installing package into ‘/usr/local/lib/R/site-library’\n",
            "(as ‘lib’ is unspecified)\n",
            "\n",
            "also installing the dependencies ‘listenv’, ‘parallelly’, ‘future’, ‘globals’, ‘future.apply’, ‘progressr’, ‘numDeriv’, ‘SQUAREM’, ‘lava’, ‘prodlim’, ‘proxy’, ‘iterators’, ‘gower’, ‘hardhat’, ‘ipred’, ‘timeDate’, ‘e1071’, ‘foreach’, ‘ModelMetrics’, ‘pROC’, ‘recipes’\n",
            "\n",
            "\n"
          ]
        }
      ]
    },
    {
      "cell_type": "code",
      "source": [
        "#importing the necessary libraries\n",
        "library(rpart)\n",
        "library(rpart.plot)\n",
        "library(party)\n",
        "library(caret)"
      ],
      "metadata": {
        "colab": {
          "base_uri": "https://localhost:8080/"
        },
        "id": "IN4uhkFTc0S7",
        "outputId": "b997e5c3-a912-4138-9c7b-507eea07b0e9"
      },
      "execution_count": 16,
      "outputs": [
        {
          "output_type": "stream",
          "name": "stderr",
          "text": [
            "Loading required package: grid\n",
            "\n",
            "Loading required package: mvtnorm\n",
            "\n",
            "Loading required package: modeltools\n",
            "\n",
            "Loading required package: stats4\n",
            "\n",
            "Loading required package: strucchange\n",
            "\n",
            "Loading required package: zoo\n",
            "\n",
            "\n",
            "Attaching package: ‘zoo’\n",
            "\n",
            "\n",
            "The following objects are masked from ‘package:base’:\n",
            "\n",
            "    as.Date, as.Date.numeric\n",
            "\n",
            "\n",
            "Loading required package: sandwich\n",
            "\n",
            "Loading required package: ggplot2\n",
            "\n",
            "Loading required package: lattice\n",
            "\n",
            "Warning message in system(\"timedatectl\", intern = TRUE):\n",
            "“running command 'timedatectl' had status 1”\n"
          ]
        }
      ]
    },
    {
      "cell_type": "markdown",
      "source": [
        "## **CART Model**"
      ],
      "metadata": {
        "id": "BRYKO2d_fJlp"
      }
    },
    {
      "cell_type": "code",
      "source": [
        "set.seed(150)\n",
        "CART_model <- rpart(Approval ~., data = Loans_TrainingDF, method = \"class\")\n",
        "CART_model\n",
        "\n",
        "# Plot the trees\n",
        "rpart.plot(CART_model)"
      ],
      "metadata": {
        "colab": {
          "base_uri": "https://localhost:8080/",
          "height": 611
        },
        "id": "s7c-ZLwkd0YN",
        "outputId": "aa39f497-d3a4-449e-e11e-53bda49e0670"
      },
      "execution_count": 17,
      "outputs": [
        {
          "output_type": "display_data",
          "data": {
            "text/plain": [
              "n= 150302 \n",
              "\n",
              "node), split, n, loss, yval, (yprob)\n",
              "      * denotes terminal node\n",
              "\n",
              "1) root 150302 75066 TRUE (0.49943447 0.50056553)  \n",
              "  2) FICO_Score< 659.5 46002  1808 FALSE (0.96069736 0.03930264) *\n",
              "  3) FICO_Score>=659.5 104300 30872 TRUE (0.29599233 0.70400767)  \n",
              "    6) Debt-to-Income-Ratio>=0.305 12873  1679 FALSE (0.86957197 0.13042803) *\n",
              "    7) Debt-to-Income-Ratio< 0.305 91427 19678 TRUE (0.21523182 0.78476818) *"
            ]
          },
          "metadata": {}
        },
        {
          "output_type": "display_data",
          "data": {
            "text/plain": [
              "plot without title"
            ],
            "image/png": "[encoded data removed]"
          },
          "metadata": {
            "image/png": {
              "width": 420,
              "height": 420
            }
          }
        }
      ]
    },
    {
      "cell_type": "markdown",
      "source": [
        "## **Description:**\n",
        "\n",
        "* Each node indicates the percentage of records that reach that node, as well as the proportion of FICO Score and Debt-to-Income Ratio.\n",
        "\n",
        "* At the root node split, CART determines that the most effective binary split is to divide the records into two groups based on their FICO Score value, one group with a FICO Score 660 and the other with a FICO Score > 660.\n",
        "\n",
        "* If the FICO Score < 660 then the loan is rejected with 0.04 and 31%, and if FICO Score > 600 the loan is approved with 0.70 and 69%\n",
        "\n",
        "* Based on the variable Debt-to-Income Ratio, CART does a second split. If the value of Debt-to-Income Ratio is more than or equal to 0.31, 0.78 and 61% are true, and if it is less than 0.31, 0.13 and 9% are false."
      ],
      "metadata": {
        "id": "ttqtF3NX1DP2"
      }
    },
    {
      "cell_type": "code",
      "source": [
        "prediction_CART <- predict(CART_model, Loans_TestDF, 'class')\n",
        "head(prediction_CART)"
      ],
      "metadata": {
        "colab": {
          "base_uri": "https://localhost:8080/",
          "height": 52
        },
        "id": "WLIiGGmufRxX",
        "outputId": "72e2b2f8-9fac-469c-a16a-cb7b10b3a199"
      },
      "execution_count": 18,
      "outputs": [
        {
          "output_type": "display_data",
          "data": {
            "text/html": [
              "<style>\n",
              ".dl-inline {width: auto; margin:0; padding: 0}\n",
              ".dl-inline>dt, .dl-inline>dd {float: none; width: auto; display: inline-block}\n",
              ".dl-inline>dt::after {content: \":\\0020\"; padding-right: .5ex}\n",
              ".dl-inline>dt:not(:first-of-type) {padding-left: .5ex}\n",
              "</style><dl class=dl-inline><dt>1</dt><dd>FALSE</dd><dt>2</dt><dd>FALSE</dd><dt>3</dt><dd>FALSE</dd><dt>4</dt><dd>FALSE</dd><dt>5</dt><dd>FALSE</dd><dt>6</dt><dd>FALSE</dd></dl>\n",
              "\n",
              "<details>\n",
              "\t<summary style=display:list-item;cursor:pointer>\n",
              "\t\t<strong>Levels</strong>:\n",
              "\t</summary>\n",
              "\t<style>\n",
              "\t.list-inline {list-style: none; margin:0; padding: 0}\n",
              "\t.list-inline>li {display: inline-block}\n",
              "\t.list-inline>li:not(:last-child)::after {content: \"\\00b7\"; padding: 0 .5ex}\n",
              "\t</style>\n",
              "\t<ol class=list-inline><li>'FALSE'</li><li>'TRUE'</li></ol>\n",
              "</details>"
            ],
            "text/markdown": "1\n:   FALSE2\n:   FALSE3\n:   FALSE4\n:   FALSE5\n:   FALSE6\n:   FALSE\n\n\n**Levels**: 1. 'FALSE'\n2. 'TRUE'\n\n\n",
            "text/latex": "\\begin{description*}\n\\item[1] FALSE\n\\item[2] FALSE\n\\item[3] FALSE\n\\item[4] FALSE\n\\item[5] FALSE\n\\item[6] FALSE\n\\end{description*}\n\n\\emph{Levels}: \\begin{enumerate*}\n\\item 'FALSE'\n\\item 'TRUE'\n\\end{enumerate*}\n",
            "text/plain": [
              "    1     2     3     4     5     6 \n",
              "FALSE FALSE FALSE FALSE FALSE FALSE \n",
              "Levels: FALSE TRUE"
            ]
          },
          "metadata": {}
        }
      ]
    },
    {
      "cell_type": "markdown",
      "source": [
        "# **Confustion Matrix of CART Model**"
      ],
      "metadata": {
        "id": "BbZ-4rMMhRu2"
      }
    },
    {
      "cell_type": "code",
      "source": [
        "confusionMatrix(table(Loans_TestDF$Approval, prediction_CART))"
      ],
      "metadata": {
        "colab": {
          "base_uri": "https://localhost:8080/",
          "height": 485
        },
        "id": "n1Jv-l-ihBR8",
        "outputId": "adc4a41c-efc7-451e-c5a9-c5e997450a98"
      },
      "execution_count": 19,
      "outputs": [
        {
          "output_type": "display_data",
          "data": {
            "text/plain": [
              "Confusion Matrix and Statistics\n",
              "\n",
              "       prediction_CART\n",
              "        FALSE  TRUE\n",
              "  FALSE 18314  6620\n",
              "  TRUE   1171 23593\n",
              "                                        \n",
              "               Accuracy : 0.8432        \n",
              "                 95% CI : (0.84, 0.8464)\n",
              "    No Information Rate : 0.6079        \n",
              "    P-Value [Acc > NIR] : < 2.2e-16     \n",
              "                                        \n",
              "                  Kappa : 0.6867        \n",
              "                                        \n",
              " Mcnemar's Test P-Value : < 2.2e-16     \n",
              "                                        \n",
              "            Sensitivity : 0.9399        \n",
              "            Specificity : 0.7809        \n",
              "         Pos Pred Value : 0.7345        \n",
              "         Neg Pred Value : 0.9527        \n",
              "             Prevalence : 0.3921        \n",
              "         Detection Rate : 0.3685        \n",
              "   Detection Prevalence : 0.5017        \n",
              "      Balanced Accuracy : 0.8604        \n",
              "                                        \n",
              "       'Positive' Class : FALSE         \n",
              "                                        "
            ]
          },
          "metadata": {}
        }
      ]
    },
    {
      "cell_type": "code",
      "source": [
        "Accuracy_CARTModel <- sum(prediction_CART == Loans_TestDF$Approval) / length(prediction_CART)*100\n",
        "print('Accuracy of CART Model is:')\n",
        "Accuracy_CARTModel"
      ],
      "metadata": {
        "colab": {
          "base_uri": "https://localhost:8080/",
          "height": 52
        },
        "id": "fVASTiInryyk",
        "outputId": "10d96b01-88d3-40ce-d024-2a0446a80837"
      },
      "execution_count": 20,
      "outputs": [
        {
          "output_type": "stream",
          "name": "stdout",
          "text": [
            "[1] \"Accuracy of CART Model is:\"\n"
          ]
        },
        {
          "output_type": "display_data",
          "data": {
            "text/html": [
              "84.3233128093686"
            ],
            "text/markdown": "84.3233128093686",
            "text/latex": "84.3233128093686",
            "text/plain": [
              "[1] 84.32331"
            ]
          },
          "metadata": {}
        }
      ]
    },
    {
      "cell_type": "markdown",
      "source": [
        "## **C5.0 Model**"
      ],
      "metadata": {
        "id": "XFq2s0voi83i"
      }
    },
    {
      "cell_type": "code",
      "source": [
        "install.packages('C50')\n",
        "library(C50)"
      ],
      "metadata": {
        "colab": {
          "base_uri": "https://localhost:8080/"
        },
        "id": "kLZIYkd5hdGI",
        "outputId": "52b2386f-687d-4a85-9e02-d335a2ec3bc3"
      },
      "execution_count": 2,
      "outputs": [
        {
          "output_type": "stream",
          "name": "stderr",
          "text": [
            "Installing package into ‘/usr/local/lib/R/site-library’\n",
            "(as ‘lib’ is unspecified)\n",
            "\n",
            "also installing the dependencies ‘plyr’, ‘Rcpp’, ‘libcoin’, ‘mvtnorm’, ‘Formula’, ‘inum’, ‘reshape2’, ‘partykit’, ‘Cubist’\n",
            "\n",
            "\n"
          ]
        }
      ]
    },
    {
      "cell_type": "code",
      "source": [
        "Loans_TrainingDF$Approval = as.factor(Loans_TrainingDF$Approval)\n",
        "head(Loans_TrainingDF$Approval)"
      ],
      "metadata": {
        "colab": {
          "base_uri": "https://localhost:8080/",
          "height": 52
        },
        "id": "S7ryHCx4jHYi",
        "outputId": "6cfb96fe-0387-4ff5-86d2-4f53a99c37b7"
      },
      "execution_count": 21,
      "outputs": [
        {
          "output_type": "display_data",
          "data": {
            "text/html": [
              "<style>\n",
              ".list-inline {list-style: none; margin:0; padding: 0}\n",
              ".list-inline>li {display: inline-block}\n",
              ".list-inline>li:not(:last-child)::after {content: \"\\00b7\"; padding: 0 .5ex}\n",
              "</style>\n",
              "<ol class=list-inline><li>FALSE</li><li>FALSE</li><li>FALSE</li><li>FALSE</li><li>FALSE</li><li>FALSE</li></ol>\n",
              "\n",
              "<details>\n",
              "\t<summary style=display:list-item;cursor:pointer>\n",
              "\t\t<strong>Levels</strong>:\n",
              "\t</summary>\n",
              "\t<style>\n",
              "\t.list-inline {list-style: none; margin:0; padding: 0}\n",
              "\t.list-inline>li {display: inline-block}\n",
              "\t.list-inline>li:not(:last-child)::after {content: \"\\00b7\"; padding: 0 .5ex}\n",
              "\t</style>\n",
              "\t<ol class=list-inline><li>'FALSE'</li><li>'TRUE'</li></ol>\n",
              "</details>"
            ],
            "text/markdown": "1. FALSE\n2. FALSE\n3. FALSE\n4. FALSE\n5. FALSE\n6. FALSE\n\n\n\n**Levels**: 1. 'FALSE'\n2. 'TRUE'\n\n\n",
            "text/latex": "\\begin{enumerate*}\n\\item FALSE\n\\item FALSE\n\\item FALSE\n\\item FALSE\n\\item FALSE\n\\item FALSE\n\\end{enumerate*}\n\n\\emph{Levels}: \\begin{enumerate*}\n\\item 'FALSE'\n\\item 'TRUE'\n\\end{enumerate*}\n",
            "text/plain": [
              "[1] FALSE FALSE FALSE FALSE FALSE FALSE\n",
              "Levels: FALSE TRUE"
            ]
          },
          "metadata": {}
        }
      ]
    },
    {
      "cell_type": "code",
      "source": [
        "C5_Model <- C5.0(x = Loans_TrainingDF[, -1], y = Loans_TrainingDF$Approval, control = C5.0Control(minCases=1000))\n",
        "C5_Model"
      ],
      "metadata": {
        "colab": {
          "base_uri": "https://localhost:8080/",
          "height": 225
        },
        "id": "XptpDnUtVMuF",
        "outputId": "be7c456f-ec10-4ed4-e144-bc834053167c"
      },
      "execution_count": 25,
      "outputs": [
        {
          "output_type": "display_data",
          "data": {
            "text/plain": [
              "\n",
              "Call:\n",
              "C5.0.default(x = Loans_TrainingDF[, -1], y = Loans_TrainingDF$Approval,\n",
              " control = C5.0Control(minCases = 1000))\n",
              "\n",
              "Classification Tree\n",
              "Number of samples: 150302 \n",
              "Number of predictors: 4 \n",
              "\n",
              "Tree size: 8 \n",
              "\n",
              "Non-standard options: attempt to group attributes, minimum number of cases: 1000\n"
            ]
          },
          "metadata": {}
        }
      ]
    },
    {
      "cell_type": "code",
      "source": [
        "plot(C5_Model, type = 'simple')"
      ],
      "metadata": {
        "colab": {
          "base_uri": "https://localhost:8080/",
          "height": 437
        },
        "id": "D9I70C9qjoq5",
        "outputId": "b336eb62-f153-44fd-e5c7-79794b9e5871"
      },
      "execution_count": 27,
      "outputs": [
        {
          "output_type": "display_data",
          "data": {
            "text/plain": [
              "plot without title"
            ],
            "image/png": "[encoded data removed]"
          },
          "metadata": {
            "image/png": {
              "width": 420,
              "height": 420
            }
          }
        }
      ]
    },
    {
      "cell_type": "markdown",
      "source": [
        "## **Description:**\n",
        "\n",
        "* We can observe that, if the Debt-to-income-ratio > 0.31 then the loan is rejected.\n",
        "* If the Debt-to-income-ratio <= 0.31 then the second split is based on the FICO_Score, if the FICO_Score <= 655 the loan is rejected.\n",
        "* If FICO_Score > 665 && FICO_Score <= 669 then the split is based on the Request_Amount:\n",
        "     * If Request_Amount <= 2300 then the loan is rejected, if             Request_Amount > 2300 then again split undergoes based on FICO_Score, if FICO_Score <= 660 then the loan is rejected and if FICO_Score > 661 the laon is approved.\n",
        "* If FICO > 665 && FICO > 669 then the split is based on the Debt-to-income-ratio:\n",
        "     * If Debt-to-income-ratio <= 0.25 the loan is approved otherwise if the Debt-to-income-ratio > 0.25 again the split take place on Request_Amount, if Request_Amount <=25000 the loan is approved else rejeceted."
      ],
      "metadata": {
        "id": "ZYhw6a1vd3Kt"
      }
    },
    {
      "cell_type": "code",
      "source": [
        "prediction_C5 <- predict(C5_Model, Loans_TestDF)\n",
        "head(prediction_C5,10)"
      ],
      "metadata": {
        "colab": {
          "base_uri": "https://localhost:8080/",
          "height": 52
        },
        "id": "pqW0xf3fmnMd",
        "outputId": "4659fd97-f394-412c-a31e-582160e86966"
      },
      "execution_count": 28,
      "outputs": [
        {
          "output_type": "display_data",
          "data": {
            "text/html": [
              "<style>\n",
              ".list-inline {list-style: none; margin:0; padding: 0}\n",
              ".list-inline>li {display: inline-block}\n",
              ".list-inline>li:not(:last-child)::after {content: \"\\00b7\"; padding: 0 .5ex}\n",
              "</style>\n",
              "<ol class=list-inline><li>FALSE</li><li>FALSE</li><li>FALSE</li><li>FALSE</li><li>FALSE</li><li>FALSE</li><li>FALSE</li><li>FALSE</li><li>FALSE</li><li>FALSE</li></ol>\n",
              "\n",
              "<details>\n",
              "\t<summary style=display:list-item;cursor:pointer>\n",
              "\t\t<strong>Levels</strong>:\n",
              "\t</summary>\n",
              "\t<style>\n",
              "\t.list-inline {list-style: none; margin:0; padding: 0}\n",
              "\t.list-inline>li {display: inline-block}\n",
              "\t.list-inline>li:not(:last-child)::after {content: \"\\00b7\"; padding: 0 .5ex}\n",
              "\t</style>\n",
              "\t<ol class=list-inline><li>'FALSE'</li><li>'TRUE'</li></ol>\n",
              "</details>"
            ],
            "text/markdown": "1. FALSE\n2. FALSE\n3. FALSE\n4. FALSE\n5. FALSE\n6. FALSE\n7. FALSE\n8. FALSE\n9. FALSE\n10. FALSE\n\n\n\n**Levels**: 1. 'FALSE'\n2. 'TRUE'\n\n\n",
            "text/latex": "\\begin{enumerate*}\n\\item FALSE\n\\item FALSE\n\\item FALSE\n\\item FALSE\n\\item FALSE\n\\item FALSE\n\\item FALSE\n\\item FALSE\n\\item FALSE\n\\item FALSE\n\\end{enumerate*}\n\n\\emph{Levels}: \\begin{enumerate*}\n\\item 'FALSE'\n\\item 'TRUE'\n\\end{enumerate*}\n",
            "text/plain": [
              " [1] FALSE FALSE FALSE FALSE FALSE FALSE FALSE FALSE FALSE FALSE\n",
              "Levels: FALSE TRUE"
            ]
          },
          "metadata": {}
        }
      ]
    },
    {
      "cell_type": "code",
      "source": [
        "confusionMatrix(table(Loans_TestDF$Approval, prediction_C5))"
      ],
      "metadata": {
        "colab": {
          "base_uri": "https://localhost:8080/",
          "height": 485
        },
        "id": "JenwC9p3nuYa",
        "outputId": "07ac3845-03a6-4773-9902-b85c988a4d6b"
      },
      "execution_count": 29,
      "outputs": [
        {
          "output_type": "display_data",
          "data": {
            "text/plain": [
              "Confusion Matrix and Statistics\n",
              "\n",
              "       prediction_C5\n",
              "        FALSE  TRUE\n",
              "  FALSE 18842  6092\n",
              "  TRUE   1504 23260\n",
              "                                         \n",
              "               Accuracy : 0.8472         \n",
              "                 95% CI : (0.844, 0.8503)\n",
              "    No Information Rate : 0.5906         \n",
              "    P-Value [Acc > NIR] : < 2.2e-16      \n",
              "                                         \n",
              "                  Kappa : 0.6945         \n",
              "                                         \n",
              " Mcnemar's Test P-Value : < 2.2e-16      \n",
              "                                         \n",
              "            Sensitivity : 0.9261         \n",
              "            Specificity : 0.7925         \n",
              "         Pos Pred Value : 0.7557         \n",
              "         Neg Pred Value : 0.9393         \n",
              "             Prevalence : 0.4094         \n",
              "         Detection Rate : 0.3791         \n",
              "   Detection Prevalence : 0.5017         \n",
              "      Balanced Accuracy : 0.8593         \n",
              "                                         \n",
              "       'Positive' Class : FALSE          \n",
              "                                         "
            ]
          },
          "metadata": {}
        }
      ]
    },
    {
      "cell_type": "code",
      "source": [
        "Accuracy_C5Model <- sum(prediction_C5 == Loans_TestDF$Approval) / length(prediction_C5)*100\n",
        "print('Accuracy of C5 Model is:')\n",
        "Accuracy_C5Model"
      ],
      "metadata": {
        "colab": {
          "base_uri": "https://localhost:8080/",
          "height": 52
        },
        "id": "K43bXnxJoEos",
        "outputId": "0f0349b4-d69f-4cd1-b1b1-c311cb723bc1"
      },
      "execution_count": 30,
      "outputs": [
        {
          "output_type": "stream",
          "name": "stdout",
          "text": [
            "[1] \"Accuracy of C5 Model is:\"\n"
          ]
        },
        {
          "output_type": "display_data",
          "data": {
            "text/html": [
              "84.7156827236509"
            ],
            "text/markdown": "84.7156827236509",
            "text/latex": "84.7156827236509",
            "text/plain": [
              "[1] 84.71568"
            ]
          },
          "metadata": {}
        }
      ]
    },
    {
      "cell_type": "markdown",
      "source": [
        "# **Comparison of CART and C5 Models**"
      ],
      "metadata": {
        "id": "8qz9gP_-yvF7"
      }
    },
    {
      "cell_type": "code",
      "source": [
        "labels <- c('CART Model','C5 Model')\n",
        "Comparison_AccuracyModel = c(Accuracy_CARTModel, Accuracy_C5Model)\n",
        "Comparison_AccuracyModel"
      ],
      "metadata": {
        "colab": {
          "base_uri": "https://localhost:8080/",
          "height": 35
        },
        "id": "IEBGgphdtXVH",
        "outputId": "7b0393bb-9593-4626-9720-c666d2de1759"
      },
      "execution_count": 31,
      "outputs": [
        {
          "output_type": "display_data",
          "data": {
            "text/html": [
              "<style>\n",
              ".list-inline {list-style: none; margin:0; padding: 0}\n",
              ".list-inline>li {display: inline-block}\n",
              ".list-inline>li:not(:last-child)::after {content: \"\\00b7\"; padding: 0 .5ex}\n",
              "</style>\n",
              "<ol class=list-inline><li>84.3233128093686</li><li>84.7156827236509</li></ol>\n"
            ],
            "text/markdown": "1. 84.3233128093686\n2. 84.7156827236509\n\n\n",
            "text/latex": "\\begin{enumerate*}\n\\item 84.3233128093686\n\\item 84.7156827236509\n\\end{enumerate*}\n",
            "text/plain": [
              "[1] 84.32331 84.71568"
            ]
          },
          "metadata": {}
        }
      ]
    },
    {
      "cell_type": "code",
      "source": [
        "barplot(Comparison_AccuracyModel, col = \"Pink\", main = \"Comparison of both Accuracy Models\", ylab = \"Count\", names.arg = labels)"
      ],
      "metadata": {
        "colab": {
          "base_uri": "https://localhost:8080/",
          "height": 437
        },
        "id": "-ukP2PU_vfB4",
        "outputId": "957d58cf-9a58-4be9-b6c8-1f9ea9734b65"
      },
      "execution_count": 33,
      "outputs": [
        {
          "output_type": "display_data",
          "data": {
            "text/plain": [
              "Plot with title “Comparison of both Accuracy Models”"
            ],
            "image/png": "[encoded data removed]"
          },
          "metadata": {
            "image/png": {
              "width": 420,
              "height": 420
            }
          }
        }
      ]
    },
    {
      "cell_type": "markdown",
      "source": [
        "* We can conclude that by comparing both the accuracies of CART and C5 models, the accuracies are almost same for both the models where accuracy of CART = 84.32 and C5.0 = 84.71."
      ],
      "metadata": {
        "id": "IFPPe4ju22IK"
      }
    },
    {
      "cell_type": "markdown",
      "source": [
        "## **References:**\n",
        "\n",
        "* http://www.sthda.com/english/articles/35-statistical-machine-learning-essentials/141-cart-model-decision-tree-essentials/\n",
        "* https://cran.r-project.org/web/packages/C50/vignettes/C5.0.html\n",
        "* https://bookdown.org/dli/rguide/bar-graph.html"
      ],
      "metadata": {
        "id": "6SCf0ME15Vk4"
      }
    }
  ]
}