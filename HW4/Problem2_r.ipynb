{
  "nbformat": 4,
  "nbformat_minor": 0,
  "metadata": {
    "colab": {
      "name": "Problem2_r.ipynb",
      "provenance": [],
      "collapsed_sections": [],
      "authorship_tag": "ABX9TyMSF/3bJ7QAH/vV5CuJmYws",
      "include_colab_link": true
    },
    "kernelspec": {
      "name": "python3",
      "display_name": "Python 3"
    },
    "language_info": {
      "name": "python"
    }
  },
  "cells": [
    {
      "cell_type": "markdown",
      "metadata": {
        "id": "view-in-github",
        "colab_type": "text"
      },
      "source": [
        "<a href=\"https://colab.research.google.com/github/MugdhaYada/my_projects-IDS/blob/main/HW4/Problem2_r.ipynb\" target=\"_parent\"><img src=\"https://colab.research.google.com/assets/colab-badge.svg\" alt=\"Open In Colab\"/></a>"
      ]
    },
    {
      "cell_type": "code",
      "execution_count": 70,
      "metadata": {
        "id": "7rh_qZVkl8dl",
        "colab": {
          "base_uri": "https://localhost:8080/"
        },
        "outputId": "117b761c-2a93-4ce7-d4cc-85716a89292e"
      },
      "outputs": [
        {
          "output_type": "stream",
          "name": "stdout",
          "text": [
            "The rpy2.ipython extension is already loaded. To reload it, use:\n",
            "  %reload_ext rpy2.ipython\n"
          ]
        }
      ],
      "source": [
        "%load_ext rpy2.ipython"
      ]
    },
    {
      "cell_type": "code",
      "source": [
        "#imported the data from the git\n",
        "\n",
        "%%R\n",
        "\n",
        "library(readr)\n",
        "nutrition_subsetDF <- read_csv(\"https://raw.githubusercontent.com/MugdhaYada/my_projects-IDS/main/HW4/nutrition_subset.csv\")\n",
        "\n",
        "nutrition_subsetDF"
      ],
      "metadata": {
        "colab": {
          "base_uri": "https://localhost:8080/"
        },
        "id": "yAdaAvdpmJYI",
        "outputId": "19fe87c6-7e54-4e34-cda8-72f6b864e4c4"
      },
      "execution_count": 71,
      "outputs": [
        {
          "output_type": "stream",
          "name": "stdout",
          "text": [
            "Rows: 961 Columns: 4\n",
            "── Column specification ────────────────────────────────────────────────────────\n",
            "Delimiter: \",\"\n",
            "chr (1): food item\n",
            "dbl (3): weight_in_grams, saturated_fat, cholesterol\n",
            "\n",
            "ℹ Use `spec()` to retrieve the full column specification for this data.\n",
            "ℹ Specify the column types or set `show_col_types = FALSE` to quiet this message.\n",
            "# A tibble: 961 × 4\n",
            "   `food item`                         weight_in_grams saturated_fat cholesterol\n",
            "   <chr>                                         <dbl>         <dbl>       <dbl>\n",
            " 1 GELATIN; DRY                  1 EN…             7             0             0\n",
            " 2 SEAWEED; SPIRULINA; DRIED     1 OZ             28.4           0.8           0\n",
            " 3 YEAST; BAKERS; DRY; ACTIVE    1 PKG             7             0             0\n",
            " 4 PARMESAN CHEESE; GRATED       1 OZ             28.4           5.4          22\n",
            " 5 PARMESAN CHEESE; GRATED       1 CUP           100            19.1          79\n",
            " 6 PARMESAN CHEESE; GRATED       1 TB…             5             1             4\n",
            " 7 YEAST; BREWERS; DRY           1 TB…             8             0             0\n",
            " 8 LAMB;CHOPS;ARM;BRAISED;LEAN   1.7 …            48             2.9          59\n",
            " 9 TUNA; CANND; DRND;WATR; WHITE 3 OZ             85             0.3          48\n",
            "10 NONFAT DRY MILK; INSTANTIZED  1 CUP            68             0.3          12\n",
            "# … with 951 more rows\n"
          ]
        }
      ]
    },
    {
      "cell_type": "markdown",
      "source": [
        "I have given the path of my git repo where I have stored the data in the form of CSV."
      ],
      "metadata": {
        "id": "nl9q5R4OvDhe"
      }
    },
    {
      "cell_type": "code",
      "source": [
        "#Sorting the columns in descending order based on saturated_fat field\n",
        "\n",
        "%%R\n",
        "\n",
        "head(nutrition_subsetDF[order(nutrition_subsetDF$saturated_fat, decreasing=TRUE),1:4])"
      ],
      "metadata": {
        "colab": {
          "base_uri": "https://localhost:8080/"
        },
        "id": "uvBicGgBmksv",
        "outputId": "f1ebf8db-790d-416f-b6b0-cc53113c427a"
      },
      "execution_count": 72,
      "outputs": [
        {
          "output_type": "stream",
          "name": "stdout",
          "text": [
            "# A tibble: 6 × 4\n",
            "  `food item`                          weight_in_grams saturated_fat cholesterol\n",
            "  <chr>                                          <dbl>         <dbl>       <dbl>\n",
            "1 CHEESECAKE                    1 CAKE            1110         120.         2053\n",
            "2 ICE CREAM; VANLLA; RICH 16% FT1/2 G…            1188         118.          703\n",
            "3 YELLOWCAKE W/ CHOCFRSTNG;COMML1 CAKE            1108          92           609\n",
            "4 CREME PIE                     1 PIE              910          90.1          46\n",
            "5 LARD                          1 CUP              205          80.4         195\n",
            "6 ICE CREAM; VANLLA; REGULR 11% 1/2 G…            1064          71.3         476\n"
          ]
        }
      ]
    },
    {
      "cell_type": "markdown",
      "source": [
        "Sorting the columns in descending order based on saturated_fat field.\n",
        "* 1 cake of 'cheese cake' and 1/2gal of 'ice cream,vanila' has almost same amounts of the weight_in_grams and saturated fat but they differ in amount of cholestrol levels.\n",
        "* 1 Cake of 'yellow cake' and 1/2 gal of 'ice cream,vanila' has only some differences in weight_in_grams, and some amount of difference in saturated fat and major difference in the amount of cholestrol.\n",
        "* 1 Cake of 'yellow cake' and 1 pie of 'creme pie' has almost same amounts of saturated fat, and some amount of difference in weight_in_grams and major difference in the amount of cholestrol. \n",
        "* 1 cup of 'Lard' is not comparable with the top 4 values because their is a huge difference between the values."
      ],
      "metadata": {
        "id": "hiCdwbGhv9zB"
      }
    },
    {
      "cell_type": "code",
      "source": [
        "%%R\n",
        "nutrition_subsetDF"
      ],
      "metadata": {
        "colab": {
          "base_uri": "https://localhost:8080/"
        },
        "id": "4B0EJz9z9Vm-",
        "outputId": "c30e2bb2-794f-42c1-ce22-1e06edf13385"
      },
      "execution_count": 73,
      "outputs": [
        {
          "output_type": "stream",
          "name": "stdout",
          "text": [
            "# A tibble: 961 × 4\n",
            "   `food item`                         weight_in_grams saturated_fat cholesterol\n",
            "   <chr>                                         <dbl>         <dbl>       <dbl>\n",
            " 1 GELATIN; DRY                  1 EN…             7             0             0\n",
            " 2 SEAWEED; SPIRULINA; DRIED     1 OZ             28.4           0.8           0\n",
            " 3 YEAST; BAKERS; DRY; ACTIVE    1 PKG             7             0             0\n",
            " 4 PARMESAN CHEESE; GRATED       1 OZ             28.4           5.4          22\n",
            " 5 PARMESAN CHEESE; GRATED       1 CUP           100            19.1          79\n",
            " 6 PARMESAN CHEESE; GRATED       1 TB…             5             1             4\n",
            " 7 YEAST; BREWERS; DRY           1 TB…             8             0             0\n",
            " 8 LAMB;CHOPS;ARM;BRAISED;LEAN   1.7 …            48             2.9          59\n",
            " 9 TUNA; CANND; DRND;WATR; WHITE 3 OZ             85             0.3          48\n",
            "10 NONFAT DRY MILK; INSTANTIZED  1 CUP            68             0.3          12\n",
            "# … with 951 more rows\n"
          ]
        }
      ]
    },
    {
      "cell_type": "code",
      "source": [
        "#created the new column 'saturated-fat_per_gram' by dividing 'saturated_fat' and 'weight_in_grams' fields.\n",
        "\n",
        "%%R\n",
        "nutrition_subsetDF['saturated_fat_per_gram'] <- nutrition_subsetDF$saturated_fat / nutrition_subsetDF$weight_in_grams \n",
        "nutrition_subsetDF\n"
      ],
      "metadata": {
        "colab": {
          "base_uri": "https://localhost:8080/"
        },
        "id": "-m6J4D1Tv97H",
        "outputId": "a5d2cf62-b8b1-4999-9c38-174bbb658fe7"
      },
      "execution_count": 74,
      "outputs": [
        {
          "output_type": "stream",
          "name": "stdout",
          "text": [
            "# A tibble: 961 × 5\n",
            "   `food item`        weight_in_grams saturated_fat cholesterol saturated_fat_p…\n",
            "   <chr>                        <dbl>         <dbl>       <dbl>            <dbl>\n",
            " 1 GELATIN; DRY     …             7             0             0          0      \n",
            " 2 SEAWEED; SPIRULIN…            28.4           0.8           0          0.0282 \n",
            " 3 YEAST; BAKERS; DR…             7             0             0          0      \n",
            " 4 PARMESAN CHEESE; …            28.4           5.4          22          0.190  \n",
            " 5 PARMESAN CHEESE; …           100            19.1          79          0.191  \n",
            " 6 PARMESAN CHEESE; …             5             1             4          0.2    \n",
            " 7 YEAST; BREWERS; D…             8             0             0          0      \n",
            " 8 LAMB;CHOPS;ARM;BR…            48             2.9          59          0.0604 \n",
            " 9 TUNA; CANND; DRND…            85             0.3          48          0.00353\n",
            "10 NONFAT DRY MILK; …            68             0.3          12          0.00441\n",
            "# … with 951 more rows\n"
          ]
        }
      ]
    },
    {
      "cell_type": "markdown",
      "source": [
        "created the new column 'saturated-fat_per_gram' by dividing 'saturated_fat' and 'weight_in_grams' fields."
      ],
      "metadata": {
        "id": "hKjHCbhLyNN7"
      }
    },
    {
      "cell_type": "code",
      "source": [
        "#Sorting the columns in descending order based on saturated_fat_per_gram field\n",
        "\n",
        "%%R\n",
        "\n",
        "head(nutrition_subsetDF[order(nutrition_subsetDF$saturated_fat_per_gram, decreasing=TRUE),1:5])"
      ],
      "metadata": {
        "colab": {
          "base_uri": "https://localhost:8080/"
        },
        "id": "70xKjgP49yBX",
        "outputId": "459296c2-052b-4778-8aed-60a2a91bcc3b"
      },
      "execution_count": 75,
      "outputs": [
        {
          "output_type": "stream",
          "name": "stdout",
          "text": [
            "# A tibble: 6 × 5\n",
            "  `food item`         weight_in_grams saturated_fat cholesterol saturated_fat_p…\n",
            "  <chr>                         <dbl>         <dbl>       <dbl>            <dbl>\n",
            "1 BUTTER; SALTED    …              14           7.1          31            0.507\n",
            "2 BUTTER; UNSALTED  …              14           7.1          31            0.507\n",
            "3 BUTTER; SALTED    …             113          57.1         247            0.505\n",
            "4 BUTTER; UNSALTED  …             113          57.1         247            0.505\n",
            "5 BUTTER; SALTED    …               5           2.5          11            0.5  \n",
            "6 BUTTER; UNSALTED  …               5           2.5          11            0.5  \n"
          ]
        }
      ]
    },
    {
      "cell_type": "markdown",
      "source": [
        "Sorting the columns in descending order based on saturated_fat_per_gram field."
      ],
      "metadata": {
        "id": "RSwUmFomyoj-"
      }
    },
    {
      "cell_type": "code",
      "source": [
        "#Standardizing the 'saturated_fat_per_gram' by z-score.\n",
        "\n",
        "%%R\n",
        "nutrition_subsetDF$saturated_fat_per_gram <- scale(x = nutrition_subsetDF$saturated_fat_per_gram)\n",
        "\n",
        "summary(nutrition_subsetDF$saturated_fat_per_gram)"
      ],
      "metadata": {
        "colab": {
          "base_uri": "https://localhost:8080/"
        },
        "id": "AYil3AzlCABk",
        "outputId": "efe61ea9-99a0-48f4-bb5e-4719043459d9"
      },
      "execution_count": 76,
      "outputs": [
        {
          "output_type": "stream",
          "name": "stdout",
          "text": [
            "       V1         \n",
            " Min.   :-0.5620  \n",
            " 1st Qu.:-0.5620  \n",
            " Median :-0.4411  \n",
            " Mean   : 0.0000  \n",
            " 3rd Qu.: 0.1539  \n",
            " Max.   : 7.1068  \n"
          ]
        }
      ]
    },
    {
      "cell_type": "markdown",
      "source": [
        "Standardizing the 'saturated_fat_per_gram' by z-score and creating density plot."
      ],
      "metadata": {
        "id": "EGFK1Gy_zHE0"
      }
    },
    {
      "cell_type": "code",
      "source": [
        "# Determine the three sigma rule first for saturated_fat_per_gram attribute\n",
        "%%R\n",
        "\n",
        "three_sigma_rule <- (nutrition_subsetDF$saturated_fat_per_gram < -3 | \n",
        "                     nutrition_subsetDF$saturated_fat_per_gram > 3 )\n",
        "\n",
        "\n",
        "# how many outliers are there?\n",
        "cat (\"There are\", sum(three_sigma_rule), \"outliers \\n\\n\")\n",
        "\n",
        "\n",
        "# The condition given as input to which() states that we want\n",
        "# all records whose scaled saturated_fat_per_gram values are less than −3 or greater than 3. \n",
        "\n",
        "# The which() command returns the row indices of all such records. \n",
        "\n",
        "\n",
        "cat(\"The scaled saturated_fat_per_gram values that are outliers: \\n\\n\")\n",
        "nutrition_subsetDF$saturated_fat_per_gram[which(three_sigma_rule)]\n",
        "\n",
        "\n",
        "cat(\"\\n\\nThe scaled saturated_fat_per_gram values that are NOT outliers: \\n\\n\")\n",
        "nutrition_subsetDF$saturated_fat_per_gram[which(!three_sigma_rule)]"
      ],
      "metadata": {
        "colab": {
          "base_uri": "https://localhost:8080/"
        },
        "id": "WSnD_A46CpN8",
        "outputId": "9fd72fe3-f5dc-4793-839a-69b1f47ee990"
      },
      "execution_count": 77,
      "outputs": [
        {
          "output_type": "stream",
          "name": "stdout",
          "text": [
            "There are 15 outliers \n",
            "\n",
            "The scaled saturated_fat_per_gram values that are outliers: \n",
            "\n",
            "\n",
            "\n",
            "The scaled saturated_fat_per_gram values that are NOT outliers: \n",
            "\n",
            "  [1] -0.562042578 -0.135330425 -0.562042578  2.318264454  2.326185298\n",
            "  [6]  2.462279806 -0.562042578  0.351554809 -0.508672183 -0.495329584\n",
            " [11] -0.495573954 -0.020184817 -0.184002280  0.069905383 -0.038602165\n",
            " [16] -0.015984370  1.094133966 -0.191717388  2.064342650 -0.403793151\n",
            " [21]  0.761098465  0.389155591 -0.015984370  0.052272906  0.291883742\n",
            " [26] -0.312980734 -0.401931393 -0.178961743 -0.313616096  0.273031513\n",
            " [31] -0.348560998 -0.188449813 -0.312980734  0.451398785  0.451398785\n",
            " [36]  1.091467015  2.104908378  0.162090951  0.330380421  0.005017869\n",
            " [41]  0.654638841  0.817804510 -0.064893693 -0.321471479 -0.281212642\n",
            " [46] -0.117289286  0.576525849  0.309673874  0.843377824  0.167352821\n",
            " [51]  0.505365322  0.470398512  0.470398512 -0.006554793  0.286890021\n",
            " [56]  0.185142952  1.359291642  0.434204796 -0.259610339  0.572078316\n",
            " [61]  1.252550852 -0.032786161 -0.272952938  2.622863295  0.540945586\n",
            " [66] -0.526462314  0.167352821  0.576525849  0.718846902 -0.348560998\n",
            " [71]  0.771432900 -0.028652387  2.638298569  1.838213282  2.318264454\n",
            " [76]  1.998230339 -0.017664549 -0.134692676 -0.490034902 -0.490034902\n",
            " [81]  1.103033791 -0.188449813  0.067454389  0.665476507  0.025031767\n",
            " [86]  2.640181122  1.066438706  1.359291642  0.068024585 -0.231922881\n",
            " [91] -0.129996523  1.590563354 -0.277400471 -0.135079418 -0.099499154\n",
            " [96]  0.345254137 -0.562042578  0.344720747  0.238042709  0.184703690\n",
            "[101]  1.784874263  2.424942492  2.264925435  1.411501129  1.745992925\n",
            "[106]  0.546875629  0.188437421 -0.259610339 -0.135079418  0.202933084\n",
            "[111] -0.401931393 -0.508672183 -0.296751141 -0.270221997 -0.323280284\n",
            "[116] -0.117289286 -0.099499154  0.007241636 -0.348560998  0.861167956\n",
            "[121]  0.878110938  0.878110938  0.504737804  0.504737804  0.771432900\n",
            "[126]  0.771432900  1.464840148 -0.057988847 -0.520327786 -0.506036608\n",
            "[131] -0.141997802  0.194038018  0.302049532  0.880326559  0.880326559\n",
            "[136] -0.318621508  0.614948865  1.415398981  0.817666539  0.817666539\n",
            "[141] -0.473091919 -0.209204966  0.054988713 -0.346019550  0.086026504\n",
            "[146]  0.282247421 -0.508703559 -0.402025520 -0.508703559  0.824771919\n",
            "[151]  0.824771919  1.891552301  0.131364671  0.291381728  1.678196225\n",
            "[156]  1.678196225  0.146782981  1.082764332  0.658298033 -0.374695173\n",
            "[161]  0.423562485 -0.524238548  0.278046973  0.143632645 -0.430550300\n",
            "[166]  0.134866493  0.314572606  0.062545741 -0.335218399 -0.508672183\n",
            "[171]  0.194038018  0.383058167  0.383058167 -0.562042578 -0.467532503\n",
            "[176] -0.045387504  0.855608539 -0.131916728 -0.314048142 -0.129996523\n",
            "[181]  1.056235189  0.116886937 -0.562042578 -0.320096787 -0.078150996\n",
            "[186] -0.108394220 -0.078150996  1.058130128 -0.384141261 -0.016672968\n",
            "[191]  0.118429959  0.181744025  0.691944752 -0.455301788 -0.091592429\n",
            "[196] -0.562042578 -0.452830936  0.203372346  1.050929360  0.234156580\n",
            "[201] -0.346019550 -0.001653430 -0.562042578 -0.508703559 -0.455364540\n",
            "[206] -0.508703559 -0.508703559 -0.508703559 -0.508703559 -0.508703559\n",
            "[211] -0.562042578 -0.508703559  0.878110938  1.198145053  1.624857206\n",
            "[216]  1.998230339 -0.242008463 -0.463423370 -0.535744122 -0.537847999\n",
            "[221] -0.301950853 -0.457755599 -0.495329584 -0.495329584 -0.471312906\n",
            "[226]  0.798902495 -0.410826459 -0.441069682 -0.562042578 -0.536839891\n",
            "[231] -0.461231832  0.006818061  0.109304848 -0.455458529 -0.234184620\n",
            "[236] -0.368858989 -0.537847999 -0.418027226 -0.418027226 -0.432143268\n",
            "[241] -0.435474020 -0.467532503  0.244443391 -0.017664549 -0.475443038\n",
            "[246] -0.458789281 -0.189818284 -0.524934328 -0.240708325 -0.424573379\n",
            "[251] -0.355838779  0.125303418 -0.542058069 -0.500068758 -0.500068758\n",
            "[256] -0.360421086  0.366477452 -0.482455147 -0.553199530 -0.430550300\n",
            "[261] -0.430550300 -0.055797309 -0.216405734 -0.432428761  0.178916406\n",
            "[266] -0.546125092 -0.375520492 -0.452127777 -0.438804771 -0.473833175\n",
            "[271]  0.068024585 -0.553641682  0.698091749 -0.535357380 -0.425481765\n",
            "[276] -0.360421086  0.227394515 -0.441069682 -0.441069682 -0.441069682\n",
            "[281] -0.441069682 -0.441069682 -0.441069682 -0.441069682 -0.380583235\n",
            "[286] -0.539360160 -0.554481772 -0.554481772 -0.540127198 -0.554083835\n",
            "[291] -0.534548738  0.268163567 -0.553641682 -0.324243036 -0.553868733\n",
            "[296] -0.373022429 -0.473833175  1.175814314  1.175814314 -0.123219330\n",
            "[301] -0.218100032 -0.544252446 -0.282012727  0.264045481 -0.282012727\n",
            "[306] -0.057988847  1.431260811 -0.546290899 -0.238008037 -0.129996523\n",
            "[311] -0.292013794  0.086026504 -0.129996523  0.140032261 -0.455364540\n",
            "[316] -0.188669444 -0.455364540 -0.562042578 -0.562042578 -0.562042578\n",
            "[321] -0.508703559 -0.562042578  0.238042709  1.144806034  1.144806034\n",
            "[326]  0.184703690  0.398059766  2.318264454  2.744976607  1.784874263\n",
            "[331]  0.393006596 -0.141997802  1.002262103  0.134031622 -0.125196011\n",
            "[336] -0.091592429 -0.360421086  0.009218317  0.748497122 -0.057988847\n",
            "[341] -0.091592429 -0.057988847 -0.511637205 -0.553641682  0.042821899\n",
            "[346]  0.345254137  0.950118614 -0.290470772 -0.545694889  0.096827656\n",
            "[351]  0.058708417 -0.147077414 -0.307050691 -0.419721524  0.510646768\n",
            "[356]  0.808353502 -0.089492205 -0.541185182  0.407519598  0.345254137\n",
            "[361] -0.002044422 -0.531182145  0.681289958  0.284767690 -0.552517153\n",
            "[366] -0.004930560 -0.556112534 -0.553147512  0.164957995 -0.057988847\n",
            "[371] -0.542058069  0.215640321 -0.518837972 -0.562042578 -0.434254308\n",
            "[376] -0.033175034  1.065174357  1.071363971 -0.550410569 -0.550410569\n",
            "[381] -0.408828008 -0.174016310  0.671562605  1.010605062 -0.549945288\n",
            "[386] -0.046991311 -0.047031157  0.194038018  0.912314584 -0.108394220\n",
            "[391]  0.496470256  0.118429959 -0.552591570  0.723294435  0.798902495\n",
            "[396]  0.153919456 -0.416875103 -0.346019550  0.482068721 -0.202004199\n",
            "[401] -0.553147512 -0.553147512 -0.034544488  0.018205321 -0.311455866\n",
            "[406]  0.012072675 -0.461231832 -0.461231832 -0.167241873  0.197453016\n",
            "[411] -0.455458529 -0.514787541  0.204995708  0.095418810 -0.562042578\n",
            "[416] -0.114783634  0.698091749  0.162534660  0.083776265 -0.219666459\n",
            "[421]  2.657971254  0.087714184  0.090315770  0.617967601  0.405740585\n",
            "[426]  0.073065123  0.194038018 -0.011615904  0.466227033  0.072732780\n",
            "[431]  0.074656871  0.110690551 -0.156587144 -0.522765664 -0.522765664\n",
            "[436] -0.278846312 -0.552286699 -0.386813598 -0.562042578 -0.544727755\n",
            "[441] -0.544727755 -0.158030046 -0.547641043 -0.195458046 -0.122985249\n",
            "[446]  0.449854761 -0.552591570 -0.265911011  1.044628688 -0.085991832\n",
            "[451] -0.093992685 -0.383052069 -0.469461280 -0.537354232 -0.562042578\n",
            "[456] -0.379119853  0.693542527 -0.380583235 -0.477361551  0.356055289\n",
            "[461] -0.292013794 -0.551241426 -0.551241426 -0.097593069  0.451275965\n",
            "[466]  0.344720747 -0.562042578  2.584959550 -0.562042578  0.611415843\n",
            "[471]  0.558076823 -0.242290431 -0.498595255 -0.541185182  1.445592707\n",
            "[476] -0.253904071 -0.248197802  0.011916415 -0.562042578 -0.562042578\n",
            "[481] -0.562042578 -0.536839891  1.529780404  0.012828619 -0.245976099\n",
            "[486] -0.382318502 -0.462884467 -0.481805453 -0.543526318 -0.562042578\n",
            "[491] -0.552286699 -0.529696884  0.116491290 -0.241464405 -0.374534590\n",
            "[496] -0.471312906 -0.305562941 -0.298014433 -0.538040019 -0.538040019\n",
            "[501] -0.472388752 -0.307362798 -0.554083835 -0.552591570 -0.550410569\n",
            "[506] -0.294506367 -0.282874358 -0.306138376 -0.294506367 -0.294506367\n",
            "[511] -0.534381093 -0.543601588  1.410341585 -0.562042578 -0.298559946\n",
            "[516] -0.562042578 -0.562042578 -0.553147512  0.687134059  0.518965216\n",
            "[521] -0.562042578 -0.222577820 -0.281561066 -0.547910230 -0.547910230\n",
            "[526] -0.344291366 -0.555993933 -0.553641682 -0.562042578 -0.553641682\n",
            "[531] -0.545240787 -0.553641682  0.943754299 -0.553734000  0.939901309\n",
            "[536] -0.552028265 -0.107594135 -0.482455147 -0.542530820 -0.536193668\n",
            "[541] -0.536193668 -0.538778559 -0.168400617 -0.150505038 -0.169646319\n",
            "[546] -0.112222476 -0.562042578 -0.562042578  1.252550852 -0.554556631\n",
            "[551] -0.506266140 -0.552765515 -0.173201128 -0.153999082 -0.552877964\n",
            "[556] -0.385217277 -0.562042578 -0.251073946 -0.543823768 -0.537847999\n",
            "[561]  0.266045694 -0.547641043 -0.547641043 -0.547641043 -0.547641043\n",
            "[566]  0.469785059  0.469785059 -0.562042578 -0.554943229 -0.168705852\n",
            "[571] -0.562042578 -0.536412727 -0.536556715 -0.562042578 -0.562042578\n",
            "[576] -0.123595841 -0.562042578  0.935163174 -0.562042578 -0.562042578\n",
            "[581]  0.449614558 -0.050889499 -0.346019550  2.919740334  2.361047257\n",
            "[586] -0.493871376 -0.562042578 -0.160856955 -0.562042578 -0.562042578\n",
            "[591] -0.562042578  0.930221756 -0.556112534 -0.554666182 -0.554737451\n",
            "[596]  0.115218805 -0.552349237 -0.552349237 -0.562042578 -0.547641043\n",
            "[601] -0.511637205 -0.043587312 -0.403625691 -0.121793117 -0.550964474\n",
            "[606] -0.562042578 -0.562042578 -0.562042578 -0.562042578 -0.562042578\n",
            "[611] -0.562042578 -0.562042578 -0.562042578 -0.553641682 -0.562042578\n",
            "[616] -0.524395411 -0.518120883 -0.530669939 -0.298409212 -0.555845196\n",
            "[621] -0.555845196 -0.555845196 -0.555845196 -0.537253050 -0.549945288\n",
            "[626] -0.549945288 -0.562042578 -0.562042578 -0.562042578 -0.562042578\n",
            "[631] -0.550228818 -0.550228818 -0.550228818 -0.550228818 -0.550410569\n",
            "[636] -0.550499363 -0.562042578 -0.562042578 -0.562042578 -0.562042578\n",
            "[641] -0.562042578 -0.562042578 -0.562042578 -0.562042578 -0.539804913\n",
            "[646] -0.562042578 -0.517999048 -0.562042578 -0.562042578 -0.562042578\n",
            "[651] -0.562042578  2.289461384  0.449614558 -0.551541458 -0.562042578\n",
            "[656] -0.562042578 -0.562042578 -0.562042578 -0.531799354  2.724387745\n",
            "[661] -0.552028265 -0.562042578 -0.562042578 -0.552349237 -0.552349237\n",
            "[666] -0.498506393 -0.562042578 -0.562042578 -0.562042578 -0.552591570\n",
            "[671] -0.543140563 -0.562042578 -0.562042578 -0.562042578 -0.562042578\n",
            "[676] -0.431897557 -0.562042578 -0.537354232 -0.555870491 -0.562042578\n",
            "[681] -0.562042578 -0.562042578 -0.562042578 -0.562042578 -0.562042578\n",
            "[686] -0.556181488 -0.532962555 -0.562042578 -0.509899088 -0.536699094\n",
            "[691] -0.553641682 -0.562042578 -0.375719214 -0.545955757 -0.554083835\n",
            "[696] -0.562042578 -0.374001808 -0.562042578 -0.539913390 -0.360421086\n",
            "[701] -0.554841810 -0.562042578 -0.562042578 -0.559237084 -0.562042578\n",
            "[706]  1.833327806  1.565688657  1.523007876 -0.535513434 -0.548893350\n",
            "[711] -0.555635115 -0.555741906 -0.555741906 -0.562042578 -0.562042578\n",
            "[716] -0.562042578 -0.543218994 -0.562042578 -0.555845196 -0.537253050\n",
            "[721] -0.562042578 -0.562042578 -0.413305411 -0.555870491 -0.562042578\n",
            "[726] -0.562042578 -0.562042578 -0.562042578 -0.555945154 -0.555969641\n",
            "[731] -0.562042578 -0.562042578 -0.562042578 -0.562042578 -0.562042578\n",
            "[736] -0.562042578 -0.556379053 -0.562042578 -0.550923745 -0.562042578\n",
            "[741] -0.551241426 -0.562042578 -0.562042578 -0.562042578 -0.562042578\n",
            "[746] -0.541040339 -0.562042578 -0.551685309 -0.551685309 -0.562042578\n",
            "[751] -0.562042578 -0.552223349 -0.562042578 -0.562042578 -0.552591570\n",
            "[756] -0.552630786 -0.562042578 -0.562042578 -0.553824310 -0.538040019\n",
            "[761] -0.562042578 -0.554737451 -0.548041085  1.376454809  0.603720455\n",
            "[766] -0.562042578 -0.562042578 -0.555845196 -0.555845196 -0.562042578\n",
            "[771] -0.555895581 -0.562042578 -0.562042578 -0.562042578 -0.562042578\n",
            "[776] -0.562042578 -0.562042578 -0.562042578 -0.562042578 -0.562042578\n",
            "[781] -0.562042578 -0.562042578 -0.562042578 -0.562042578 -0.562042578\n",
            "[786] -0.562042578 -0.556065656 -0.562042578 -0.562042578 -0.562042578\n",
            "[791] -0.562042578 -0.562042578 -0.562042578 -0.562042578 -0.562042578\n",
            "[796] -0.562042578 -0.562042578 -0.562042578 -0.562042578 -0.562042578\n",
            "[801] -0.562042578 -0.562042578 -0.562042578 -0.562042578 -0.562042578\n",
            "[806] -0.562042578 -0.562042578 -0.562042578  0.019557881 -0.562042578\n",
            "[811] -0.562042578 -0.562042578  0.446064883 -0.562042578 -0.508703559\n",
            "[816] -0.057988847 -0.562042578 -0.562042578 -0.562042578 -0.562042578\n",
            "[821] -0.329402394 -0.562042578 -0.562042578 -0.562042578 -0.562042578\n",
            "[826] -0.562042578 -0.562042578 -0.562042578  1.274153155  0.734095587\n",
            "[831] -0.562042578 -0.360421086 -0.562042578 -0.562042578 -0.562042578\n",
            "[836]  0.383058167 -0.562042578 -0.562042578 -0.562042578 -0.562042578\n",
            "[841] -0.562042578 -0.562042578 -0.562042578 -0.562042578 -0.562042578\n",
            "[846] -0.556112534 -0.562042578 -0.562042578 -0.562042578 -0.562042578\n",
            "[851] -0.562042578 -0.562042578 -0.562042578 -0.562042578 -0.562042578\n",
            "[856] -0.562042578 -0.562042578 -0.562042578 -0.562042578 -0.531799354\n",
            "[861] -0.562042578 -0.554909742 -0.562042578 -0.535513434 -0.562042578\n",
            "[866] -0.562042578 -0.551084888 -0.562042578 -0.555993933 -0.562042578\n",
            "[871] -0.562042578 -0.562042578 -0.548295658 -0.562042578 -0.562042578\n",
            "[876] -0.562042578 -0.562042578 -0.562042578 -0.562042578 -0.562042578\n",
            "[881] -0.562042578 -0.562042578 -0.562042578 -0.562042578  1.382164669\n",
            "[886]  1.490176182  2.030233751  0.842107100  1.706199210  2.138245265\n",
            "[891]  0.950118614  1.482175330  1.993229806  1.359373248  0.811388229\n",
            "[896]  1.692326171  2.157072960  0.998674249  1.814210723  1.490176182\n",
            "[901]  1.857415329  1.598187696  1.382164669  0.748497122  0.761098465\n",
            "[906]  1.554983091  0.855608539 -0.562042578  0.143632645 -0.562042578\n",
            "[911] -0.562042578  2.840320104  0.626084073  2.966333536  1.454172344\n",
            "[916]  2.361469059 -0.562042578 -0.562042578 -0.562042578 -0.562042578\n",
            "[921]  0.950118614  2.462279806 -0.057988847 -0.562042578  1.454172344\n",
            "[926]  1.252550852 -0.562042578  1.454172344 -0.562042578 -0.373022429\n",
            "[931]  0.546875629  0.849307868 -0.562042578 -0.562042578 -0.562042578\n",
            "[936] -0.562042578 -0.562042578 -0.562042578 -0.562042578 -0.562042578\n",
            "[941] -0.562042578 -0.562042578 -0.562042578 -0.562042578 -0.562042578\n",
            "[946] -0.562042578\n"
          ]
        }
      ]
    },
    {
      "cell_type": "markdown",
      "source": [
        "Determining the outliers of 'saturated_fat_per_gram' by using the three sigma thumb rule."
      ],
      "metadata": {
        "id": "s2qSnCr2yctt"
      }
    },
    {
      "cell_type": "code",
      "source": [
        "#Determining outliers using box plot\n",
        "%%R\n",
        "\n",
        "boxplot(nutrition_subsetDF$saturated_fat_per_gram,\n",
        "  ylab = \"saturated_fat_per_gram\",\n",
        "  main = \"Boxplot\"\n",
        ")\n",
        "mtext(paste(\"Density Plot for saturated_fat_per_gram Outliers\", paste(collapse = \", \")))"
      ],
      "metadata": {
        "colab": {
          "base_uri": "https://localhost:8080/",
          "height": 497
        },
        "id": "jFnhXYHlFg8O",
        "outputId": "e230c707-3324-4d6f-fe28-f54cbac202fc"
      },
      "execution_count": 78,
      "outputs": [
        {
          "output_type": "display_data",
          "data": {
            "image/png": "[encoded data removed]"
          },
          "metadata": {}
        }
      ]
    },
    {
      "cell_type": "code",
      "source": [
        "#kernel density plot for saturated_fat_per_gram\n",
        "%%R\n",
        "par(mfrow=c(1, 2))\n",
        "\n",
        "\n",
        "# Kernel Density Plot\n",
        "d1 <- density(nutrition_subsetDF$saturated_fat_per_gram) \n",
        "\n",
        "# plots the results\n",
        "plot(d1, main=\"Kernel Density of saturated_fat_per_gram\") \n",
        "\n",
        "# plots the results (filled)\n",
        "polygon(d1, col=\"pink\", border=\"cyan\")\n",
        "\n",
        "\n",
        "# Kernel Density Plot\n",
        "d2 <- density(nutrition_subsetDF$saturated_fat_per_gram) \n",
        "\n",
        "# plots the results\n",
        "plot(d2, main=\"Kernel Density of saturated_fat_per_gram\") \n",
        "\n",
        "# plots the results (filled)\n",
        "polygon(d2, col=\"pink\", border=\"cyan\")"
      ],
      "metadata": {
        "colab": {
          "base_uri": "https://localhost:8080/",
          "height": 497
        },
        "id": "mVPbVHoZF9ON",
        "outputId": "36300e07-538e-463f-d439-7076ae15a689"
      },
      "execution_count": 79,
      "outputs": [
        {
          "output_type": "display_data",
          "data": {
            "image/png": "[encoded data removed]"
          },
          "metadata": {}
        }
      ]
    },
    {
      "cell_type": "markdown",
      "source": [
        "Creating kernel density plot for saturated_fat_per_gram."
      ],
      "metadata": {
        "id": "JhtJHs55zgZR"
      }
    },
    {
      "cell_type": "code",
      "source": [
        "%%R\n",
        "# Does $age have any missing values?\n",
        "\n",
        "sum(is.na(nutrition_subsetDF$saturated_fat_per_gram))\n"
      ],
      "metadata": {
        "colab": {
          "base_uri": "https://localhost:8080/"
        },
        "id": "Sh1FbJSHx1pw",
        "outputId": "580377aa-8aef-4c83-ec47-75bed59ba1c6"
      },
      "execution_count": 83,
      "outputs": [
        {
          "output_type": "stream",
          "name": "stdout",
          "text": [
            "[1] 0\n"
          ]
        }
      ]
    },
    {
      "cell_type": "code",
      "source": [
        "#Standardizing the 'saturated_fat' by z-score.\n",
        "\n",
        "%%R\n",
        "nutrition_subsetDF$saturated_fat <- scale(x = nutrition_subsetDF$saturated_fat)\n",
        "\n",
        "summary(nutrition_subsetDF$saturated_fat)"
      ],
      "metadata": {
        "colab": {
          "base_uri": "https://localhost:8080/"
        },
        "id": "s65_UGPd--Xd",
        "outputId": "3cf38f69-9116-4470-f624-1147f70f5073"
      },
      "execution_count": 58,
      "outputs": [
        {
          "output_type": "stream",
          "name": "stdout",
          "text": [
            "       V1         \n",
            " Min.   :-0.3711  \n",
            " 1st Qu.:-0.3711  \n",
            " Median :-0.3339  \n",
            " Mean   : 0.0000  \n",
            " 3rd Qu.:-0.0640  \n",
            " Max.   :10.7882  \n"
          ]
        }
      ]
    },
    {
      "cell_type": "markdown",
      "source": [
        "Standardizing the 'saturated_fat' by z-score and creating density plot."
      ],
      "metadata": {
        "id": "e72yGs_rxyzU"
      }
    },
    {
      "cell_type": "code",
      "source": [
        "# Determine the three sigma rule first for saturated_fat attribute\n",
        "%%R\n",
        "\n",
        "three_sigma_rule <- (nutrition_subsetDF$saturated_fat < -3 | \n",
        "                     nutrition_subsetDF$saturated_fat > 3 )\n",
        "\n",
        "\n",
        "# how many outliers are there?\n",
        "cat (\"There are\", sum(three_sigma_rule), \"outliers \\n\\n\")\n",
        "\n",
        "\n",
        "# The condition given as input to which() states that we want\n",
        "# all records whose scaled saturated_fat values are less than −3 or greater than 3. \n",
        "\n",
        "# The which() command returns the row indices of all such records. \n",
        "\n",
        "\n",
        "cat(\"The scaled saturated_fat values that are outliers: \\n\\n\")\n",
        "nutrition_subsetDF$saturated_fat[which(three_sigma_rule)]\n",
        "\n",
        "\n",
        "cat(\"\\n\\nThe scaled saturated_fat values that are NOT outliers: \\n\\n\")\n",
        "nutrition_subsetDF$saturated_fat[which(!three_sigma_rule)]"
      ],
      "metadata": {
        "colab": {
          "base_uri": "https://localhost:8080/"
        },
        "id": "PWrPJy9s_tD9",
        "outputId": "77da5ca9-5e4a-4261-eccd-eaa8d991581a"
      },
      "execution_count": 59,
      "outputs": [
        {
          "output_type": "stream",
          "name": "stdout",
          "text": [
            "There are 20 outliers \n",
            "\n",
            "The scaled saturated_fat values that are outliers: \n",
            "\n",
            "\n",
            "\n",
            "The scaled saturated_fat values that are NOT outliers: \n",
            "\n",
            "  [1] -0.371135870 -0.296678195 -0.371135870  0.131453437  1.406541123\n",
            "  [6] -0.278063776 -0.371135870 -0.101226798 -0.343214242 -0.343214242\n",
            " [11] -0.333907032  0.029074134 -0.203606101 -0.110534007 -0.119841216\n",
            " [16] -0.129148426  0.271061578 -0.147762845 -0.063997960 -0.287370985\n",
            " [21] -0.240834938 -0.008154704 -0.129148426 -0.129148426  0.075610181\n",
            " [26] -0.240834938 -0.287370985 -0.194298891 -0.157070054 -0.026769123\n",
            " [31] -0.259449357 -0.175684473 -0.240834938 -0.194298891 -0.194298891\n",
            " [36] -0.082612379  0.094224600 -0.054690751 -0.036076332 -0.119841216\n",
            " [41]  0.280368787  0.308290415 -0.147762845 -0.305985404 -0.129148426\n",
            " [46] -0.138455635  0.224525531  0.084917390  0.364133672  0.010459715\n",
            " [51]  0.187296693  0.550277859  0.550277859 -0.203606101 -0.073305169\n",
            " [56]  0.019766924  0.634042744  0.150067856 -0.333907032 -0.315292614\n",
            " [61] -0.147762845  0.084917390 -0.250142148  1.843979964  0.205911112\n",
            " [66] -0.352521451  0.010459715  0.224525531  0.298983206 -0.259449357\n",
            " [71] -0.138455635 -0.278063776  0.187296693  0.047688553  0.131453437\n",
            " [76]  0.075610181  0.047688553 -0.250142148 -0.352521451 -0.352521451\n",
            " [81]  0.540970650 -0.175684473  0.485127394  0.271061578 -0.063997960\n",
            " [86] -0.036076332 -0.240834938  0.634042744 -0.091919588 -0.082612379\n",
            " [91] -0.296678195  0.755036466 -0.222220520 -0.147762845 -0.129148426\n",
            " [96]  0.103531809 -0.371135870 -0.212913310 -0.231527729 -0.240834938\n",
            "[101]  0.038381343  0.150067856  0.122146228 -0.026769123  0.168682275\n",
            "[106] -0.268756567  0.252447159 -0.361828660 -0.147762845  0.029074134\n",
            "[111] -0.287370985 -0.343214242 -0.278063776 -0.268756567 -0.287370985\n",
            "[116] -0.138455635 -0.129148426 -0.073305169 -0.259449357 -0.222220520\n",
            "[121] -0.119841216 -0.119841216 -0.184991682 -0.184991682 -0.138455635\n",
            "[126] -0.138455635 -0.017461913 -0.194298891 -0.333907032 -0.324599823\n",
            "[131] -0.138455635 -0.343214242 -0.147762845  0.782958094  0.782958094\n",
            "[136] -0.063997960  1.034252748 -0.212913310  0.792265304  0.792265304\n",
            "[141] -0.324599823 -0.045383541  0.289675997 -0.361828660 -0.287370985\n",
            "[146]  0.252447159 -0.361828660 -0.343214242 -0.361828660 -0.129148426\n",
            "[151] -0.129148426  0.056995762 -0.250142148 -0.222220520  0.019766924\n",
            "[156]  0.019766924 -0.091919588  0.205911112  0.056995762 -0.110534007\n",
            "[161]  0.308290415 -0.343214242 -0.138455635 -0.175684473 -0.352521451\n",
            "[166]  0.122146228  0.373440881 -0.194298891 -0.231527729 -0.343214242\n",
            "[171] -0.333907032 -0.324599823 -0.324599823 -0.371135870 -0.361828660\n",
            "[176]  0.010459715 -0.231527729  0.224525531  0.010459715  0.187296693\n",
            "[181]  0.196603903  0.038381343 -0.371135870 -0.333907032 -0.222220520\n",
            "[186] -0.231527729 -0.222220520  0.047688553 -0.352521451 -0.166377263\n",
            "[191]  0.215218322  0.755036466  1.527534845 -0.259449357 -0.240834938\n",
            "[196] -0.371135870 -0.250142148  0.010459715  0.075610181  0.829494141\n",
            "[201] -0.333907032  0.215218322 -0.371135870 -0.361828660 -0.352521451\n",
            "[206] -0.361828660 -0.361828660 -0.361828660 -0.361828660 -0.361828660\n",
            "[211]  0.466512975 -0.371135870 -0.361828660 -0.119841216 -0.063997960\n",
            "[216]  0.010459715  0.075610181 -0.315292614 -0.203606101 -0.352521451\n",
            "[221] -0.352521451  0.029074134 -0.352521451 -0.343214242 -0.343214242\n",
            "[226] -0.343214242 -0.287370985 -0.352521451 -0.333907032 -0.371135870\n",
            "[231] -0.361828660 -0.333907032  0.364133672  0.587506697 -0.073305169\n",
            "[236]  0.084917390  0.168682275 -0.352521451 -0.352521451 -0.352521451\n",
            "[241] -0.008154704 -0.017461913 -0.352521451  0.001152506 -0.119841216\n",
            "[246] -0.129148426 -0.082612379 -0.222220520 -0.333907032  0.103531809\n",
            "[251] -0.352521451 -0.343214242 -0.324599823 -0.315292614 -0.324599823\n",
            "[256] -0.324599823 -0.315292614 -0.045383541 -0.343214242 -0.361828660\n",
            "[261] -0.352521451 -0.352521451  0.345519253 -0.296678195 -0.343214242\n",
            "[266]  0.540970650 -0.352521451  0.150067856 -0.063997960 -0.026769123\n",
            "[271] -0.240834938 -0.324599823 -0.361828660  0.001152506 -0.343214242\n",
            "[276]  0.010459715 -0.203606101  0.289675997 -0.352521451 -0.352521451\n",
            "[281] -0.352521451 -0.352521451 -0.352521451 -0.352521451 -0.352521451\n",
            "[286] -0.343214242 -0.343214242 -0.361828660 -0.361828660 -0.352521451\n",
            "[291] -0.361828660 -0.343214242  1.192475307 -0.361828660 -0.008154704\n",
            "[296] -0.361828660 -0.324599823 -0.305985404  1.062174376  1.062174376\n",
            "[301]  0.317597625  0.168682275 -0.343214242 -0.324599823  0.177989484\n",
            "[306] -0.324599823 -0.287370985  1.788136708 -0.361828660 -0.343214242\n",
            "[311] -0.333907032 -0.324599823 -0.259449357 -0.296678195 -0.250142148\n",
            "[316] -0.352521451 -0.305985404 -0.352521451 -0.371135870 -0.371135870\n",
            "[321] -0.371135870 -0.361828660 -0.371135870 -0.231527729 -0.073305169\n",
            "[326] -0.073305169 -0.240834938 -0.203606101  0.131453437  0.205911112\n",
            "[331]  0.038381343 -0.036076332 -0.184991682 -0.091919588  0.708500419\n",
            "[336] -0.250142148 -0.240834938 -0.333907032 -0.212913310  0.112839018\n",
            "[341] -0.231527729 -0.240834938 -0.231527729 -0.361828660 -0.361828660\n",
            "[346] -0.259449357 -0.287370985 -0.231527729  0.038381343 -0.352521451\n",
            "[351]  0.196603903  1.592685311  0.727114838  0.029074134 -0.147762845\n",
            "[356]  1.741600661 -0.101226798 -0.324599823 -0.333907032  1.657835777\n",
            "[361] -0.008154704  2.765393694 -0.352521451  1.006331119 -0.110534007\n",
            "[366] -0.333907032  0.150067856 -0.361828660 -0.361828660 -0.138455635\n",
            "[371]  0.494434603 -0.343214242 -0.203606101 -0.361828660 -0.371135870\n",
            "[376] -0.259449357  0.550277859 -0.361828660 -0.361828660 -0.157070054\n",
            "[381]  0.261754368 -0.082612379 -0.352521451  2.244189968  0.066302971\n",
            "[386] -0.184991682 -0.008154704 -0.315292614 -0.240834938 -0.203606101\n",
            "[391] -0.361828660 -0.212913310 -0.203606101  0.708500419 -0.147762845\n",
            "[396] -0.343214242 -0.101226798 -0.324599823 -0.361828660 -0.361828660\n",
            "[401] -0.231527729 -0.063997960 -0.101226798  2.374490899 -0.343214242\n",
            "[406] -0.343214242  0.122146228 -0.222220520 -0.324599823 -0.045383541\n",
            "[411] -0.091919588 -0.371135870 -0.175684473  0.001152506 -0.157070054\n",
            "[416]  0.010459715  0.187296693  2.998073928  0.885337397 -0.222220520\n",
            "[421] -0.175684473 -0.138455635  0.475820184 -0.054690751  0.224525531\n",
            "[426]  0.680578791  2.244189968 -0.352521451 -0.352521451  0.122146228\n",
            "[431] -0.361828660 -0.119841216 -0.371135870 -0.343214242 -0.343214242\n",
            "[436] -0.045383541 -0.361828660  0.224525531  2.709550437  0.457205766\n",
            "[441] -0.361828660  1.843979964  0.066302971  0.419976928 -0.212913310\n",
            "[446]  2.048738571 -0.101226798 -0.231527729 -0.333907032 -0.371135870\n",
            "[451] -0.091919588 -0.091919588 -0.240834938 -0.212913310 -0.278063776\n",
            "[456] -0.361828660 -0.361828660  0.029074134 -0.212913310 -0.371135870\n",
            "[461]  0.177989484 -0.371135870 -0.166377263 -0.175684473  0.075610181\n",
            "[466] -0.315292614 -0.352521451  2.532713459  0.131453437  0.140760646\n",
            "[471] -0.371135870 -0.371135870 -0.371135870 -0.361828660  0.401362509\n",
            "[476]  0.056995762  0.103531809 -0.101226798 -0.222220520 -0.250142148\n",
            "[481] -0.343214242 -0.371135870  2.355876481 -0.361828660 -0.333907032\n",
            "[486]  0.280368787  0.122146228 -0.082612379 -0.231527729  0.075610181\n",
            "[491] -0.268756567 -0.361828660 -0.361828660 -0.231527729  0.522356231\n",
            "[496] -0.361828660 -0.361828660 -0.361828660 -0.157070054 -0.147762845\n",
            "[501] -0.166377263 -0.157070054 -0.157070054 -0.343214242 -0.352521451\n",
            "[506]  2.421026946 -0.371135870 -0.157070054 -0.371135870 -0.371135870\n",
            "[511] -0.361828660  0.159375065  1.239011354 -0.371135870  0.140760646\n",
            "[516]  0.056995762 -0.352521451 -0.352521451 -0.036076332 -0.361828660\n",
            "[521] -0.361828660 -0.371135870 -0.361828660 -0.352521451 -0.361828660\n",
            "[526] -0.361828660  0.997023910 -0.361828660  2.272111596 -0.352521451\n",
            "[531] -0.352521451 -0.333907032 -0.333907032 -0.343214242  1.918437639\n",
            "[536]  0.029074134  0.010459715  0.066302971 -0.371135870 -0.371135870\n",
            "[541]  2.309340434 -0.361828660 -0.287370985 -0.361828660  0.215218322\n",
            "[546]  2.002202524 -0.361828660 -0.101226798 -0.371135870  0.103531809\n",
            "[551] -0.361828660 -0.333907032 -0.157070054 -0.352521451 -0.352521451\n",
            "[556] -0.352521451 -0.352521451  0.168682275  0.168682275 -0.371135870\n",
            "[561] -0.361828660  0.047688553 -0.371135870 -0.343214242 -0.343214242\n",
            "[566]  0.876030188 -0.371135870 -0.371135870  2.179039502 -0.371135870\n",
            "[571] -0.371135870 -0.371135870  0.513049022  0.075610181 -0.054690751\n",
            "[576] -0.268756567 -0.371135870  0.233832740 -0.371135870 -0.371135870\n",
            "[581] -0.371135870  1.024945538 -0.361828660 -0.361828660 -0.361828660\n",
            "[586]  0.708500419 -0.361828660 -0.361828660 -0.371135870 -0.361828660\n",
            "[591] -0.305985404  0.298983206 -0.166377263  0.056995762 -0.352521451\n",
            "[596] -0.371135870 -0.371135870 -0.371135870 -0.371135870 -0.371135870\n",
            "[601] -0.371135870 -0.371135870 -0.371135870 -0.361828660 -0.371135870\n",
            "[606] -0.315292614 -0.305985404 -0.324599823  0.122146228 -0.361828660\n",
            "[611] -0.361828660 -0.361828660 -0.361828660 -0.333907032 -0.361828660\n",
            "[616] -0.361828660 -0.371135870 -0.371135870 -0.371135870 -0.371135870\n",
            "[621] -0.352521451 -0.352521451 -0.352521451 -0.352521451 -0.361828660\n",
            "[626] -0.361828660 -0.371135870 -0.371135870 -0.371135870 -0.371135870\n",
            "[631] -0.371135870 -0.371135870 -0.371135870 -0.371135870 -0.361828660\n",
            "[636] -0.371135870 -0.315292614 -0.371135870 -0.371135870 -0.371135870\n",
            "[641] -0.371135870  0.857415769  0.513049022 -0.361828660 -0.371135870\n",
            "[646] -0.371135870 -0.371135870 -0.371135870 -0.343214242  1.145939260\n",
            "[651] -0.361828660 -0.371135870 -0.371135870 -0.361828660 -0.361828660\n",
            "[656] -0.278063776 -0.371135870 -0.371135870 -0.371135870 -0.361828660\n",
            "[661] -0.343214242 -0.371135870 -0.371135870 -0.371135870 -0.371135870\n",
            "[666] -0.175684473 -0.371135870 -0.333907032 -0.361828660 -0.371135870\n",
            "[671] -0.371135870 -0.371135870 -0.371135870 -0.371135870 -0.371135870\n",
            "[676] -0.361828660 -0.324599823 -0.371135870 -0.287370985 -0.343214242\n",
            "[681] -0.361828660 -0.371135870  1.397233914 -0.352521451 -0.361828660\n",
            "[686] -0.371135870 -0.147762845 -0.371135870 -0.343214242 -0.240834938\n",
            "[691] -0.361828660 -0.371135870 -0.371135870 -0.361828660 -0.371135870\n",
            "[696]  1.294854610  1.108710423  2.542020668 -0.352521451 -0.361828660\n",
            "[701] -0.361828660 -0.361828660 -0.361828660 -0.371135870 -0.371135870\n",
            "[706] -0.371135870 -0.343214242 -0.371135870 -0.361828660 -0.333907032\n",
            "[711] -0.371135870 -0.371135870 -0.147762845 -0.361828660 -0.371135870\n",
            "[716] -0.371135870 -0.371135870 -0.371135870 -0.361828660 -0.361828660\n",
            "[721] -0.371135870 -0.371135870 -0.371135870 -0.371135870 -0.371135870\n",
            "[726] -0.371135870 -0.361828660 -0.371135870 -0.361828660 -0.371135870\n",
            "[731] -0.361828660 -0.371135870 -0.371135870 -0.371135870 -0.371135870\n",
            "[736] -0.352521451 -0.371135870 -0.361828660 -0.361828660 -0.371135870\n",
            "[741] -0.371135870 -0.361828660 -0.371135870 -0.371135870 -0.361828660\n",
            "[746] -0.343214242 -0.371135870 -0.371135870 -0.361828660 -0.343214242\n",
            "[751] -0.371135870 -0.361828660 -0.352521451  2.337262062  1.257625773\n",
            "[756] -0.371135870 -0.371135870 -0.361828660 -0.361828660 -0.371135870\n",
            "[761] -0.361828660 -0.371135870 -0.371135870 -0.371135870 -0.371135870\n",
            "[766] -0.371135870 -0.371135870 -0.371135870 -0.371135870 -0.371135870\n",
            "[771] -0.371135870 -0.371135870 -0.371135870 -0.371135870 -0.371135870\n",
            "[776] -0.371135870 -0.361828660 -0.371135870 -0.371135870 -0.371135870\n",
            "[781] -0.371135870 -0.371135870 -0.371135870 -0.371135870 -0.371135870\n",
            "[786] -0.371135870 -0.371135870 -0.371135870 -0.371135870 -0.371135870\n",
            "[791] -0.371135870 -0.371135870 -0.371135870 -0.371135870 -0.371135870\n",
            "[796] -0.371135870 -0.371135870 -0.371135870 -0.361828660 -0.371135870\n",
            "[801] -0.371135870 -0.371135870 -0.352521451 -0.371135870 -0.361828660\n",
            "[806] -0.343214242 -0.371135870 -0.371135870 -0.371135870 -0.371135870\n",
            "[811] -0.352521451 -0.371135870 -0.371135870 -0.371135870 -0.371135870\n",
            "[816] -0.371135870 -0.371135870 -0.371135870 -0.212913310 -0.259449357\n",
            "[821] -0.371135870 -0.352521451 -0.371135870 -0.371135870 -0.371135870\n",
            "[826] -0.278063776 -0.371135870 -0.371135870 -0.371135870 -0.371135870\n",
            "[831] -0.371135870 -0.371135870 -0.371135870 -0.371135870 -0.371135870\n",
            "[836] -0.361828660 -0.371135870 -0.371135870 -0.371135870 -0.371135870\n",
            "[841] -0.371135870 -0.371135870 -0.371135870 -0.371135870 -0.371135870\n",
            "[846] -0.371135870 -0.371135870 -0.371135870 -0.371135870 -0.361828660\n",
            "[851] -0.371135870 -0.361828660 -0.371135870 -0.361828660 -0.371135870\n",
            "[856] -0.371135870 -0.361828660 -0.371135870 -0.361828660 -0.371135870\n",
            "[861] -0.371135870 -0.371135870 -0.361828660 -0.371135870 -0.371135870\n",
            "[866] -0.371135870 -0.371135870 -0.371135870 -0.371135870 -0.371135870\n",
            "[871] -0.371135870 -0.371135870 -0.371135870 -0.371135870 -0.203606101\n",
            "[876] -0.194298891 -0.147762845 -0.250142148 -0.175684473 -0.138455635\n",
            "[881] -0.240834938 -0.063997960  0.103531809  2.346569271  2.206961130\n",
            "[886]  1.471691589  2.653707181  1.722986242  0.289675997  0.289675997\n",
            "[891] -0.166377263 -0.194298891 -0.138455635 -0.138455635 -0.296678195\n",
            "[896] -0.184991682 -0.203606101 -0.250142148 -0.240834938 -0.305985404\n",
            "[901] -0.305985404 -0.231527729 -0.371135870 -0.305985404 -0.371135870\n",
            "[906] -0.371135870 -0.287370985 -0.268756567 -0.045383541 -0.333907032\n",
            "[911] -0.101226798 -0.371135870 -0.371135870 -0.371135870 -0.371135870\n",
            "[916] -0.333907032 -0.296678195 -0.324599823 -0.371135870 -0.222220520\n",
            "[921] -0.203606101 -0.371135870 -0.222220520 -0.371135870 -0.352521451\n",
            "[926] -0.268756567 -0.240834938 -0.371135870 -0.371135870 -0.371135870\n",
            "[931] -0.371135870 -0.371135870 -0.371135870 -0.371135870 -0.371135870\n",
            "[936] -0.371135870 -0.371135870 -0.371135870 -0.371135870 -0.371135870\n",
            "[941] -0.371135870\n"
          ]
        }
      ]
    },
    {
      "cell_type": "markdown",
      "source": [
        "Determining the outliers of 'saturated_fat' by using the three sigma thumb rule."
      ],
      "metadata": {
        "id": "lNETlEVwyzDi"
      }
    },
    {
      "cell_type": "code",
      "source": [
        "#Determining outliers using box plot\n",
        "%%R\n",
        "\n",
        "boxplot(nutrition_subsetDF$saturated_fat,\n",
        "  ylab = \"saturated_fat\",\n",
        "  main = \"Boxplot\"\n",
        ")\n",
        "mtext(paste(\"Density Plot for saturated_fat Outliers\", paste(collapse = \", \")))"
      ],
      "metadata": {
        "colab": {
          "base_uri": "https://localhost:8080/",
          "height": 497
        },
        "id": "45JgV9lbVfxs",
        "outputId": "8df64828-5ed6-4012-d380-87e1d1386b43"
      },
      "execution_count": 60,
      "outputs": [
        {
          "output_type": "display_data",
          "data": {
            "image/png": "[encoded data removed]"
          },
          "metadata": {}
        }
      ]
    },
    {
      "cell_type": "code",
      "source": [
        "#Standardizing the 'weight_in_grams' by z-score.\n",
        "\n",
        "%%R\n",
        "nutrition_subsetDF$weight_in_grams <- scale(x = nutrition_subsetDF$weight_in_grams)\n",
        "\n",
        "summary(nutrition_subsetDF$weight_in_grams)"
      ],
      "metadata": {
        "colab": {
          "base_uri": "https://localhost:8080/"
        },
        "id": "RnSEUcDf_Ma2",
        "outputId": "dc1283cd-b004-4ea0-bbc5-90f5fd14bfa6"
      },
      "execution_count": 61,
      "outputs": [
        {
          "output_type": "stream",
          "name": "stdout",
          "text": [
            "       V1         \n",
            " Min.   :-0.8471  \n",
            " 1st Qu.:-0.6674  \n",
            " Median :-0.2070  \n",
            " Mean   : 0.0000  \n",
            " 3rd Qu.: 0.3899  \n",
            " Max.   : 7.9165  \n"
          ]
        }
      ]
    },
    {
      "cell_type": "markdown",
      "source": [
        "Standardizing the 'weight_in_grams' by z-score and creating density plot."
      ],
      "metadata": {
        "id": "hampQ108x274"
      }
    },
    {
      "cell_type": "code",
      "source": [
        "# Determine the three sigma rule first for weight_in_grams attribute\n",
        "%%R\n",
        "\n",
        "three_sigma_rule <- (nutrition_subsetDF$weight_in_grams < -3 | \n",
        "                     nutrition_subsetDF$weight_in_grams > 3 )\n",
        "\n",
        "\n",
        "# how many outliers are there?\n",
        "cat (\"There are\", sum(three_sigma_rule), \"outliers \\n\\n\")\n",
        "\n",
        "\n",
        "# The condition given as input to which() states that we want\n",
        "# all records whose scaled weight_in_grams values are less than −3 or greater than 3. \n",
        "\n",
        "# The which() command returns the row indices of all such records. \n",
        "\n",
        "\n",
        "cat(\"The scaled weight_in_grams values that are outliers: \\n\\n\")\n",
        "nutrition_subsetDF$weight_in_grams[which(three_sigma_rule)]\n",
        "\n",
        "\n",
        "cat(\"\\n\\nThe scaled weight_in_grams values that are NOT outliers: \\n\\n\")\n",
        "nutrition_subsetDF$weight_in_grams[which(!three_sigma_rule)]"
      ],
      "metadata": {
        "colab": {
          "base_uri": "https://localhost:8080/"
        },
        "id": "hjBXlrvNlBge",
        "outputId": "129cbee7-8d72-40c6-c7af-fe9a22035639"
      },
      "execution_count": 62,
      "outputs": [
        {
          "output_type": "stream",
          "name": "stdout",
          "text": [
            "There are 22 outliers \n",
            "\n",
            "The scaled weight_in_grams values that are outliers: \n",
            "\n",
            "\n",
            "\n",
            "The scaled weight_in_grams values that are NOT outliers: \n",
            "\n",
            "  [1] -0.809561060 -0.688191734 -0.809561060 -0.688191734 -0.280879688\n",
            "  [6] -0.820930552 -0.803876314 -0.576486477 -0.366150877 -0.462791558\n",
            " [11] -0.332042402 -0.167184770 -0.440052574 -0.468476304 -0.405944099\n",
            " [16] -0.440052574 -0.491215288 -0.292249180 -0.741344109 -0.360466131\n",
            " [21] -0.758398347 -0.496900034 -0.440052574 -0.485530542 -0.366150877\n",
            " [26] -0.366150877 -0.366150877 -0.422998337 -0.053489851 -0.468476304\n",
            " [31] -0.366150877 -0.366150877 -0.366150877 -0.688191734 -0.688191734\n",
            " [36] -0.688191734 -0.688191734 -0.445737320 -0.502584780 -0.440052574\n",
            " [41] -0.354781385 -0.394574607 -0.434367828 -0.599225461 -0.053489851\n",
            " [46] -0.366150877 -0.366150877 -0.366150877 -0.366150877 -0.366150877\n",
            " [51] -0.366150877 -0.025066121 -0.025066121 -0.570801731 -0.525323763\n",
            " [56] -0.366150877 -0.366150877 -0.366150877 -0.735659363 -0.803876314\n",
            " [61] -0.735659363 -0.053489851 -0.462791558 -0.206977991 -0.366150877\n",
            " [66] -0.366150877 -0.366150877 -0.366150877 -0.366150877 -0.366150877\n",
            " [71] -0.688191734 -0.688191734 -0.688191734 -0.688191734 -0.688191734\n",
            " [76] -0.688191734 -0.138761040 -0.587855969 -0.610594952 -0.610594952\n",
            " [81] -0.343411894 -0.366150877  0.406974570 -0.366150877 -0.366150877\n",
            " [86] -0.752713601 -0.775452585 -0.366150877 -0.440052574 -0.042120359\n",
            " [91] -0.690181396 -0.366150877 -0.366150877 -0.366150877 -0.366150877\n",
            " [96] -0.366150877 -0.688191734 -0.688191734 -0.688191734 -0.688191734\n",
            "[101] -0.688191734 -0.688191734 -0.688191734 -0.688191734 -0.633333936\n",
            "[106] -0.764083093 -0.081913581 -0.820930552 -0.366150877 -0.366150877\n",
            "[111] -0.366150877 -0.366150877 -0.525323763 -0.525323763 -0.525323763\n",
            "[116] -0.366150877 -0.366150877 -0.366150877 -0.366150877 -0.752713601\n",
            "[121] -0.688191734 -0.688191734 -0.688191734 -0.688191734 -0.688191734\n",
            "[126] -0.688191734 -0.688191734 -0.525323763 -0.025066121 -0.081913581\n",
            "[131] -0.337727148 -0.815245806 -0.610594952 -0.110337310 -0.110337310\n",
            "[136]  0.316018635  0.253486430 -0.775452585 -0.070544089 -0.070544089\n",
            "[141] -0.366150877  0.003357609  0.139791511 -0.809561060 -0.729974617\n",
            "[146] -0.167184770 -0.688191734 -0.688191734 -0.688191734 -0.688191734\n",
            "[151] -0.688191734 -0.688191734 -0.688191734 -0.688191734 -0.688191734\n",
            "[156] -0.688191734 -0.485530542 -0.525323763 -0.525323763  0.435398300\n",
            "[161] -0.212662737 -0.167184770 -0.593540715 -0.593540715 -0.718605125\n",
            "[166] -0.195608499 -0.064859343 -0.587855969 -0.280879688 -0.366150877\n",
            "[171] -0.803876314 -0.803876314 -0.803876314 -0.803876314 -0.758398347\n",
            "[176] -0.167184770 -0.758398347  0.429713554  0.571832202  0.344442365\n",
            "[181] -0.525323763 -0.292249180 -0.661757666 -0.707235633 -0.565116985\n",
            "[186] -0.565116985 -0.565116985 -0.610594952 -0.752713601 -0.502584780\n",
            "[191] -0.053489851  0.549093218  0.549093218  0.117052527 -0.593540715\n",
            "[196] -0.747028855  0.173899987 -0.388889861 -0.593540715  0.543408472\n",
            "[201] -0.690181396  0.117052527 -0.688191734 -0.688191734 -0.688191734\n",
            "[206] -0.688191734 -0.688191734 -0.688191734 -0.688191734 -0.688191734\n",
            "[211] -0.688191734 -0.688191734 -0.688191734 -0.688191734 -0.688191734\n",
            "[216] -0.688191734 -0.688191734 -0.688191734  0.719635596 -0.195608499\n",
            "[221] -0.138761040  0.571832202 -0.684496650 -0.462791558 -0.462791558\n",
            "[226] -0.565116985 -0.792506822 -0.735659363 -0.565116985 -0.678811904\n",
            "[231] -0.508269526 -0.508269526  0.344442365  0.469506775  1.731520373\n",
            "[236]  0.435398300  1.731520373 -0.138761040 -0.729974617 -0.729974617\n",
            "[241]  1.731520373  1.731520373 -0.667442412 -0.422998337 -0.422998337\n",
            "[246]  1.731520373  1.731520373 -0.479845796  0.077259306  0.514984743\n",
            "[251] -0.724289871 -0.724289871 -0.786822076  1.731520373 -0.155815278\n",
            "[256] -0.155815278 -0.593540715 -0.525323763 -0.525323763  0.122737273\n",
            "[261] -0.718605125 -0.718605125  0.458137283 -0.650388174 -0.650388174\n",
            "[266]  0.287594905  0.230747446  1.731520373  1.731520373  1.731520373\n",
            "[271]  0.514984743 -0.781137331  0.173899987 -0.576486477  0.117052527\n",
            "[276]  1.731520373 -0.081913581 -0.076228835 -0.707235633 -0.707235633\n",
            "[281] -0.707235633 -0.707235633 -0.707235633 -0.707235633 -0.707235633\n",
            "[286] -0.707235633  0.287594905  0.287594905  0.287594905 -0.064859343\n",
            "[291]  0.230747446  0.088628798  0.890177974  0.173899987  0.560462710\n",
            "[296]  0.202323716 -0.621964444 -0.167184770 -0.087598326 -0.087598326\n",
            "[301]  0.600255932  0.600255932  0.600255932 -0.695866142 -0.235401721\n",
            "[306] -0.695866142 -0.695866142  0.151161003 -0.303618672 -0.769767839\n",
            "[311] -0.769767839 -0.690181396 -0.690181396 -0.690181396 -0.690181396\n",
            "[316] -0.688191734 -0.688191734 -0.688191734 -0.688191734 -0.688191734\n",
            "[321] -0.688191734 -0.688191734 -0.688191734 -0.688191734 -0.688191734\n",
            "[326] -0.688191734 -0.688191734 -0.688191734 -0.688191734 -0.688191734\n",
            "[331] -0.688191734 -0.525323763 -0.440052574 -0.684496650  0.583201694\n",
            "[336] -0.593540715 -0.593540715 -0.678811904 -0.593540715 -0.508269526\n",
            "[341] -0.593540715 -0.593540715 -0.593540715 -0.678811904  0.173899987\n",
            "[346] -0.678811904 -0.764083093 -0.764083093  0.543408472  0.202323716\n",
            "[351] -0.053489851  2.072605129  1.595086470  0.600255932  0.600255932\n",
            "[356]  0.969764418 -0.667442412 -0.758398347  0.799222039  1.083459336\n",
            "[361] -0.479845796 -0.292249180  0.173899987 -0.565116985  2.760459387\n",
            "[366]  0.014727100  0.600255932  0.117052527 -0.553747493  0.736689834\n",
            "[371]  0.441083046 -0.650388174 -0.650388174 -0.548062747 -0.042120359\n",
            "[376] -0.326357656 -0.110337310 -0.110337310  0.441083046  0.657103391\n",
            "[381] -0.633333936  1.993018686  0.571832202 -0.064859343 -0.621964444\n",
            "[386] -0.621964444 -0.735659363 -0.735659363 -0.621964444  0.060205068\n",
            "[391] -0.735659363 -0.735659363  0.543408472  0.571832202 -0.729974617\n",
            "[396] -0.610594952 -0.729974617  0.117052527  0.117052527 -0.604910207\n",
            "[401] -0.360466131  0.145476257 -0.593540715 -0.593540715  0.304649143\n",
            "[406]  0.441083046  0.060205068 -0.457106812 -0.457106812 -0.053489851\n",
            "[411] -0.445737320 -0.576486477 -0.576486477 -0.303618672  0.657103391\n",
            "[416]  0.117052527  0.134106765 -0.707235633 -0.565116985 -0.565116985\n",
            "[421]  0.571832202 -0.565116985  0.014727100  0.594571186 -0.411628845\n",
            "[426] -0.411628845  0.759428818  0.031781338  0.475191521 -0.110337310\n",
            "[431]  0.640049153  0.640049153 -0.104652564 -0.252455959  0.651418645\n",
            "[436] -0.093283072  0.060205068 -0.394574607  0.514984743 -0.394574607\n",
            "[441] -0.542378001  0.543408472  0.543408472  0.543408472 -0.536693255\n",
            "[446]  0.560462710  0.571832202  0.571832202 -0.690181396 -0.531008509\n",
            "[451] -0.053489851 -0.053489851 -0.053489851 -0.688191734 -0.688191734\n",
            "[456] -0.688191734 -0.688191734 -0.688191734 -0.688191734  0.441083046\n",
            "[461] -0.036435613 -0.025066121  0.486561013  0.657103391  0.657103391\n",
            "[466] -0.678811904 -0.678811904 -0.508269526 -0.508269526 -0.508269526\n",
            "[471] -0.161500024  0.537723726  0.537723726  0.537723726  0.543408472\n",
            "[476]  0.543408472  0.202323716 -0.320672910  0.031781338  0.213693208\n",
            "[481]  0.037466084  0.571832202  0.571832202  0.571832202  0.759428818\n",
            "[486] -0.491215288 -0.491215288 -0.491215288  0.588886440  2.390950901\n",
            "[491]  0.230747446  0.060205068 -0.110337310 -0.110337310 -0.110337310\n",
            "[496] -0.110337310 -0.110337310 -0.110337310  0.082944052  0.082944052\n",
            "[501]  0.458137283 -0.661757666 -0.098967818  0.088628798  0.088628798\n",
            "[506]  0.117052527 -0.457106812  0.526354235 -0.258140704  0.543408472\n",
            "[511]  0.560462710  0.367181348  0.367181348  0.571832202  0.571832202\n",
            "[516]  0.173899987 -0.030750867  0.173899987  0.173899987  0.173899987\n",
            "[521]  0.185269478 -0.008011883  0.009042354 -0.633333936  0.031781338\n",
            "[526]  0.480876267  0.480876267  0.259171176  0.048835576  0.048835576\n",
            "[531]  0.048835576 -0.167184770 -0.621964444  0.514984743  0.298964397\n",
            "[536]  0.537723726  0.077259306  0.543408472  0.088628798  0.560462710\n",
            "[541] -0.144445786  0.560462710 -0.377520369  0.571832202 -0.610594952\n",
            "[546]  0.344442365  0.344442365  0.344442365  0.344442365 -0.366150877\n",
            "[551] -0.366150877 -0.366150877  0.361496602  0.134106765  0.145476257\n",
            "[556]  0.156845749  0.162530495 -0.593540715 -0.593540715 -0.593540715\n",
            "[561] -0.076228835 -0.053489851 -0.042120359 -0.042120359 -0.042120359\n",
            "[566]  0.503615251  0.503615251  0.509299997  0.537723726 -0.570801731\n",
            "[571]  0.543408472  0.003357609 -0.565116985 -0.280879688  0.014727100\n",
            "[576]  0.600255932  0.316018635  0.327388127  0.622994915  0.037466084\n",
            "[581]  0.037466084  0.037466084 -0.252455959  0.344442365  0.344442365\n",
            "[586]  0.344442365  0.048835576  0.702581359 -0.536693255  0.088628798\n",
            "[591] -0.531008509  0.117052527 -0.201293245 -0.519639018  0.514984743\n",
            "[596]  0.514984743  0.173899987 -0.167184770  0.520669489  0.520669489\n",
            "[601]  0.520669489  0.878808483  0.537723726  0.537723726  0.537723726\n",
            "[606]  0.537723726  0.537723726 -0.138761040 -0.138761040  0.571832202\n",
            "[611]  0.571832202 -0.138761040 -0.485530542  0.605940678  0.605940678\n",
            "[616]  0.605940678  0.605940678 -0.110337310 -0.104652564 -0.474161050\n",
            "[621] -0.081913581 -0.081913581 -0.081913581 -0.081913581 -0.081913581\n",
            "[626] -0.081913581 -0.081913581 -0.462791558 -0.070544089  0.321703381\n",
            "[631] -0.451422066 -0.451422066 -0.451422066 -0.451422066 -0.451422066\n",
            "[636] -0.042120359 -0.030750867 -0.440052574 -0.019381375 -0.428683083\n",
            "[641] -0.428683083  0.003357609 -0.422998337  0.009042354 -0.417313591\n",
            "[646] -0.417313591  0.037466084  0.037466084  0.503615251 -0.394574607\n",
            "[651] -0.394574607  0.514984743  0.060205068  0.514984743  0.526354235\n",
            "[656]  0.526354235  0.526354235  0.526354235  0.537723726  0.077259306\n",
            "[661]  0.543408472  0.543408472  0.571832202 -0.371835623 -0.371835623\n",
            "[666]  0.117052527  0.117052527  0.117052527  0.617310170  0.628679661\n",
            "[671] -0.354781385  0.634364407  0.168215241  0.173899987  0.173899987\n",
            "[676]  0.219377954  0.230747446 -0.303618672  0.247801684 -0.280879688\n",
            "[681]  0.316018635 -0.252455959  0.344442365  0.355811857 -0.246771213\n",
            "[686]  2.214723777 -0.224032229 -0.206977991 -0.206977991 -0.206977991\n",
            "[691] -0.206977991  0.441083046 -0.201293245 -0.195608499  0.492245759\n",
            "[696]  0.514984743  0.514984743 -0.167184770 -0.167184770 -0.167184770\n",
            "[701]  0.520669489  0.526354235  0.537723726  0.537723726  0.537723726\n",
            "[706]  0.537723726  0.537723726  0.543408472 -0.150130532 -0.150130532\n",
            "[711]  0.560462710  0.560462710  0.560462710  0.566147456  0.566147456\n",
            "[716]  0.571832202  0.571832202  0.605940678 -0.116022056 -0.104652564\n",
            "[721]  0.668472883 -0.081913581 -0.076228835 -0.053489851 -0.053489851\n",
            "[726] -0.047805105  0.765113564  0.765113564  0.765113564 -0.030750867\n",
            "[731] -0.025066121 -0.019381375 -0.019381375 -0.002327137  0.003357609\n",
            "[736]  0.026096592  0.031781338  0.037466084  0.060205068  1.890693259\n",
            "[741]  0.094313543  0.117052527  0.196638970  0.225062700  0.287594905\n",
            "[746]  0.327388127  0.378550840  0.441083046  0.441083046  0.458137283\n",
            "[751]  0.514984743  0.537723726  0.537723726  0.537723726  0.549093218\n",
            "[756]  0.549093218  0.554777964  0.554777964  0.554777964  0.554777964\n",
            "[761]  0.560462710  0.560462710  0.566147456  0.566147456  0.571832202\n",
            "[766]  0.571832202  0.571832202  0.577516948  0.583201694  0.583201694\n",
            "[771]  0.588886440  0.594571186  0.600255932  0.600255932  0.600255932\n",
            "[776]  0.600255932  0.605940678  0.617310170  0.617310170  0.725320342\n",
            "[781]  0.765113564  1.077774590  1.168730525  1.197154255 -0.847080383\n",
            "[786] -0.840827163 -0.837984790 -0.836279366 -0.837984790 -0.837416315\n",
            "[791] -0.621964444 -0.837416315 -0.834573942 -0.792506822 -0.837416315\n",
            "[796] -0.833436993 -0.832300044 -0.832300044 -0.688191734 -0.798191568\n",
            "[801]  0.401289824 -0.769767839 -0.820930552 -0.764083093 -0.775452585\n",
            "[806] -0.764083093 -0.479845796 -0.688191734 -0.735659363 -0.093283072\n",
            "[811] -0.434367828 -0.434367828 -0.769767839 -0.769767839 -0.769767839\n",
            "[816] -0.764083093 -0.764083093 -0.764083093 -0.764083093 -0.758398347\n",
            "[821] -0.758398347 -0.747028855 -0.747028855 -0.621964444  0.213693208\n",
            "[826] -0.729974617 -0.269510196  0.560462710 -0.690181396  0.600255932\n",
            "[831] -0.366150877 -0.688191734 -0.688191734 -0.688191734 -0.519639018\n",
            "[836] -0.519639018 -0.309303418 -0.269510196 -0.411628845 -0.411628845\n",
            "[841] -0.400259353 -0.388889861  0.230747446 -0.565116985 -0.263825450\n",
            "[846]  0.355811857  0.395605078 -0.525323763  0.213693208  0.588886440\n",
            "[851] -0.064859343  0.537723726  0.571832202  1.265371206  1.265371206\n",
            "[856]  0.389920332 -0.224032229  1.265371206  1.168730525  1.168730525\n",
            "[861]  1.168730525  0.185269478  1.248316968  1.254001714  0.202323716\n",
            "[866]  0.287594905  1.231262731  1.248316968  0.316018635 -0.769767839\n",
            "[871] -0.769767839 -0.769767839 -0.769767839 -0.769767839 -0.769767839\n",
            "[876] -0.769767839 -0.775452585 -0.775452585  0.378550840  0.378550840\n",
            "[881]  0.389920332  0.389920332  0.389920332  0.389920332  0.389920332\n",
            "[886]  0.316018635 -0.769767839 -0.769767839 -0.769767839 -0.769767839\n",
            "[891] -0.820930552 -0.820930552 -0.820930552 -0.769767839 -0.769767839\n",
            "[896] -0.764083093 -0.758398347 -0.820930552 -0.837984790 -0.758398347\n",
            "[901] -0.815245806 -0.764083093 -0.280879688 -0.781137331 -0.826615298\n",
            "[906] -0.769767839 -0.764083093 -0.832300044 -0.764083093 -0.610594952\n",
            "[911] -0.769767839 -0.610594952 -0.610594952 -0.826615298 -0.826615298\n",
            "[916] -0.764083093 -0.610594952 -0.781137331 -0.764083093 -0.832868519\n",
            "[921] -0.781137331 -0.832300044 -0.758398347 -0.764083093 -0.764083093\n",
            "[926] -0.827752247 -0.824909874 -0.309303418 -0.690181396  0.202323716\n",
            "[931] -0.764083093 -0.764083093  0.640049153  1.168730525  0.173899987\n",
            "[936]  0.514984743  0.520669489 -0.764083093 -0.818088179\n"
          ]
        }
      ]
    },
    {
      "cell_type": "markdown",
      "source": [
        "Determining the outliers of 'weight_in_grams' by using the three sigma thumb rule."
      ],
      "metadata": {
        "id": "c4Ll_BN6y-Lx"
      }
    },
    {
      "cell_type": "code",
      "source": [
        "#Determining outliers using box plot\n",
        "%%R\n",
        "\n",
        "boxplot(nutrition_subsetDF$weight_in_grams,\n",
        "  ylab = \"weight_in_grams\",\n",
        "  main = \"Boxplot\"\n",
        ")\n",
        "mtext(paste(\"Density Plot for weight_in_grams Outliers\", paste(collapse = \", \")))"
      ],
      "metadata": {
        "colab": {
          "base_uri": "https://localhost:8080/",
          "height": 497
        },
        "id": "EyAFeHpTV6Ol",
        "outputId": "a7ea2652-4e02-4a62-dd35-2c2b9d1a3986"
      },
      "execution_count": 63,
      "outputs": [
        {
          "output_type": "display_data",
          "data": {
            "image/png": "[encoded data removed]"
          },
          "metadata": {}
        }
      ]
    },
    {
      "cell_type": "code",
      "source": [
        "#Standardizing the 'Cholestrol' by z-score.\n",
        "\n",
        "%%R\n",
        "nutrition_subsetDF$scaled_cholesterol <- scale(x = nutrition_subsetDF$cholesterol)\n",
        "\n",
        "summary(nutrition_subsetDF$scaled_cholesterol)"
      ],
      "metadata": {
        "colab": {
          "base_uri": "https://localhost:8080/"
        },
        "id": "L_Jmm-ZH_V_p",
        "outputId": "6bd48a50-a9ee-41cb-9074-7c9ae5fd2172"
      },
      "execution_count": 64,
      "outputs": [
        {
          "output_type": "stream",
          "name": "stdout",
          "text": [
            "       V1         \n",
            " Min.   :-0.2714  \n",
            " 1st Qu.:-0.2714  \n",
            " Median :-0.2714  \n",
            " Mean   : 0.0000  \n",
            " 3rd Qu.:-0.1046  \n",
            " Max.   :16.8426  \n"
          ]
        }
      ]
    },
    {
      "cell_type": "markdown",
      "source": [
        "Standardizing the 'cholestrol' by z-score and creating density plot."
      ],
      "metadata": {
        "id": "UP7M-ouBx_Kt"
      }
    },
    {
      "cell_type": "code",
      "source": [
        "# Determine the three sigma rule first for Cholestrol attribute\n",
        "%%R\n",
        "\n",
        "three_sigma_rule <- (nutrition_subsetDF$scaled_cholesterol < -3 | \n",
        "                     nutrition_subsetDF$scaled_cholesterol > 3 )\n",
        "\n",
        "\n",
        "# how many outliers are there?\n",
        "cat (\"There are\", sum(three_sigma_rule), \"outliers \\n\\n\")\n",
        "\n",
        "\n",
        "# The condition given as input to which() states that we want\n",
        "# all records whose scaled cholesterol values are less than −3 or greater than 3. \n",
        "\n",
        "# The which() command returns the row indices of all such records. \n",
        "\n",
        "\n",
        "cat(\"The scaled cholestrol values that are outliers: \\n\\n\")\n",
        "nutrition_subsetDF$scaled_cholesterol[which(three_sigma_rule)]\n",
        "\n",
        "\n",
        "cat(\"\\n\\nThe scaled cholestrol values that are NOT outliers: \\n\\n\")\n",
        "nutrition_subsetDF$scaled_cholesterol[which(!three_sigma_rule)]"
      ],
      "metadata": {
        "colab": {
          "base_uri": "https://localhost:8080/"
        },
        "id": "Qoqqeudwlj7r",
        "outputId": "a850428f-c2bf-4fbc-c288-d6f9e2534d28"
      },
      "execution_count": 65,
      "outputs": [
        {
          "output_type": "stream",
          "name": "stdout",
          "text": [
            "There are 17 outliers \n",
            "\n",
            "The scaled cholestrol values that are outliers: \n",
            "\n",
            "\n",
            "\n",
            "The scaled cholestrol values that are NOT outliers: \n",
            "\n",
            "  [1] -0.271369038 -0.271369038 -0.271369038 -0.087975476  0.387180572\n",
            "  [6] -0.238024754 -0.271369038  0.220459152  0.128762371 -0.171336186\n",
            " [11] -0.129655831  0.420524856  0.112090229  0.362172359  0.353836288\n",
            " [16]  0.320492004  0.370508430  0.453869140 -0.137991902  0.337164146\n",
            " [21] -0.271369038  0.278811649  0.262139507  0.228795223  0.403852714\n",
            " [26]  0.270475578  0.220459152  0.162106655  0.612254490  0.328828075\n",
            " [31]  1.095746609  0.328828075  0.187114868 -0.271369038 -0.271369038\n",
            " [36] -0.146327973 -0.054631192  0.195450939  0.137098442  0.295483791\n",
            " [41]  0.428860927  0.378844501  0.270475578  0.070409874  0.695615200\n",
            " [46]  0.370508430  0.245467365  0.503885567  0.445533069  0.637262703\n",
            " [51] -0.271369038 -0.271369038  0.095418087  0.145434513  0.395516643\n",
            " [56]  0.453869140  0.378844501  0.778975910 -0.271369038 -0.137991902\n",
            " [61]  0.720623413  0.037065589  0.720623413  0.345500217  0.795648052\n",
            " [66]  0.320492004  0.387180572  0.303819862  0.228795223 -0.271369038\n",
            " [71] -0.271369038 -0.021286908 -0.071303334 -0.046295121 -0.104647618\n",
            " [76] -0.271369038 -0.046295121 -0.129655831 -0.129655831  0.495549495\n",
            " [81]  0.437196998  1.370836952  0.362172359  0.245467365 -0.121319760\n",
            " [86] -0.179672257  0.328828075  0.245467365  0.462205211 -0.054631192\n",
            " [91]  0.370508430  0.103754158  0.020393447  0.153770584  0.170442726\n",
            " [96] -0.271369038 -0.271369038 -0.271369038 -0.271369038 -0.121319760\n",
            "[101] -0.046295121 -0.096311547 -0.087975476 -0.046295121 -0.271369038\n",
            "[106] -0.271369038 -0.271369038  0.353836288  0.437196998  0.012057376\n",
            "[111]  0.220459152 -0.004614766 -0.037959050 -0.046295121  1.129090893\n",
            "[116]  0.278811649  0.295483791  0.187114868  1.504214089 -0.271369038\n",
            "[121] -0.271369038 -0.271369038 -0.271369038 -0.271369038 -0.271369038\n",
            "[126] -0.137991902 -0.004614766 -0.188008328  0.854000549  0.312155933\n",
            "[131] -0.263032967 -0.096311547 -0.271369038 -0.271369038  0.395516643\n",
            "[136]  0.595582348 -0.196344399 -0.271369038 -0.271369038  0.178778797\n",
            "[141]  0.187114868  0.320492004 -0.271369038 -0.238024754 -0.271369038\n",
            "[146] -0.271369038 -0.271369038 -0.271369038 -0.271369038 -0.271369038\n",
            "[151] -0.271369038 -0.271369038 -0.271369038 -0.229688683 -0.062967263\n",
            "[156]  0.062073803  0.470541282  0.037065589 -0.112983689  0.095418087\n",
            "[161] -0.271369038  0.103754158 -0.229688683 -0.271369038 -0.271369038\n",
            "[166]  1.504214089  1.487541947 -0.229688683  0.087082016 -0.263032967\n",
            "[171] -0.271369038 -0.271369038 -0.271369038 -0.271369038  0.195450939\n",
            "[176] -0.204680470  0.012057376  0.353836288 -0.012950837 -0.012950837\n",
            "[181] -0.004614766 -0.271369038 -0.271369038  1.504214089  1.495878018\n",
            "[186]  1.504214089 -0.054631192 -0.271369038  1.520886231  0.195450939\n",
            "[191]  0.362172359  0.762303768 -0.271369038  0.020393447 -0.271369038\n",
            "[196] -0.271369038 -0.096311547 -0.079639405  1.570902657 -0.271369038\n",
            "[201]  0.487213424 -0.271369038 -0.271369038 -0.271369038 -0.271369038\n",
            "[206] -0.271369038 -0.271369038 -0.271369038 -0.271369038 -0.271369038\n",
            "[211] -0.271369038 -0.271369038 -0.271369038 -0.271369038 -0.271369038\n",
            "[216] -0.229688683 -0.263032967 -0.271369038 -0.271369038 -0.271369038\n",
            "[221]  0.295483791 -0.271369038 -0.271369038  0.095418087 -0.271369038\n",
            "[226] -0.221352612 -0.271369038 -0.271369038 -0.271369038 -0.271369038\n",
            "[231] -0.271369038  0.078745945  0.195450939 -0.271369038 -0.062967263\n",
            "[236] -0.271369038 -0.271369038 -0.271369038 -0.271369038 -0.271369038\n",
            "[241] -0.271369038 -0.271369038  0.578910206  0.220459152 -0.271369038\n",
            "[246] -0.271369038  0.662270916 -0.271369038  0.587246277 -0.271369038\n",
            "[251] -0.271369038 -0.271369038 -0.271369038 -0.271369038 -0.271369038\n",
            "[256] -0.271369038 -0.163000115 -0.271369038 -0.271369038 -0.271369038\n",
            "[261] -0.271369038 -0.112983689 -0.171336186 -0.271369038  0.095418087\n",
            "[266] -0.271369038 -0.271369038 -0.271369038 -0.271369038  0.728959484\n",
            "[271] -0.238024754 -0.271369038 -0.087975476 -0.271369038 -0.271369038\n",
            "[276] -0.271369038  1.262468029 -0.271369038 -0.271369038 -0.271369038\n",
            "[281] -0.271369038 -0.271369038 -0.271369038 -0.271369038 -0.271369038\n",
            "[286] -0.271369038 -0.271369038 -0.271369038 -0.271369038 -0.271369038\n",
            "[291] -0.271369038  0.595582348 -0.271369038  0.470541282 -0.271369038\n",
            "[296] -0.271369038 -0.271369038 -0.271369038 -0.271369038 -0.021286908\n",
            "[301] -0.037959050 -0.196344399 -0.137991902 -0.271369038 -0.137991902\n",
            "[306] -0.104647618  2.104411202 -0.271369038 -0.271369038 -0.271369038\n",
            "[311] -0.271369038 -0.271369038 -0.271369038 -0.271369038 -0.271369038\n",
            "[316] -0.271369038 -0.271369038 -0.271369038 -0.271369038 -0.271369038\n",
            "[321] -0.271369038 -0.271369038 -0.271369038 -0.271369038 -0.271369038\n",
            "[326] -0.271369038 -0.071303334 -0.221352612 -0.012950837 -0.221352612\n",
            "[331]  0.137098442  0.120426300  0.262139507  0.345500217 -0.037959050\n",
            "[336] -0.071303334 -0.271369038  0.078745945 -0.096311547 -0.079639405\n",
            "[341]  0.103754158 -0.112983689 -0.271369038 -0.271369038 -0.004614766\n",
            "[346] -0.221352612 -0.246360825  0.320492004 -0.271369038 -0.271369038\n",
            "[351]  2.054394776 -0.188008328 -0.188008328 -0.271369038 -0.046295121\n",
            "[356] -0.196344399 -0.271369038  2.162763699  0.195450939 -0.271369038\n",
            "[361] -0.271369038 -0.104647618 -0.271369038  1.137426964 -0.271369038\n",
            "[366] -0.271369038 -0.254696896  0.170442726 -0.238024754 -0.112983689\n",
            "[371] -0.271369038 -0.271369038 -0.054631192  1.145763035 -0.271369038\n",
            "[376] -0.271369038 -0.154664044  2.046058705 -0.271369038 -0.271369038\n",
            "[381]  0.520557709 -0.271369038 -0.121319760 -0.263032967 -0.121319760\n",
            "[386] -0.062967263 -0.271369038 -0.271369038 -0.271369038  0.195450939\n",
            "[391] -0.079639405 -0.271369038 -0.229688683 -0.263032967 -0.271369038\n",
            "[396] -0.271369038 -0.104647618  0.237131294 -0.163000115 -0.246360825\n",
            "[401] -0.246360825  0.287147720 -0.188008328  0.145434513  0.037065589\n",
            "[406]  0.028729518 -0.271369038 -0.246360825 -0.087975476 -0.029622979\n",
            "[411]  0.345500217  0.037065589 -0.271369038  1.004049828 -0.154664044\n",
            "[416] -0.271369038 -0.271369038 -0.004614766 -0.087975476  0.637262703\n",
            "[421]  0.970705544  0.945697331 -0.271369038 -0.271369038  0.003721305\n",
            "[426] -0.271369038 -0.213016541 -0.271369038 -0.271369038 -0.271369038\n",
            "[431] -0.121319760 -0.271369038  0.012057376  0.112090229  0.220459152\n",
            "[436] -0.271369038 -0.271369038 -0.071303334 -0.204680470 -0.271369038\n",
            "[441] -0.121319760 -0.188008328 -0.229688683 -0.271369038 -0.087975476\n",
            "[446] -0.204680470 -0.271369038 -0.146327973 -0.046295121 -0.271369038\n",
            "[451] -0.271369038  0.920689117 -0.271369038 -0.271369038 -0.271369038\n",
            "[456] -0.271369038 -0.263032967 -0.263032967 -0.029622979 -0.271369038\n",
            "[461] -0.271369038 -0.163000115  0.003721305  0.012057376 -0.271369038\n",
            "[466] -0.271369038 -0.271369038 -0.271369038  0.112090229  0.312155933\n",
            "[471]  0.003721305 -0.121319760 -0.188008328 -0.196344399 -0.238024754\n",
            "[476] -0.271369038 -0.271369038 -0.271369038 -0.271369038 -0.271369038\n",
            "[481] -0.012950837 -0.129655831 -0.213016541 -0.021286908 -0.263032967\n",
            "[486] -0.271369038 -0.271369038 -0.246360825 -0.221352612 -0.271369038\n",
            "[491] -0.271369038 -0.271369038 -0.154664044 -0.146327973 -0.146327973\n",
            "[496] -0.146327973 -0.146327973 -0.271369038 -0.271369038  0.578910206\n",
            "[501] -0.271369038 -0.146327973 -0.271369038 -0.271369038 -0.271369038\n",
            "[506]  0.045401660  0.470541282 -0.271369038 -0.029622979 -0.046295121\n",
            "[511] -0.271369038 -0.271369038  1.145763035 -0.204680470 -0.271369038\n",
            "[516] -0.271369038 -0.271369038 -0.271369038 -0.271369038 -0.271369038\n",
            "[521]  0.462205211 -0.271369038 -0.271369038 -0.271369038 -0.271369038\n",
            "[526] -0.271369038 -0.271369038 -0.271369038 -0.271369038 -0.271369038\n",
            "[531] -0.271369038 -0.271369038 -0.271369038 -0.271369038  1.054066254\n",
            "[536] -0.271369038 -0.229688683 -0.271369038 -0.171336186 -0.271369038\n",
            "[541] -0.271369038 -0.129655831 -0.271369038 -0.104647618 -0.271369038\n",
            "[546] -0.246360825 -0.213016541 -0.271369038 -0.271369038 -0.271369038\n",
            "[551] -0.271369038 -0.154664044 -0.163000115 -0.271369038 -0.271369038\n",
            "[556] -0.271369038 -0.271369038 -0.271369038 -0.271369038 -0.271369038\n",
            "[561] -0.271369038 -0.271369038 -0.271369038 -0.271369038  0.112090229\n",
            "[566] -0.271369038 -0.271369038 -0.263032967 -0.271369038 -0.229688683\n",
            "[571]  2.446190114  1.937689782 -0.229688683 -0.271369038 -0.046295121\n",
            "[576] -0.271369038 -0.271369038 -0.271369038 -0.204680470 -0.271369038\n",
            "[581] -0.271369038 -0.271369038  0.162106655 -0.271369038 -0.271369038\n",
            "[586] -0.271369038 -0.271369038 -0.238024754 -0.029622979 -0.238024754\n",
            "[591] -0.271369038 -0.271369038 -0.271369038 -0.271369038 -0.271369038\n",
            "[596] -0.271369038 -0.271369038 -0.271369038 -0.271369038 -0.271369038\n",
            "[601] -0.271369038 -0.271369038 -0.254696896 -0.213016541 -0.213016541\n",
            "[606] -0.271369038 -0.271369038 -0.271369038 -0.271369038 -0.271369038\n",
            "[611] -0.254696896 -0.271369038 -0.271369038 -0.271369038 -0.271369038\n",
            "[616] -0.271369038 -0.271369038 -0.271369038 -0.271369038 -0.271369038\n",
            "[621] -0.271369038 -0.271369038 -0.271369038 -0.271369038 -0.271369038\n",
            "[626] -0.271369038 -0.271369038 -0.271369038 -0.271369038 -0.271369038\n",
            "[631] -0.271369038 -0.271369038 -0.271369038 -0.263032967 -0.271369038\n",
            "[636] -0.271369038 -0.271369038 -0.271369038 -0.271369038 -0.263032967\n",
            "[641] -0.271369038 -0.271369038 -0.271369038 -0.271369038 -0.271369038\n",
            "[646] -0.271369038 -0.271369038 -0.271369038 -0.271369038 -0.271369038\n",
            "[651] -0.271369038 -0.271369038 -0.271369038 -0.271369038 -0.271369038\n",
            "[656] -0.271369038 -0.271369038 -0.271369038 -0.271369038 -0.271369038\n",
            "[661] -0.271369038 -0.271369038 -0.188008328 -0.271369038 -0.271369038\n",
            "[666] -0.271369038 -0.271369038 -0.271369038 -0.271369038 -0.271369038\n",
            "[671] -0.271369038 -0.271369038 -0.271369038 -0.246360825 -0.271369038\n",
            "[676] -0.254696896 -0.271369038 -0.271369038 -0.271369038  0.670606987\n",
            "[681] -0.254696896 -0.271369038 -0.271369038 -0.154664044 -0.271369038\n",
            "[686] -0.271369038 -0.204680470 -0.271369038 -0.271369038 -0.271369038\n",
            "[691] -0.271369038 -0.271369038  1.787640503  1.787640503 -0.271369038\n",
            "[696] -0.271369038 -0.271369038 -0.271369038 -0.271369038 -0.271369038\n",
            "[701] -0.271369038 -0.271369038 -0.271369038 -0.271369038 -0.271369038\n",
            "[706] -0.271369038 -0.271369038 -0.271369038 -0.271369038 -0.271369038\n",
            "[711] -0.271369038 -0.254696896 -0.271369038 -0.271369038 -0.271369038\n",
            "[716] -0.271369038 -0.271369038 -0.271369038 -0.271369038 -0.271369038\n",
            "[721] -0.271369038 -0.271369038 -0.271369038 -0.271369038 -0.271369038\n",
            "[726] -0.271369038 -0.271369038 -0.271369038 -0.271369038 -0.271369038\n",
            "[731] -0.271369038 -0.271369038 -0.271369038 -0.271369038 -0.271369038\n",
            "[736] -0.271369038 -0.271369038 -0.271369038 -0.271369038 -0.271369038\n",
            "[741] -0.271369038 -0.271369038 -0.271369038 -0.271369038 -0.271369038\n",
            "[746] -0.271369038 -0.271369038 -0.271369038 -0.271369038 -0.271369038\n",
            "[751] -0.271369038 -0.271369038 -0.271369038 -0.271369038 -0.271369038\n",
            "[756] -0.271369038 -0.271369038 -0.271369038 -0.271369038 -0.271369038\n",
            "[761] -0.271369038 -0.271369038 -0.271369038 -0.271369038 -0.271369038\n",
            "[766] -0.271369038 -0.271369038 -0.271369038 -0.271369038 -0.271369038\n",
            "[771] -0.271369038 -0.271369038 -0.271369038 -0.271369038 -0.271369038\n",
            "[776] -0.271369038 -0.271369038 -0.271369038 -0.271369038 -0.271369038\n",
            "[781] -0.271369038 -0.271369038 -0.271369038 -0.271369038 -0.271369038\n",
            "[786] -0.271369038 -0.271369038 -0.271369038 -0.271369038 -0.271369038\n",
            "[791] -0.271369038 -0.271369038 -0.271369038 -0.271369038 -0.271369038\n",
            "[796] -0.271369038 -0.271369038 -0.271369038 -0.271369038 -0.271369038\n",
            "[801] -0.271369038 -0.271369038 -0.271369038 -0.271369038 -0.271369038\n",
            "[806] -0.271369038 -0.271369038 -0.271369038 -0.271369038 -0.271369038\n",
            "[811] -0.271369038 -0.271369038 -0.271369038 -0.271369038 -0.271369038\n",
            "[816] -0.271369038 -0.271369038 -0.204680470 -0.238024754 -0.271369038\n",
            "[821] -0.254696896 -0.271369038 -0.271369038 -0.271369038 -0.238024754\n",
            "[826] -0.271369038 -0.271369038 -0.271369038 -0.271369038 -0.271369038\n",
            "[831] -0.271369038 -0.271369038 -0.271369038 -0.271369038 -0.271369038\n",
            "[836] -0.271369038 -0.271369038 -0.271369038 -0.271369038 -0.271369038\n",
            "[841] -0.271369038 -0.271369038 -0.271369038 -0.271369038 -0.271369038\n",
            "[846] -0.271369038 -0.271369038 -0.271369038 -0.271369038 -0.271369038\n",
            "[851] -0.271369038 -0.271369038 -0.271369038 -0.271369038 -0.271369038\n",
            "[856] -0.271369038 -0.271369038 -0.271369038 -0.271369038 -0.271369038\n",
            "[861] -0.271369038 -0.271369038 -0.271369038 -0.271369038 -0.271369038\n",
            "[866] -0.271369038 -0.271369038 -0.271369038 -0.271369038 -0.271369038\n",
            "[871] -0.271369038 -0.271369038 -0.271369038  1.354164810 -0.271369038\n",
            "[876] -0.271369038 -0.271369038 -0.271369038 -0.271369038 -0.271369038\n",
            "[881] -0.271369038 -0.271369038 -0.171336186 -0.271369038 -0.271369038\n",
            "[886] -0.271369038 -0.271369038 -0.271369038 -0.271369038 -0.271369038\n",
            "[891] -0.271369038 -0.012950837 -0.012950837 -0.271369038 -0.271369038\n",
            "[896] -0.179672257 -0.179672257 -0.271369038 -0.271369038 -0.271369038\n",
            "[901] -0.271369038 -0.271369038 -0.271369038 -0.271369038 -0.271369038\n",
            "[906] -0.271369038 -0.238024754 -0.271369038 -0.271369038 -0.271369038\n",
            "[911] -0.271369038 -0.096311547 -0.254696896 -0.129655831 -0.271369038\n",
            "[916] -0.271369038 -0.271369038 -0.271369038 -0.271369038 -0.271369038\n",
            "[921] -0.238024754 -0.271369038 -0.229688683 -0.188008328 -0.271369038\n",
            "[926] -0.263032967 -0.271369038 -0.271369038 -0.221352612 -0.271369038\n",
            "[931] -0.271369038 -0.271369038 -0.271369038 -0.271369038 -0.271369038\n",
            "[936] -0.271369038 -0.271369038 -0.271369038 -0.271369038 -0.271369038\n",
            "[941] -0.271369038 -0.271369038 -0.271369038 -0.271369038\n"
          ]
        }
      ]
    },
    {
      "cell_type": "markdown",
      "source": [
        "Determining the outliers of 'cholestrol' by using the three sigma thumb rule."
      ],
      "metadata": {
        "id": "bUxFKgqrzKB0"
      }
    },
    {
      "cell_type": "code",
      "source": [
        "#Determining outliers using box plot\n",
        "%%R\n",
        "boxplot(nutrition_subsetDF$cholesterol,\n",
        "  ylab = \"cholesterol\"\n",
        ")\n"
      ],
      "metadata": {
        "colab": {
          "base_uri": "https://localhost:8080/",
          "height": 497
        },
        "id": "07aOQUYwWO4g",
        "outputId": "a32973ea-f6f2-400d-c066-f2689e76f191"
      },
      "execution_count": 69,
      "outputs": [
        {
          "output_type": "display_data",
          "data": {
            "image/png": "[encoded data removed]"
          },
          "metadata": {}
        }
      ]
    },
    {
      "cell_type": "markdown",
      "source": [
        "**Summary:**\n",
        "* After sorting the data set based on the saturated_fat, we can observe that 'Cheese cake' has highest saturated_fat of 119.9(120).\n",
        "* 1 cake of 'cheese cake' and 1/2gal of 'ice cream,vanila' has almost same amounts of the weight_in_grams and saturated fat but they differ in amount of cholestrol levels.\n",
        "* 1 Cake of 'yellow cake' and 1/2 gal of 'ice cream,vanila' has only some differences in weight_in_grams, and some amount of difference in saturated fat and major difference in the amount of cholestrol.\n",
        "* 1 Cake of 'yellow cake' and 1 pie of 'creme pie' has almost same amounts of saturated fat, and some amount of difference in weight_in_grams and major difference in the amount of cholestrol. \n",
        "* 1 cup of 'Lard' is not comparable with the top 4 values because their is a huge difference between the values.\n",
        "* After sorting the data set based on the saturated_fat_per_gram, we can observe that 'Butter,salted and Butter,unsalted' has same saturated_fat_per_gram and they have the highest saturated_fat_per_gram of 0.507.\n",
        "* There are 15 outliers for 'saturated_fat_per_gram' field and the values from 0.12 are outliers.\n",
        "* There are no missing values.\n",
        "* There are 22 outliers for 'weight_in_grams' field and the values from 514 are outliers.\n",
        "* There are 20 outliers for 'saturated_fat' field and the values from 8.3 are outliers.\n",
        "* There are 17 outliers for 'cholestrol' field and the values from 51 are outliers."
      ],
      "metadata": {
        "id": "mayeI-5c6YLz"
      }
    }
  ]
}